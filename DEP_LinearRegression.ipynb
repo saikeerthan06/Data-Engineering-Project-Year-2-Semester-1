{
 "cells": [
  {
   "cell_type": "markdown",
   "metadata": {},
   "source": [
    "# EGT209 - Data Engineering Project Analysis"
   ]
  },
  {
   "cell_type": "markdown",
   "metadata": {},
   "source": [
    "In order to have derive better analysis for the data we collected using Arduino, we decided to implement a Machine Learning Model to help us predict the Temperature, Air Quality and the Humidity for the coming 2 weeks. In order to ensure the safety of the environment, we also decided to implement Isolation Forest to check for any anomalies in the data for Temperature, Air Quality and Humidity. "
   ]
  },
  {
   "cell_type": "markdown",
   "metadata": {},
   "source": [
    "## Data Cleaning"
   ]
  },
  {
   "cell_type": "code",
   "execution_count": 78,
   "metadata": {},
   "outputs": [],
   "source": [
    "import pandas as pd\n",
    "import numpy as np \n",
    "from sklearn.linear_model import LinearRegression\n",
    "from sklearn.metrics import classification_report, mean_squared_error, r2_score\n",
    "from sklearn.ensemble import IsolationForest\n",
    "from sklearn.model_selection import train_test_split, GridSearchCV\n",
    "from sklearn.linear_model import Ridge, Lasso\n",
    "from sklearn.preprocessing import StandardScaler\n",
    "from sklearn.pipeline import Pipeline\n",
    "from sklearn.preprocessing import PolynomialFeatures\n",
    "from sklearn.preprocessing import StandardScaler, OneHotEncoder\n",
    "from sklearn.decomposition import PCA\n",
    "from sklearn.pipeline import Pipeline\n",
    "from sklearn.compose import ColumnTransformer\n",
    "import plotly.express as px\n",
    "import plotly.figure_factory as ff \n"
   ]
  },
  {
   "cell_type": "code",
   "execution_count": 79,
   "metadata": {},
   "outputs": [
    {
     "data": {
      "text/html": [
       "<div>\n",
       "<style scoped>\n",
       "    .dataframe tbody tr th:only-of-type {\n",
       "        vertical-align: middle;\n",
       "    }\n",
       "\n",
       "    .dataframe tbody tr th {\n",
       "        vertical-align: top;\n",
       "    }\n",
       "\n",
       "    .dataframe thead th {\n",
       "        text-align: right;\n",
       "    }\n",
       "</style>\n",
       "<table border=\"1\" class=\"dataframe\">\n",
       "  <thead>\n",
       "    <tr style=\"text-align: right;\">\n",
       "      <th></th>\n",
       "      <th>id</th>\n",
       "      <th>clientID</th>\n",
       "      <th>topic</th>\n",
       "      <th>message</th>\n",
       "      <th>timestamp</th>\n",
       "    </tr>\n",
       "  </thead>\n",
       "  <tbody>\n",
       "    <tr>\n",
       "      <th>0</th>\n",
       "      <td>12</td>\n",
       "      <td>23.1;62.9;18</td>\n",
       "      <td>t4g1</td>\n",
       "      <td>NaN</td>\n",
       "      <td>2024-07-09 13:00:18</td>\n",
       "    </tr>\n",
       "    <tr>\n",
       "      <th>1</th>\n",
       "      <td>13</td>\n",
       "      <td>23.1;62.8;23</td>\n",
       "      <td>t4g1</td>\n",
       "      <td>NaN</td>\n",
       "      <td>2024-07-09 13:00:34</td>\n",
       "    </tr>\n",
       "    <tr>\n",
       "      <th>2</th>\n",
       "      <td>14</td>\n",
       "      <td>23.1;62.8;23</td>\n",
       "      <td>t4g1</td>\n",
       "      <td>NaN</td>\n",
       "      <td>2024-07-09 13:00:48</td>\n",
       "    </tr>\n",
       "    <tr>\n",
       "      <th>3</th>\n",
       "      <td>15</td>\n",
       "      <td>23.1;62.7;23</td>\n",
       "      <td>t4g1</td>\n",
       "      <td>NaN</td>\n",
       "      <td>2024-07-09 13:01:04</td>\n",
       "    </tr>\n",
       "    <tr>\n",
       "      <th>4</th>\n",
       "      <td>16</td>\n",
       "      <td>23.0;63.2;23</td>\n",
       "      <td>t4g1</td>\n",
       "      <td>NaN</td>\n",
       "      <td>2024-07-09 13:01:19</td>\n",
       "    </tr>\n",
       "    <tr>\n",
       "      <th>...</th>\n",
       "      <td>...</td>\n",
       "      <td>...</td>\n",
       "      <td>...</td>\n",
       "      <td>...</td>\n",
       "      <td>...</td>\n",
       "    </tr>\n",
       "    <tr>\n",
       "      <th>1493</th>\n",
       "      <td>1505</td>\n",
       "      <td>t4g1:139</td>\n",
       "      <td>t4g1</td>\n",
       "      <td>31.3;48.5;42</td>\n",
       "      <td>2024-07-29 19:09:49</td>\n",
       "    </tr>\n",
       "    <tr>\n",
       "      <th>1494</th>\n",
       "      <td>1506</td>\n",
       "      <td>t4g1:139</td>\n",
       "      <td>t4g1</td>\n",
       "      <td>31.7;49.2;40</td>\n",
       "      <td>2024-07-29 19:19:49</td>\n",
       "    </tr>\n",
       "    <tr>\n",
       "      <th>1495</th>\n",
       "      <td>1507</td>\n",
       "      <td>t4g1:139</td>\n",
       "      <td>t4g1</td>\n",
       "      <td>31.9;49.5;40</td>\n",
       "      <td>2024-07-29 19:29:49</td>\n",
       "    </tr>\n",
       "    <tr>\n",
       "      <th>1496</th>\n",
       "      <td>1508</td>\n",
       "      <td>t4g1:139</td>\n",
       "      <td>t4g1</td>\n",
       "      <td>32.0;50.2;39</td>\n",
       "      <td>2024-07-29 19:39:51</td>\n",
       "    </tr>\n",
       "    <tr>\n",
       "      <th>1497</th>\n",
       "      <td>1509</td>\n",
       "      <td>t4g1:139</td>\n",
       "      <td>t4g1</td>\n",
       "      <td>32.1;50.9;40</td>\n",
       "      <td>2024-07-29 19:49:50</td>\n",
       "    </tr>\n",
       "  </tbody>\n",
       "</table>\n",
       "<p>1498 rows × 5 columns</p>\n",
       "</div>"
      ],
      "text/plain": [
       "        id      clientID topic       message            timestamp\n",
       "0       12  23.1;62.9;18  t4g1           NaN  2024-07-09 13:00:18\n",
       "1       13  23.1;62.8;23  t4g1           NaN  2024-07-09 13:00:34\n",
       "2       14  23.1;62.8;23  t4g1           NaN  2024-07-09 13:00:48\n",
       "3       15  23.1;62.7;23  t4g1           NaN  2024-07-09 13:01:04\n",
       "4       16  23.0;63.2;23  t4g1           NaN  2024-07-09 13:01:19\n",
       "...    ...           ...   ...           ...                  ...\n",
       "1493  1505      t4g1:139  t4g1  31.3;48.5;42  2024-07-29 19:09:49\n",
       "1494  1506      t4g1:139  t4g1  31.7;49.2;40  2024-07-29 19:19:49\n",
       "1495  1507      t4g1:139  t4g1  31.9;49.5;40  2024-07-29 19:29:49\n",
       "1496  1508      t4g1:139  t4g1  32.0;50.2;39  2024-07-29 19:39:51\n",
       "1497  1509      t4g1:139  t4g1  32.1;50.9;40  2024-07-29 19:49:50\n",
       "\n",
       "[1498 rows x 5 columns]"
      ]
     },
     "execution_count": 79,
     "metadata": {},
     "output_type": "execute_result"
    }
   ],
   "source": [
    "df = pd.read_csv('output_data.csv')\n",
    "\n",
    "df"
   ]
  },
  {
   "cell_type": "code",
   "execution_count": 80,
   "metadata": {},
   "outputs": [
    {
     "data": {
      "text/html": [
       "<div>\n",
       "<style scoped>\n",
       "    .dataframe tbody tr th:only-of-type {\n",
       "        vertical-align: middle;\n",
       "    }\n",
       "\n",
       "    .dataframe tbody tr th {\n",
       "        vertical-align: top;\n",
       "    }\n",
       "\n",
       "    .dataframe thead th {\n",
       "        text-align: right;\n",
       "    }\n",
       "</style>\n",
       "<table border=\"1\" class=\"dataframe\">\n",
       "  <thead>\n",
       "    <tr style=\"text-align: right;\">\n",
       "      <th></th>\n",
       "      <th>clientID</th>\n",
       "      <th>topic</th>\n",
       "      <th>message</th>\n",
       "      <th>timestamp</th>\n",
       "    </tr>\n",
       "    <tr>\n",
       "      <th>id</th>\n",
       "      <th></th>\n",
       "      <th></th>\n",
       "      <th></th>\n",
       "      <th></th>\n",
       "    </tr>\n",
       "  </thead>\n",
       "  <tbody>\n",
       "    <tr>\n",
       "      <th>12</th>\n",
       "      <td>23.1;62.9;18</td>\n",
       "      <td>t4g1</td>\n",
       "      <td>NaN</td>\n",
       "      <td>2024-07-09 13:00:18</td>\n",
       "    </tr>\n",
       "    <tr>\n",
       "      <th>13</th>\n",
       "      <td>23.1;62.8;23</td>\n",
       "      <td>t4g1</td>\n",
       "      <td>NaN</td>\n",
       "      <td>2024-07-09 13:00:34</td>\n",
       "    </tr>\n",
       "    <tr>\n",
       "      <th>14</th>\n",
       "      <td>23.1;62.8;23</td>\n",
       "      <td>t4g1</td>\n",
       "      <td>NaN</td>\n",
       "      <td>2024-07-09 13:00:48</td>\n",
       "    </tr>\n",
       "    <tr>\n",
       "      <th>15</th>\n",
       "      <td>23.1;62.7;23</td>\n",
       "      <td>t4g1</td>\n",
       "      <td>NaN</td>\n",
       "      <td>2024-07-09 13:01:04</td>\n",
       "    </tr>\n",
       "    <tr>\n",
       "      <th>16</th>\n",
       "      <td>23.0;63.2;23</td>\n",
       "      <td>t4g1</td>\n",
       "      <td>NaN</td>\n",
       "      <td>2024-07-09 13:01:19</td>\n",
       "    </tr>\n",
       "  </tbody>\n",
       "</table>\n",
       "</div>"
      ],
      "text/plain": [
       "        clientID topic message            timestamp\n",
       "id                                                 \n",
       "12  23.1;62.9;18  t4g1     NaN  2024-07-09 13:00:18\n",
       "13  23.1;62.8;23  t4g1     NaN  2024-07-09 13:00:34\n",
       "14  23.1;62.8;23  t4g1     NaN  2024-07-09 13:00:48\n",
       "15  23.1;62.7;23  t4g1     NaN  2024-07-09 13:01:04\n",
       "16  23.0;63.2;23  t4g1     NaN  2024-07-09 13:01:19"
      ]
     },
     "execution_count": 80,
     "metadata": {},
     "output_type": "execute_result"
    }
   ],
   "source": [
    "# Set the 'id' column as the index of the dataset\n",
    "df.set_index('id', inplace=True)\n",
    "\n",
    "# Display the first few rows of the updated dataset\n",
    "df.head()\n"
   ]
  },
  {
   "cell_type": "code",
   "execution_count": 81,
   "metadata": {},
   "outputs": [
    {
     "data": {
      "text/html": [
       "<div>\n",
       "<style scoped>\n",
       "    .dataframe tbody tr th:only-of-type {\n",
       "        vertical-align: middle;\n",
       "    }\n",
       "\n",
       "    .dataframe tbody tr th {\n",
       "        vertical-align: top;\n",
       "    }\n",
       "\n",
       "    .dataframe thead th {\n",
       "        text-align: right;\n",
       "    }\n",
       "</style>\n",
       "<table border=\"1\" class=\"dataframe\">\n",
       "  <thead>\n",
       "    <tr style=\"text-align: right;\">\n",
       "      <th></th>\n",
       "      <th>clientID</th>\n",
       "      <th>topic</th>\n",
       "      <th>message</th>\n",
       "      <th>timestamp</th>\n",
       "    </tr>\n",
       "    <tr>\n",
       "      <th>id</th>\n",
       "      <th></th>\n",
       "      <th></th>\n",
       "      <th></th>\n",
       "      <th></th>\n",
       "    </tr>\n",
       "  </thead>\n",
       "  <tbody>\n",
       "    <tr>\n",
       "      <th>312</th>\n",
       "      <td>t4g1:139</td>\n",
       "      <td>t4g1</td>\n",
       "      <td>23.9;69.1;24</td>\n",
       "      <td>2024-07-15 16:41:47</td>\n",
       "    </tr>\n",
       "    <tr>\n",
       "      <th>313</th>\n",
       "      <td>t4g1:139</td>\n",
       "      <td>t4g1</td>\n",
       "      <td>26.2;61.6;26</td>\n",
       "      <td>2024-07-15 17:07:16</td>\n",
       "    </tr>\n",
       "    <tr>\n",
       "      <th>314</th>\n",
       "      <td>t4g1:139</td>\n",
       "      <td>t4g1</td>\n",
       "      <td>26.9;59.5;27</td>\n",
       "      <td>2024-07-15 17:17:16</td>\n",
       "    </tr>\n",
       "    <tr>\n",
       "      <th>315</th>\n",
       "      <td>t4g1:139</td>\n",
       "      <td>t4g1</td>\n",
       "      <td>26.7;59.8;28</td>\n",
       "      <td>2024-07-15 17:27:17</td>\n",
       "    </tr>\n",
       "    <tr>\n",
       "      <th>316</th>\n",
       "      <td>t4g1:139</td>\n",
       "      <td>t4g1</td>\n",
       "      <td>26.6;60.2;28</td>\n",
       "      <td>2024-07-15 17:37:17</td>\n",
       "    </tr>\n",
       "    <tr>\n",
       "      <th>...</th>\n",
       "      <td>...</td>\n",
       "      <td>...</td>\n",
       "      <td>...</td>\n",
       "      <td>...</td>\n",
       "    </tr>\n",
       "    <tr>\n",
       "      <th>1505</th>\n",
       "      <td>t4g1:139</td>\n",
       "      <td>t4g1</td>\n",
       "      <td>31.3;48.5;42</td>\n",
       "      <td>2024-07-29 19:09:49</td>\n",
       "    </tr>\n",
       "    <tr>\n",
       "      <th>1506</th>\n",
       "      <td>t4g1:139</td>\n",
       "      <td>t4g1</td>\n",
       "      <td>31.7;49.2;40</td>\n",
       "      <td>2024-07-29 19:19:49</td>\n",
       "    </tr>\n",
       "    <tr>\n",
       "      <th>1507</th>\n",
       "      <td>t4g1:139</td>\n",
       "      <td>t4g1</td>\n",
       "      <td>31.9;49.5;40</td>\n",
       "      <td>2024-07-29 19:29:49</td>\n",
       "    </tr>\n",
       "    <tr>\n",
       "      <th>1508</th>\n",
       "      <td>t4g1:139</td>\n",
       "      <td>t4g1</td>\n",
       "      <td>32.0;50.2;39</td>\n",
       "      <td>2024-07-29 19:39:51</td>\n",
       "    </tr>\n",
       "    <tr>\n",
       "      <th>1509</th>\n",
       "      <td>t4g1:139</td>\n",
       "      <td>t4g1</td>\n",
       "      <td>32.1;50.9;40</td>\n",
       "      <td>2024-07-29 19:49:50</td>\n",
       "    </tr>\n",
       "  </tbody>\n",
       "</table>\n",
       "<p>1198 rows × 4 columns</p>\n",
       "</div>"
      ],
      "text/plain": [
       "      clientID topic       message            timestamp\n",
       "id                                                     \n",
       "312   t4g1:139  t4g1  23.9;69.1;24  2024-07-15 16:41:47\n",
       "313   t4g1:139  t4g1  26.2;61.6;26  2024-07-15 17:07:16\n",
       "314   t4g1:139  t4g1  26.9;59.5;27  2024-07-15 17:17:16\n",
       "315   t4g1:139  t4g1  26.7;59.8;28  2024-07-15 17:27:17\n",
       "316   t4g1:139  t4g1  26.6;60.2;28  2024-07-15 17:37:17\n",
       "...        ...   ...           ...                  ...\n",
       "1505  t4g1:139  t4g1  31.3;48.5;42  2024-07-29 19:09:49\n",
       "1506  t4g1:139  t4g1  31.7;49.2;40  2024-07-29 19:19:49\n",
       "1507  t4g1:139  t4g1  31.9;49.5;40  2024-07-29 19:29:49\n",
       "1508  t4g1:139  t4g1  32.0;50.2;39  2024-07-29 19:39:51\n",
       "1509  t4g1:139  t4g1  32.1;50.9;40  2024-07-29 19:49:50\n",
       "\n",
       "[1198 rows x 4 columns]"
      ]
     },
     "execution_count": 81,
     "metadata": {},
     "output_type": "execute_result"
    }
   ],
   "source": [
    "data_removed = df.drop(index=range(12,312))\n",
    "df = data_removed\n",
    "\n",
    "df"
   ]
  },
  {
   "cell_type": "code",
   "execution_count": 82,
   "metadata": {},
   "outputs": [
    {
     "data": {
      "text/html": [
       "<div>\n",
       "<style scoped>\n",
       "    .dataframe tbody tr th:only-of-type {\n",
       "        vertical-align: middle;\n",
       "    }\n",
       "\n",
       "    .dataframe tbody tr th {\n",
       "        vertical-align: top;\n",
       "    }\n",
       "\n",
       "    .dataframe thead th {\n",
       "        text-align: right;\n",
       "    }\n",
       "</style>\n",
       "<table border=\"1\" class=\"dataframe\">\n",
       "  <thead>\n",
       "    <tr style=\"text-align: right;\">\n",
       "      <th></th>\n",
       "      <th>clientID</th>\n",
       "      <th>topic</th>\n",
       "      <th>message</th>\n",
       "      <th>timestamp</th>\n",
       "    </tr>\n",
       "    <tr>\n",
       "      <th>id</th>\n",
       "      <th></th>\n",
       "      <th></th>\n",
       "      <th></th>\n",
       "      <th></th>\n",
       "    </tr>\n",
       "  </thead>\n",
       "  <tbody>\n",
       "    <tr>\n",
       "      <th>312</th>\n",
       "      <td>t4g1:139</td>\n",
       "      <td>t4g1</td>\n",
       "      <td>23.9;69.1;24</td>\n",
       "      <td>2024-07-15 16:41:47</td>\n",
       "    </tr>\n",
       "    <tr>\n",
       "      <th>313</th>\n",
       "      <td>t4g1:139</td>\n",
       "      <td>t4g1</td>\n",
       "      <td>26.2;61.6;26</td>\n",
       "      <td>2024-07-15 17:07:16</td>\n",
       "    </tr>\n",
       "    <tr>\n",
       "      <th>314</th>\n",
       "      <td>t4g1:139</td>\n",
       "      <td>t4g1</td>\n",
       "      <td>26.9;59.5;27</td>\n",
       "      <td>2024-07-15 17:17:16</td>\n",
       "    </tr>\n",
       "    <tr>\n",
       "      <th>315</th>\n",
       "      <td>t4g1:139</td>\n",
       "      <td>t4g1</td>\n",
       "      <td>26.7;59.8;28</td>\n",
       "      <td>2024-07-15 17:27:17</td>\n",
       "    </tr>\n",
       "    <tr>\n",
       "      <th>316</th>\n",
       "      <td>t4g1:139</td>\n",
       "      <td>t4g1</td>\n",
       "      <td>26.6;60.2;28</td>\n",
       "      <td>2024-07-15 17:37:17</td>\n",
       "    </tr>\n",
       "    <tr>\n",
       "      <th>...</th>\n",
       "      <td>...</td>\n",
       "      <td>...</td>\n",
       "      <td>...</td>\n",
       "      <td>...</td>\n",
       "    </tr>\n",
       "    <tr>\n",
       "      <th>1505</th>\n",
       "      <td>t4g1:139</td>\n",
       "      <td>t4g1</td>\n",
       "      <td>31.3;48.5;42</td>\n",
       "      <td>2024-07-29 19:09:49</td>\n",
       "    </tr>\n",
       "    <tr>\n",
       "      <th>1506</th>\n",
       "      <td>t4g1:139</td>\n",
       "      <td>t4g1</td>\n",
       "      <td>31.7;49.2;40</td>\n",
       "      <td>2024-07-29 19:19:49</td>\n",
       "    </tr>\n",
       "    <tr>\n",
       "      <th>1507</th>\n",
       "      <td>t4g1:139</td>\n",
       "      <td>t4g1</td>\n",
       "      <td>31.9;49.5;40</td>\n",
       "      <td>2024-07-29 19:29:49</td>\n",
       "    </tr>\n",
       "    <tr>\n",
       "      <th>1508</th>\n",
       "      <td>t4g1:139</td>\n",
       "      <td>t4g1</td>\n",
       "      <td>32.0;50.2;39</td>\n",
       "      <td>2024-07-29 19:39:51</td>\n",
       "    </tr>\n",
       "    <tr>\n",
       "      <th>1509</th>\n",
       "      <td>t4g1:139</td>\n",
       "      <td>t4g1</td>\n",
       "      <td>32.1;50.9;40</td>\n",
       "      <td>2024-07-29 19:49:50</td>\n",
       "    </tr>\n",
       "  </tbody>\n",
       "</table>\n",
       "<p>1195 rows × 4 columns</p>\n",
       "</div>"
      ],
      "text/plain": [
       "      clientID topic       message            timestamp\n",
       "id                                                     \n",
       "312   t4g1:139  t4g1  23.9;69.1;24  2024-07-15 16:41:47\n",
       "313   t4g1:139  t4g1  26.2;61.6;26  2024-07-15 17:07:16\n",
       "314   t4g1:139  t4g1  26.9;59.5;27  2024-07-15 17:17:16\n",
       "315   t4g1:139  t4g1  26.7;59.8;28  2024-07-15 17:27:17\n",
       "316   t4g1:139  t4g1  26.6;60.2;28  2024-07-15 17:37:17\n",
       "...        ...   ...           ...                  ...\n",
       "1505  t4g1:139  t4g1  31.3;48.5;42  2024-07-29 19:09:49\n",
       "1506  t4g1:139  t4g1  31.7;49.2;40  2024-07-29 19:19:49\n",
       "1507  t4g1:139  t4g1  31.9;49.5;40  2024-07-29 19:29:49\n",
       "1508  t4g1:139  t4g1  32.0;50.2;39  2024-07-29 19:39:51\n",
       "1509  t4g1:139  t4g1  32.1;50.9;40  2024-07-29 19:49:50\n",
       "\n",
       "[1195 rows x 4 columns]"
      ]
     },
     "execution_count": 82,
     "metadata": {},
     "output_type": "execute_result"
    }
   ],
   "source": [
    "data_removed2 = df.drop(index=range(477,480))\n",
    "df = data_removed2\n",
    "\n",
    "df"
   ]
  },
  {
   "cell_type": "code",
   "execution_count": 83,
   "metadata": {},
   "outputs": [
    {
     "data": {
      "text/html": [
       "<div>\n",
       "<style scoped>\n",
       "    .dataframe tbody tr th:only-of-type {\n",
       "        vertical-align: middle;\n",
       "    }\n",
       "\n",
       "    .dataframe tbody tr th {\n",
       "        vertical-align: top;\n",
       "    }\n",
       "\n",
       "    .dataframe thead th {\n",
       "        text-align: right;\n",
       "    }\n",
       "</style>\n",
       "<table border=\"1\" class=\"dataframe\">\n",
       "  <thead>\n",
       "    <tr style=\"text-align: right;\">\n",
       "      <th></th>\n",
       "      <th>topic</th>\n",
       "      <th>message</th>\n",
       "      <th>timestamp</th>\n",
       "      <th>0</th>\n",
       "      <th>1</th>\n",
       "      <th>2</th>\n",
       "    </tr>\n",
       "    <tr>\n",
       "      <th>id</th>\n",
       "      <th></th>\n",
       "      <th></th>\n",
       "      <th></th>\n",
       "      <th></th>\n",
       "      <th></th>\n",
       "      <th></th>\n",
       "    </tr>\n",
       "  </thead>\n",
       "  <tbody>\n",
       "    <tr>\n",
       "      <th>312</th>\n",
       "      <td>t4g1</td>\n",
       "      <td>23.9;69.1;24</td>\n",
       "      <td>2024-07-15 16:41:47</td>\n",
       "      <td>23.9</td>\n",
       "      <td>69.1</td>\n",
       "      <td>24</td>\n",
       "    </tr>\n",
       "    <tr>\n",
       "      <th>313</th>\n",
       "      <td>t4g1</td>\n",
       "      <td>26.2;61.6;26</td>\n",
       "      <td>2024-07-15 17:07:16</td>\n",
       "      <td>26.2</td>\n",
       "      <td>61.6</td>\n",
       "      <td>26</td>\n",
       "    </tr>\n",
       "    <tr>\n",
       "      <th>314</th>\n",
       "      <td>t4g1</td>\n",
       "      <td>26.9;59.5;27</td>\n",
       "      <td>2024-07-15 17:17:16</td>\n",
       "      <td>26.9</td>\n",
       "      <td>59.5</td>\n",
       "      <td>27</td>\n",
       "    </tr>\n",
       "    <tr>\n",
       "      <th>315</th>\n",
       "      <td>t4g1</td>\n",
       "      <td>26.7;59.8;28</td>\n",
       "      <td>2024-07-15 17:27:17</td>\n",
       "      <td>26.7</td>\n",
       "      <td>59.8</td>\n",
       "      <td>28</td>\n",
       "    </tr>\n",
       "    <tr>\n",
       "      <th>316</th>\n",
       "      <td>t4g1</td>\n",
       "      <td>26.6;60.2;28</td>\n",
       "      <td>2024-07-15 17:37:17</td>\n",
       "      <td>26.6</td>\n",
       "      <td>60.2</td>\n",
       "      <td>28</td>\n",
       "    </tr>\n",
       "    <tr>\n",
       "      <th>...</th>\n",
       "      <td>...</td>\n",
       "      <td>...</td>\n",
       "      <td>...</td>\n",
       "      <td>...</td>\n",
       "      <td>...</td>\n",
       "      <td>...</td>\n",
       "    </tr>\n",
       "    <tr>\n",
       "      <th>1505</th>\n",
       "      <td>t4g1</td>\n",
       "      <td>31.3;48.5;42</td>\n",
       "      <td>2024-07-29 19:09:49</td>\n",
       "      <td>31.3</td>\n",
       "      <td>48.5</td>\n",
       "      <td>42</td>\n",
       "    </tr>\n",
       "    <tr>\n",
       "      <th>1506</th>\n",
       "      <td>t4g1</td>\n",
       "      <td>31.7;49.2;40</td>\n",
       "      <td>2024-07-29 19:19:49</td>\n",
       "      <td>31.7</td>\n",
       "      <td>49.2</td>\n",
       "      <td>40</td>\n",
       "    </tr>\n",
       "    <tr>\n",
       "      <th>1507</th>\n",
       "      <td>t4g1</td>\n",
       "      <td>31.9;49.5;40</td>\n",
       "      <td>2024-07-29 19:29:49</td>\n",
       "      <td>31.9</td>\n",
       "      <td>49.5</td>\n",
       "      <td>40</td>\n",
       "    </tr>\n",
       "    <tr>\n",
       "      <th>1508</th>\n",
       "      <td>t4g1</td>\n",
       "      <td>32.0;50.2;39</td>\n",
       "      <td>2024-07-29 19:39:51</td>\n",
       "      <td>32.0</td>\n",
       "      <td>50.2</td>\n",
       "      <td>39</td>\n",
       "    </tr>\n",
       "    <tr>\n",
       "      <th>1509</th>\n",
       "      <td>t4g1</td>\n",
       "      <td>32.1;50.9;40</td>\n",
       "      <td>2024-07-29 19:49:50</td>\n",
       "      <td>32.1</td>\n",
       "      <td>50.9</td>\n",
       "      <td>40</td>\n",
       "    </tr>\n",
       "  </tbody>\n",
       "</table>\n",
       "<p>1195 rows × 6 columns</p>\n",
       "</div>"
      ],
      "text/plain": [
       "     topic       message            timestamp     0     1   2\n",
       "id                                                           \n",
       "312   t4g1  23.9;69.1;24  2024-07-15 16:41:47  23.9  69.1  24\n",
       "313   t4g1  26.2;61.6;26  2024-07-15 17:07:16  26.2  61.6  26\n",
       "314   t4g1  26.9;59.5;27  2024-07-15 17:17:16  26.9  59.5  27\n",
       "315   t4g1  26.7;59.8;28  2024-07-15 17:27:17  26.7  59.8  28\n",
       "316   t4g1  26.6;60.2;28  2024-07-15 17:37:17  26.6  60.2  28\n",
       "...    ...           ...                  ...   ...   ...  ..\n",
       "1505  t4g1  31.3;48.5;42  2024-07-29 19:09:49  31.3  48.5  42\n",
       "1506  t4g1  31.7;49.2;40  2024-07-29 19:19:49  31.7  49.2  40\n",
       "1507  t4g1  31.9;49.5;40  2024-07-29 19:29:49  31.9  49.5  40\n",
       "1508  t4g1  32.0;50.2;39  2024-07-29 19:39:51  32.0  50.2  39\n",
       "1509  t4g1  32.1;50.9;40  2024-07-29 19:49:50  32.1  50.9  40\n",
       "\n",
       "[1195 rows x 6 columns]"
      ]
     },
     "execution_count": 83,
     "metadata": {},
     "output_type": "execute_result"
    }
   ],
   "source": [
    "split_client = df['message'].str.split(';', expand=True)\n",
    "split_columns = ['temperature', 'air quality', 'humidity']\n",
    "\n",
    "df = pd.concat([df, split_client], axis=1)\n",
    "\n",
    "#drop columns\n",
    "\n",
    "df = df.drop(columns=['clientID'])\n",
    "\n",
    "df"
   ]
  },
  {
   "cell_type": "code",
   "execution_count": 84,
   "metadata": {},
   "outputs": [
    {
     "data": {
      "text/html": [
       "<div>\n",
       "<style scoped>\n",
       "    .dataframe tbody tr th:only-of-type {\n",
       "        vertical-align: middle;\n",
       "    }\n",
       "\n",
       "    .dataframe tbody tr th {\n",
       "        vertical-align: top;\n",
       "    }\n",
       "\n",
       "    .dataframe thead th {\n",
       "        text-align: right;\n",
       "    }\n",
       "</style>\n",
       "<table border=\"1\" class=\"dataframe\">\n",
       "  <thead>\n",
       "    <tr style=\"text-align: right;\">\n",
       "      <th></th>\n",
       "      <th>topic</th>\n",
       "      <th>message</th>\n",
       "      <th>timestamp</th>\n",
       "      <th>temperature</th>\n",
       "      <th>air_quality</th>\n",
       "      <th>humidity</th>\n",
       "    </tr>\n",
       "    <tr>\n",
       "      <th>id</th>\n",
       "      <th></th>\n",
       "      <th></th>\n",
       "      <th></th>\n",
       "      <th></th>\n",
       "      <th></th>\n",
       "      <th></th>\n",
       "    </tr>\n",
       "  </thead>\n",
       "  <tbody>\n",
       "    <tr>\n",
       "      <th>312</th>\n",
       "      <td>t4g1</td>\n",
       "      <td>23.9;69.1;24</td>\n",
       "      <td>2024-07-15 16:41:47</td>\n",
       "      <td>23.9</td>\n",
       "      <td>69.1</td>\n",
       "      <td>24</td>\n",
       "    </tr>\n",
       "    <tr>\n",
       "      <th>313</th>\n",
       "      <td>t4g1</td>\n",
       "      <td>26.2;61.6;26</td>\n",
       "      <td>2024-07-15 17:07:16</td>\n",
       "      <td>26.2</td>\n",
       "      <td>61.6</td>\n",
       "      <td>26</td>\n",
       "    </tr>\n",
       "    <tr>\n",
       "      <th>314</th>\n",
       "      <td>t4g1</td>\n",
       "      <td>26.9;59.5;27</td>\n",
       "      <td>2024-07-15 17:17:16</td>\n",
       "      <td>26.9</td>\n",
       "      <td>59.5</td>\n",
       "      <td>27</td>\n",
       "    </tr>\n",
       "    <tr>\n",
       "      <th>315</th>\n",
       "      <td>t4g1</td>\n",
       "      <td>26.7;59.8;28</td>\n",
       "      <td>2024-07-15 17:27:17</td>\n",
       "      <td>26.7</td>\n",
       "      <td>59.8</td>\n",
       "      <td>28</td>\n",
       "    </tr>\n",
       "    <tr>\n",
       "      <th>316</th>\n",
       "      <td>t4g1</td>\n",
       "      <td>26.6;60.2;28</td>\n",
       "      <td>2024-07-15 17:37:17</td>\n",
       "      <td>26.6</td>\n",
       "      <td>60.2</td>\n",
       "      <td>28</td>\n",
       "    </tr>\n",
       "    <tr>\n",
       "      <th>...</th>\n",
       "      <td>...</td>\n",
       "      <td>...</td>\n",
       "      <td>...</td>\n",
       "      <td>...</td>\n",
       "      <td>...</td>\n",
       "      <td>...</td>\n",
       "    </tr>\n",
       "    <tr>\n",
       "      <th>1505</th>\n",
       "      <td>t4g1</td>\n",
       "      <td>31.3;48.5;42</td>\n",
       "      <td>2024-07-29 19:09:49</td>\n",
       "      <td>31.3</td>\n",
       "      <td>48.5</td>\n",
       "      <td>42</td>\n",
       "    </tr>\n",
       "    <tr>\n",
       "      <th>1506</th>\n",
       "      <td>t4g1</td>\n",
       "      <td>31.7;49.2;40</td>\n",
       "      <td>2024-07-29 19:19:49</td>\n",
       "      <td>31.7</td>\n",
       "      <td>49.2</td>\n",
       "      <td>40</td>\n",
       "    </tr>\n",
       "    <tr>\n",
       "      <th>1507</th>\n",
       "      <td>t4g1</td>\n",
       "      <td>31.9;49.5;40</td>\n",
       "      <td>2024-07-29 19:29:49</td>\n",
       "      <td>31.9</td>\n",
       "      <td>49.5</td>\n",
       "      <td>40</td>\n",
       "    </tr>\n",
       "    <tr>\n",
       "      <th>1508</th>\n",
       "      <td>t4g1</td>\n",
       "      <td>32.0;50.2;39</td>\n",
       "      <td>2024-07-29 19:39:51</td>\n",
       "      <td>32.0</td>\n",
       "      <td>50.2</td>\n",
       "      <td>39</td>\n",
       "    </tr>\n",
       "    <tr>\n",
       "      <th>1509</th>\n",
       "      <td>t4g1</td>\n",
       "      <td>32.1;50.9;40</td>\n",
       "      <td>2024-07-29 19:49:50</td>\n",
       "      <td>32.1</td>\n",
       "      <td>50.9</td>\n",
       "      <td>40</td>\n",
       "    </tr>\n",
       "  </tbody>\n",
       "</table>\n",
       "<p>1195 rows × 6 columns</p>\n",
       "</div>"
      ],
      "text/plain": [
       "     topic       message            timestamp temperature air_quality humidity\n",
       "id                                                                            \n",
       "312   t4g1  23.9;69.1;24  2024-07-15 16:41:47        23.9        69.1       24\n",
       "313   t4g1  26.2;61.6;26  2024-07-15 17:07:16        26.2        61.6       26\n",
       "314   t4g1  26.9;59.5;27  2024-07-15 17:17:16        26.9        59.5       27\n",
       "315   t4g1  26.7;59.8;28  2024-07-15 17:27:17        26.7        59.8       28\n",
       "316   t4g1  26.6;60.2;28  2024-07-15 17:37:17        26.6        60.2       28\n",
       "...    ...           ...                  ...         ...         ...      ...\n",
       "1505  t4g1  31.3;48.5;42  2024-07-29 19:09:49        31.3        48.5       42\n",
       "1506  t4g1  31.7;49.2;40  2024-07-29 19:19:49        31.7        49.2       40\n",
       "1507  t4g1  31.9;49.5;40  2024-07-29 19:29:49        31.9        49.5       40\n",
       "1508  t4g1  32.0;50.2;39  2024-07-29 19:39:51        32.0        50.2       39\n",
       "1509  t4g1  32.1;50.9;40  2024-07-29 19:49:50        32.1        50.9       40\n",
       "\n",
       "[1195 rows x 6 columns]"
      ]
     },
     "execution_count": 84,
     "metadata": {},
     "output_type": "execute_result"
    }
   ],
   "source": [
    "# Renaming the columns\n",
    "df = df.rename(columns={\n",
    "    0: 'temperature',\n",
    "    1: 'air_quality',\n",
    "    2: 'humidity',\n",
    "    \n",
    "})\n",
    "\n",
    "# Display the first few rows of the updated data\n",
    "df\n",
    "\n"
   ]
  },
  {
   "cell_type": "code",
   "execution_count": 85,
   "metadata": {},
   "outputs": [
    {
     "name": "stdout",
     "output_type": "stream",
     "text": [
      "The number of null values is 0\n"
     ]
    }
   ],
   "source": [
    "#missing values \n",
    "\n",
    "nan_values = df.isnull().sum().sum()\n",
    "\n",
    "print(f\"The number of null values is {nan_values}\")"
   ]
  },
  {
   "cell_type": "markdown",
   "metadata": {},
   "source": [
    "## Analysis"
   ]
  },
  {
   "cell_type": "code",
   "execution_count": 86,
   "metadata": {},
   "outputs": [
    {
     "data": {
      "application/vnd.plotly.v1+json": {
       "config": {
        "plotlyServerURL": "https://plot.ly"
       },
       "data": [
        {
         "alignmentgroup": "True",
         "bingroup": "x",
         "hovertemplate": "temperature=%{x}<br>count=%{y}<extra></extra>",
         "legendgroup": "",
         "marker": {
          "color": "#636EFA",
          "pattern": {
           "shape": ""
          }
         },
         "name": "",
         "nbinsx": 20,
         "offsetgroup": "",
         "orientation": "v",
         "showlegend": false,
         "type": "histogram",
         "x": [
          "23.9",
          "26.2",
          "26.9",
          "26.7",
          "26.6",
          "26.6",
          "26.5",
          "26.4",
          "26.3",
          "26.3",
          "26.1",
          "26.1",
          "26.0",
          "26.1",
          "26.3",
          "26.4",
          "26.5",
          "26.6",
          "26.7",
          "26.7",
          "26.8",
          "26.8",
          "26.9",
          "26.9",
          "26.9",
          "27.0",
          "27.0",
          "27.0",
          "27.0",
          "27.1",
          "27.1",
          "27.1",
          "27.1",
          "27.1",
          "27.1",
          "27.1",
          "27.2",
          "27.2",
          "27.2",
          "27.2",
          "27.2",
          "27.2",
          "27.3",
          "27.3",
          "27.3",
          "27.3",
          "27.3",
          "27.3",
          "27.3",
          "27.2",
          "27.3",
          "27.3",
          "27.3",
          "27.3",
          "27.3",
          "27.3",
          "27.3",
          "27.3",
          "27.3",
          "27.3",
          "27.3",
          "27.3",
          "27.3",
          "27.3",
          "27.3",
          "27.3",
          "27.3",
          "27.3",
          "27.3",
          "27.3",
          "27.3",
          "27.3",
          "27.3",
          "27.3",
          "27.3",
          "27.4",
          "27.4",
          "27.3",
          "27.3",
          "27.4",
          "27.3",
          "27.3",
          "27.3",
          "27.1",
          "26.9",
          "26.7",
          "26.5",
          "26.3",
          "26.2",
          "26.0",
          "25.9",
          "25.7",
          "25.6",
          "25.4",
          "25.3",
          "25.2",
          "25.1",
          "25.1",
          "24.9",
          "24.9",
          "24.7",
          "24.8",
          "24.8",
          "24.8",
          "24.8",
          "24.8",
          "24.8",
          "24.9",
          "24.9",
          "24.9",
          "24.9",
          "24.9",
          "24.9",
          "24.9",
          "24.9",
          "25.0",
          "25.0",
          "25.1",
          "25.1",
          "25.0",
          "25.0",
          "25.0",
          "25.0",
          "25.0",
          "25.1",
          "25.2",
          "25.4",
          "25.4",
          "25.5",
          "25.6",
          "25.6",
          "25.6",
          "25.6",
          "25.6",
          "25.6",
          "25.6",
          "25.6",
          "25.8",
          "25.8",
          "25.8",
          "25.9",
          "26.0",
          "26.2",
          "26.2",
          "26.1",
          "26.0",
          "25.9",
          "25.9",
          "25.8",
          "25.8",
          "25.8",
          "25.7",
          "25.6",
          "25.5",
          "25.4",
          "25.3",
          "25.3",
          "25.4",
          "25.6",
          "25.7",
          "25.9",
          "26.0",
          "26.0",
          "26.1",
          "26.1",
          "27.0",
          "27.0",
          "27.1",
          "27.1",
          "27.2",
          "27.2",
          "27.2",
          "27.2",
          "27.2",
          "27.2",
          "27.2",
          "27.1",
          "26.9",
          "26.9",
          "26.7",
          "26.7",
          "26.7",
          "26.5",
          "26.7",
          "27.0",
          "27.1",
          "27.2",
          "27.2",
          "27.3",
          "27.3",
          "27.4",
          "27.4",
          "27.4",
          "27.4",
          "27.5",
          "27.5",
          "27.5",
          "27.5",
          "27.5",
          "27.5",
          "27.5",
          "27.6",
          "27.6",
          "27.6",
          "27.6",
          "27.6",
          "27.6",
          "27.6",
          "27.6",
          "27.6",
          "27.6",
          "27.6",
          "27.7",
          "27.6",
          "27.6",
          "27.6",
          "27.7",
          "27.7",
          "27.7",
          "27.7",
          "27.7",
          "27.7",
          "27.7",
          "27.7",
          "27.7",
          "27.7",
          "27.7",
          "27.7",
          "27.7",
          "27.7",
          "27.7",
          "27.7",
          "27.7",
          "27.7",
          "27.7",
          "27.7",
          "27.7",
          "27.7",
          "27.7",
          "27.7",
          "27.7",
          "27.8",
          "27.8",
          "27.7",
          "27.7",
          "27.7",
          "27.8",
          "27.8",
          "27.8",
          "27.8",
          "27.8",
          "27.8",
          "27.7",
          "27.3",
          "26.9",
          "26.7",
          "26.6",
          "26.3",
          "26.2",
          "26.0",
          "25.8",
          "25.7",
          "25.6",
          "25.4",
          "25.3",
          "25.3",
          "25.2",
          "25.2",
          "25.1",
          "25.1",
          "25.1",
          "25.1",
          "25.1",
          "25.1",
          "25.3",
          "25.5",
          "25.4",
          "25.5",
          "25.5",
          "25.5",
          "25.5",
          "25.6",
          "25.6",
          "25.8",
          "25.9",
          "25.8",
          "25.8",
          "26.0",
          "25.9",
          "26.0",
          "26.2",
          "26.2",
          "26.2",
          "26.3",
          "26.5",
          "26.7",
          "26.9",
          "26.9",
          "26.8",
          "27.0",
          "27.2",
          "27.1",
          "27.2",
          "27.3",
          "27.3",
          "27.4",
          "27.4",
          "27.5",
          "27.7",
          "27.8",
          "27.9",
          "27.9",
          "28.0",
          "27.9",
          "27.9",
          "27.8",
          "27.8",
          "27.9",
          "27.8",
          "27.6",
          "27.4",
          "27.4",
          "27.3",
          "27.1",
          "26.9",
          "26.6",
          "26.5",
          "26.9",
          "27.1",
          "27.2",
          "27.3",
          "27.3",
          "27.4",
          "27.4",
          "27.5",
          "27.5",
          "27.5",
          "27.5",
          "27.6",
          "27.6",
          "27.6",
          "27.6",
          "27.6",
          "27.6",
          "27.6",
          "27.6",
          "27.6",
          "27.7",
          "27.7",
          "27.7",
          "27.6",
          "27.7",
          "27.7",
          "27.7",
          "27.7",
          "27.7",
          "27.7",
          "27.7",
          "27.7",
          "27.7",
          "27.8",
          "27.7",
          "27.8",
          "27.7",
          "27.7",
          "27.8",
          "27.8",
          "27.8",
          "27.8",
          "27.8",
          "27.8",
          "27.8",
          "27.8",
          "27.7",
          "27.8",
          "27.8",
          "27.8",
          "27.8",
          "27.8",
          "27.8",
          "27.8",
          "27.8",
          "27.8",
          "27.8",
          "27.8",
          "27.8",
          "27.8",
          "27.8",
          "27.8",
          "27.8",
          "27.8",
          "27.8",
          "27.8",
          "27.8",
          "27.8",
          "27.8",
          "27.7",
          "27.4",
          "27.2",
          "26.8",
          "26.7",
          "26.5",
          "26.4",
          "26.1",
          "25.9",
          "25.9",
          "25.8",
          "25.6",
          "25.4",
          "25.4",
          "25.3",
          "25.3",
          "25.3",
          "25.1",
          "25.2",
          "25.2",
          "25.2",
          "25.2",
          "25.3",
          "25.2",
          "25.3",
          "25.3",
          "25.4",
          "25.3",
          "25.2",
          "25.4",
          "25.4",
          "25.4",
          "25.5",
          "25.7",
          "25.7",
          "25.8",
          "25.9",
          "25.9",
          "25.9",
          "26.0",
          "26.0",
          "26.0",
          "26.0",
          "26.0",
          "26.1",
          "26.0",
          "26.1",
          "26.2",
          "26.3",
          "26.3",
          "26.2",
          "26.3",
          "26.2",
          "26.3",
          "26.3",
          "26.3",
          "26.4",
          "26.4",
          "26.4",
          "26.4",
          "26.6",
          "26.6",
          "26.7",
          "26.7",
          "26.7",
          "26.8",
          "26.8",
          "26.6",
          "26.6",
          "26.6",
          "26.5",
          "26.3",
          "26.2",
          "26.0",
          "26.0",
          "26.4",
          "26.6",
          "26.8",
          "26.8",
          "27.0",
          "27.0",
          "27.0",
          "27.1",
          "27.1",
          "27.1",
          "27.2",
          "27.2",
          "27.2",
          "27.2",
          "27.2",
          "27.3",
          "27.3",
          "27.3",
          "27.3",
          "27.3",
          "27.3",
          "27.3",
          "27.3",
          "27.3",
          "27.3",
          "27.4",
          "27.4",
          "27.3",
          "27.3",
          "27.3",
          "27.3",
          "27.4",
          "27.3",
          "27.3",
          "27.4",
          "27.3",
          "27.4",
          "27.4",
          "27.4",
          "27.4",
          "27.4",
          "27.4",
          "27.4",
          "27.4",
          "27.4",
          "27.4",
          "27.4",
          "27.4",
          "27.4",
          "27.4",
          "27.4",
          "27.4",
          "27.4",
          "27.4",
          "27.4",
          "27.4",
          "27.5",
          "27.4",
          "27.4",
          "27.5",
          "27.4",
          "27.4",
          "27.5",
          "27.5",
          "27.5",
          "27.5",
          "27.5",
          "27.4",
          "27.5",
          "27.4",
          "27.1",
          "26.7",
          "26.5",
          "26.3",
          "26.2",
          "26.0",
          "25.8",
          "25.6",
          "25.3",
          "25.2",
          "25.1",
          "24.9",
          "24.9",
          "24.8",
          "24.7",
          "24.7",
          "24.7",
          "24.7",
          "24.7",
          "24.8",
          "24.8",
          "24.8",
          "24.9",
          "25.0",
          "25.1",
          "25.1",
          "25.3",
          "25.3",
          "25.3",
          "25.4",
          "25.5",
          "25.5",
          "25.6",
          "25.6",
          "25.7",
          "25.8",
          "25.7",
          "25.7",
          "25.8",
          "25.6",
          "25.6",
          "25.7",
          "25.6",
          "25.7",
          "25.8",
          "25.7",
          "25.8",
          "25.9",
          "26.0",
          "26.2",
          "26.5",
          "26.7",
          "26.2",
          "26.2",
          "26.3",
          "26.3",
          "26.2",
          "26.2",
          "26.4",
          "26.4",
          "26.5",
          "26.3",
          "26.3",
          "26.4",
          "26.5",
          "26.5",
          "26.5",
          "26.4",
          "26.4",
          "26.4",
          "26.2",
          "26.1",
          "26.1",
          "26.1",
          "26.4",
          "26.6",
          "26.7",
          "26.8",
          "26.8",
          "26.8",
          "26.9",
          "27.0",
          "26.9",
          "27.0",
          "27.0",
          "27.0",
          "27.1",
          "27.0",
          "27.0",
          "27.0",
          "27.0",
          "27.0",
          "27.1",
          "27.1",
          "27.2",
          "27.1",
          "27.1",
          "27.1",
          "27.1",
          "27.1",
          "27.1",
          "27.1",
          "27.1",
          "27.2",
          "27.1",
          "27.1",
          "27.1",
          "27.2",
          "27.2",
          "27.2",
          "27.2",
          "27.2",
          "27.2",
          "27.2",
          "27.2",
          "27.2",
          "27.2",
          "27.2",
          "27.2",
          "27.2",
          "27.2",
          "27.2",
          "27.3",
          "27.3",
          "27.2",
          "27.3",
          "27.2",
          "27.2",
          "27.3",
          "27.3",
          "27.3",
          "27.3",
          "27.4",
          "27.3",
          "27.3",
          "27.3",
          "27.3",
          "27.3",
          "27.3",
          "27.4",
          "27.3",
          "27.3",
          "27.5",
          "27.4",
          "26.9",
          "26.6",
          "26.5",
          "26.2",
          "26.1",
          "26.0",
          "25.7",
          "25.6",
          "25.5",
          "25.3",
          "25.0",
          "24.9",
          "24.8",
          "24.8",
          "24.7",
          "24.6",
          "24.6",
          "24.7",
          "24.7",
          "24.7",
          "24.9",
          "25.0",
          "25.0",
          "25.2",
          "25.3",
          "25.3",
          "27.7",
          "27.8",
          "27.8",
          "28.8",
          "29.0",
          "29.1",
          "28.4",
          "28.7",
          "28.7",
          "28.7",
          "28.8",
          "29.0",
          "29.6",
          "29.7",
          "29.2",
          "29.1",
          "29.3",
          "29.3",
          "29.5",
          "29.9",
          "30.4",
          "30.3",
          "30.3",
          "30.2",
          "30.6",
          "30.3",
          "30.7",
          "31.1",
          "30.5",
          "30.5",
          "30.4",
          "30.4",
          "30.7",
          "31.3",
          "30.9",
          "30.9",
          "30.9",
          "30.9",
          "30.9",
          "30.8",
          "30.5",
          "30.5",
          "30.5",
          "30.0",
          "30.0",
          "29.7",
          "29.5",
          "30.4",
          "30.9",
          "31.1",
          "31.2",
          "31.3",
          "31.4",
          "31.4",
          "31.4",
          "31.4",
          "31.4",
          "31.5",
          "31.5",
          "31.5",
          "31.5",
          "31.5",
          "31.5",
          "31.5",
          "31.5",
          "31.6",
          "31.5",
          "31.5",
          "31.6",
          "31.5",
          "31.5",
          "31.6",
          "31.5",
          "31.5",
          "31.6",
          "31.6",
          "31.5",
          "31.6",
          "31.6",
          "31.6",
          "31.6",
          "31.6",
          "31.6",
          "31.6",
          "31.6",
          "31.6",
          "31.6",
          "31.6",
          "31.6",
          "31.6",
          "31.5",
          "31.5",
          "31.6",
          "31.6",
          "31.6",
          "31.5",
          "31.6",
          "31.5",
          "31.5",
          "31.5",
          "31.5",
          "31.6",
          "31.5",
          "31.5",
          "31.6",
          "31.6",
          "31.6",
          "31.5",
          "31.6",
          "31.6",
          "31.6",
          "31.6",
          "31.6",
          "31.6",
          "31.5",
          "31.6",
          "31.6",
          "31.6",
          "31.6",
          "31.6",
          "31.6",
          "31.6",
          "31.6",
          "31.6",
          "31.6",
          "31.6",
          "31.6",
          "31.7",
          "31.7",
          "31.7",
          "31.8",
          "31.8",
          "31.9",
          "31.9",
          "31.9",
          "32.0",
          "32.0",
          "32.1",
          "32.2",
          "32.2",
          "32.3",
          "32.4",
          "32.4",
          "32.4",
          "32.5",
          "32.6",
          "32.6",
          "32.7",
          "32.8",
          "32.9",
          "33.0",
          "33.1",
          "33.2",
          "33.2",
          "33.3",
          "33.4",
          "33.5",
          "33.6",
          "33.6",
          "33.7",
          "33.8",
          "33.9",
          "34.0",
          "34.0",
          "34.1",
          "34.2",
          "34.3",
          "34.3",
          "34.4",
          "34.4",
          "34.5",
          "34.5",
          "34.5",
          "34.5",
          "34.6",
          "34.7",
          "34.7",
          "34.7",
          "34.8",
          "34.9",
          "34.9",
          "34.9",
          "34.9",
          "34.9",
          "34.9",
          "34.9",
          "34.9",
          "34.8",
          "34.7",
          "34.6",
          "34.4",
          "34.4",
          "34.3",
          "34.2",
          "34.1",
          "34.1",
          "34.0",
          "34.0",
          "33.9",
          "33.9",
          "33.9",
          "33.8",
          "33.8",
          "33.8",
          "33.7",
          "33.7",
          "33.7",
          "33.6",
          "33.6",
          "33.6",
          "33.5",
          "33.5",
          "33.5",
          "33.4",
          "33.4",
          "33.4",
          "33.4",
          "33.4",
          "33.3",
          "33.3",
          "33.3",
          "33.3",
          "33.3",
          "33.3",
          "33.3",
          "33.2",
          "33.2",
          "33.1",
          "33.2",
          "33.1",
          "33.2",
          "33.1",
          "33.2",
          "33.1",
          "33.1",
          "33.1",
          "33.1",
          "33.0",
          "33.0",
          "33.0",
          "33.0",
          "33.0",
          "33.0",
          "33.0",
          "32.9",
          "33.0",
          "32.9",
          "32.9",
          "32.9",
          "32.9",
          "32.9",
          "32.9",
          "32.9",
          "32.9",
          "32.8",
          "32.8",
          "32.8",
          "32.9",
          "32.8",
          "32.9",
          "32.8",
          "32.8",
          "32.9",
          "32.8",
          "32.8",
          "32.8",
          "32.8",
          "32.8",
          "32.8",
          "32.9",
          "32.8",
          "32.9",
          "32.9",
          "32.9",
          "33.0",
          "33.0",
          "33.0",
          "33.1",
          "33.1",
          "33.2",
          "33.2",
          "33.3",
          "33.3",
          "33.4",
          "33.4",
          "33.5",
          "33.5",
          "33.5",
          "33.6",
          "33.7",
          "33.8",
          "33.8",
          "33.9",
          "34.0",
          "34.1",
          "34.1",
          "34.2",
          "34.3",
          "34.4",
          "34.4",
          "34.5",
          "34.6",
          "34.7",
          "34.8",
          "34.8",
          "34.9",
          "35.0",
          "35.1",
          "35.1",
          "35.2",
          "35.3",
          "35.3",
          "35.3",
          "35.3",
          "35.3",
          "35.4",
          "35.4",
          "35.4",
          "35.5",
          "35.6",
          "35.6",
          "35.7",
          "35.7",
          "35.7",
          "35.7",
          "35.7",
          "35.7",
          "35.7",
          "35.7",
          "35.6",
          "35.6",
          "35.5",
          "35.4",
          "35.3",
          "35.2",
          "35.2",
          "35.1",
          "35.0",
          "34.9",
          "34.9",
          "34.9",
          "34.8",
          "34.7",
          "34.7",
          "34.6",
          "34.6",
          "34.6",
          "34.5",
          "34.5",
          "34.5",
          "34.4",
          "34.4",
          "34.4",
          "34.3",
          "34.3",
          "34.3",
          "34.2",
          "34.2",
          "34.2",
          "34.2",
          "34.1",
          "34.1",
          "34.1",
          "34.1",
          "34.0",
          "34.0",
          "34.0",
          "33.9",
          "33.9",
          "34.0",
          "33.9",
          "33.9",
          "33.9",
          "33.9",
          "33.9",
          "33.9",
          "33.9",
          "33.8",
          "33.8",
          "33.9",
          "33.8",
          "33.8",
          "33.8",
          "33.8",
          "33.7",
          "33.7",
          "33.7",
          "33.6",
          "33.7",
          "33.7",
          "33.6",
          "33.6",
          "33.6",
          "33.6",
          "33.6",
          "33.5",
          "33.6",
          "33.5",
          "33.6",
          "33.6",
          "33.5",
          "33.6",
          "33.4",
          "33.5",
          "33.3",
          "32.6",
          "31.8",
          "31.5",
          "31.2",
          "30.7",
          "30.7",
          "30.1",
          "29.9",
          "29.7",
          "29.4",
          "29.3",
          "29.2",
          "29.3",
          "29.1",
          "29.2",
          "29.2",
          "29.4",
          "29.2",
          "29.6",
          "29.4",
          "29.4",
          "29.7",
          "29.6",
          "29.6",
          "29.8",
          "29.8",
          "30.0",
          "30.1",
          "30.1",
          "30.2",
          "30.1",
          "30.1",
          "30.4",
          "30.3",
          "30.3",
          "30.4",
          "30.4",
          "30.2",
          "30.3",
          "30.6",
          "30.6",
          "30.6",
          "30.7",
          "30.7",
          "30.6",
          "30.8",
          "30.8",
          "30.5",
          "30.6",
          "30.8",
          "30.7",
          "30.8",
          "30.9",
          "30.9",
          "30.8",
          "31.0",
          "30.9",
          "31.0",
          "30.9",
          "30.8",
          "30.9",
          "30.9",
          "30.8",
          "30.8",
          "30.6",
          "30.4",
          "30.5",
          "30.4",
          "30.4",
          "30.4",
          "30.3",
          "30.3",
          "30.2",
          "30.1",
          "31.3",
          "31.7",
          "31.9",
          "32.0",
          "32.1"
         ],
         "xaxis": "x",
         "yaxis": "y"
        }
       ],
       "layout": {
        "barmode": "relative",
        "legend": {
         "tracegroupgap": 0
        },
        "template": {
         "data": {
          "bar": [
           {
            "error_x": {
             "color": "#2a3f5f"
            },
            "error_y": {
             "color": "#2a3f5f"
            },
            "marker": {
             "line": {
              "color": "#E5ECF6",
              "width": 0.5
             },
             "pattern": {
              "fillmode": "overlay",
              "size": 10,
              "solidity": 0.2
             }
            },
            "type": "bar"
           }
          ],
          "barpolar": [
           {
            "marker": {
             "line": {
              "color": "#E5ECF6",
              "width": 0.5
             },
             "pattern": {
              "fillmode": "overlay",
              "size": 10,
              "solidity": 0.2
             }
            },
            "type": "barpolar"
           }
          ],
          "carpet": [
           {
            "aaxis": {
             "endlinecolor": "#2a3f5f",
             "gridcolor": "white",
             "linecolor": "white",
             "minorgridcolor": "white",
             "startlinecolor": "#2a3f5f"
            },
            "baxis": {
             "endlinecolor": "#2a3f5f",
             "gridcolor": "white",
             "linecolor": "white",
             "minorgridcolor": "white",
             "startlinecolor": "#2a3f5f"
            },
            "type": "carpet"
           }
          ],
          "choropleth": [
           {
            "colorbar": {
             "outlinewidth": 0,
             "ticks": ""
            },
            "type": "choropleth"
           }
          ],
          "contour": [
           {
            "colorbar": {
             "outlinewidth": 0,
             "ticks": ""
            },
            "colorscale": [
             [
              0,
              "#0d0887"
             ],
             [
              0.1111111111111111,
              "#46039f"
             ],
             [
              0.2222222222222222,
              "#7201a8"
             ],
             [
              0.3333333333333333,
              "#9c179e"
             ],
             [
              0.4444444444444444,
              "#bd3786"
             ],
             [
              0.5555555555555556,
              "#d8576b"
             ],
             [
              0.6666666666666666,
              "#ed7953"
             ],
             [
              0.7777777777777778,
              "#fb9f3a"
             ],
             [
              0.8888888888888888,
              "#fdca26"
             ],
             [
              1,
              "#f0f921"
             ]
            ],
            "type": "contour"
           }
          ],
          "contourcarpet": [
           {
            "colorbar": {
             "outlinewidth": 0,
             "ticks": ""
            },
            "type": "contourcarpet"
           }
          ],
          "heatmap": [
           {
            "colorbar": {
             "outlinewidth": 0,
             "ticks": ""
            },
            "colorscale": [
             [
              0,
              "#0d0887"
             ],
             [
              0.1111111111111111,
              "#46039f"
             ],
             [
              0.2222222222222222,
              "#7201a8"
             ],
             [
              0.3333333333333333,
              "#9c179e"
             ],
             [
              0.4444444444444444,
              "#bd3786"
             ],
             [
              0.5555555555555556,
              "#d8576b"
             ],
             [
              0.6666666666666666,
              "#ed7953"
             ],
             [
              0.7777777777777778,
              "#fb9f3a"
             ],
             [
              0.8888888888888888,
              "#fdca26"
             ],
             [
              1,
              "#f0f921"
             ]
            ],
            "type": "heatmap"
           }
          ],
          "heatmapgl": [
           {
            "colorbar": {
             "outlinewidth": 0,
             "ticks": ""
            },
            "colorscale": [
             [
              0,
              "#0d0887"
             ],
             [
              0.1111111111111111,
              "#46039f"
             ],
             [
              0.2222222222222222,
              "#7201a8"
             ],
             [
              0.3333333333333333,
              "#9c179e"
             ],
             [
              0.4444444444444444,
              "#bd3786"
             ],
             [
              0.5555555555555556,
              "#d8576b"
             ],
             [
              0.6666666666666666,
              "#ed7953"
             ],
             [
              0.7777777777777778,
              "#fb9f3a"
             ],
             [
              0.8888888888888888,
              "#fdca26"
             ],
             [
              1,
              "#f0f921"
             ]
            ],
            "type": "heatmapgl"
           }
          ],
          "histogram": [
           {
            "marker": {
             "pattern": {
              "fillmode": "overlay",
              "size": 10,
              "solidity": 0.2
             }
            },
            "type": "histogram"
           }
          ],
          "histogram2d": [
           {
            "colorbar": {
             "outlinewidth": 0,
             "ticks": ""
            },
            "colorscale": [
             [
              0,
              "#0d0887"
             ],
             [
              0.1111111111111111,
              "#46039f"
             ],
             [
              0.2222222222222222,
              "#7201a8"
             ],
             [
              0.3333333333333333,
              "#9c179e"
             ],
             [
              0.4444444444444444,
              "#bd3786"
             ],
             [
              0.5555555555555556,
              "#d8576b"
             ],
             [
              0.6666666666666666,
              "#ed7953"
             ],
             [
              0.7777777777777778,
              "#fb9f3a"
             ],
             [
              0.8888888888888888,
              "#fdca26"
             ],
             [
              1,
              "#f0f921"
             ]
            ],
            "type": "histogram2d"
           }
          ],
          "histogram2dcontour": [
           {
            "colorbar": {
             "outlinewidth": 0,
             "ticks": ""
            },
            "colorscale": [
             [
              0,
              "#0d0887"
             ],
             [
              0.1111111111111111,
              "#46039f"
             ],
             [
              0.2222222222222222,
              "#7201a8"
             ],
             [
              0.3333333333333333,
              "#9c179e"
             ],
             [
              0.4444444444444444,
              "#bd3786"
             ],
             [
              0.5555555555555556,
              "#d8576b"
             ],
             [
              0.6666666666666666,
              "#ed7953"
             ],
             [
              0.7777777777777778,
              "#fb9f3a"
             ],
             [
              0.8888888888888888,
              "#fdca26"
             ],
             [
              1,
              "#f0f921"
             ]
            ],
            "type": "histogram2dcontour"
           }
          ],
          "mesh3d": [
           {
            "colorbar": {
             "outlinewidth": 0,
             "ticks": ""
            },
            "type": "mesh3d"
           }
          ],
          "parcoords": [
           {
            "line": {
             "colorbar": {
              "outlinewidth": 0,
              "ticks": ""
             }
            },
            "type": "parcoords"
           }
          ],
          "pie": [
           {
            "automargin": true,
            "type": "pie"
           }
          ],
          "scatter": [
           {
            "fillpattern": {
             "fillmode": "overlay",
             "size": 10,
             "solidity": 0.2
            },
            "type": "scatter"
           }
          ],
          "scatter3d": [
           {
            "line": {
             "colorbar": {
              "outlinewidth": 0,
              "ticks": ""
             }
            },
            "marker": {
             "colorbar": {
              "outlinewidth": 0,
              "ticks": ""
             }
            },
            "type": "scatter3d"
           }
          ],
          "scattercarpet": [
           {
            "marker": {
             "colorbar": {
              "outlinewidth": 0,
              "ticks": ""
             }
            },
            "type": "scattercarpet"
           }
          ],
          "scattergeo": [
           {
            "marker": {
             "colorbar": {
              "outlinewidth": 0,
              "ticks": ""
             }
            },
            "type": "scattergeo"
           }
          ],
          "scattergl": [
           {
            "marker": {
             "colorbar": {
              "outlinewidth": 0,
              "ticks": ""
             }
            },
            "type": "scattergl"
           }
          ],
          "scattermapbox": [
           {
            "marker": {
             "colorbar": {
              "outlinewidth": 0,
              "ticks": ""
             }
            },
            "type": "scattermapbox"
           }
          ],
          "scatterpolar": [
           {
            "marker": {
             "colorbar": {
              "outlinewidth": 0,
              "ticks": ""
             }
            },
            "type": "scatterpolar"
           }
          ],
          "scatterpolargl": [
           {
            "marker": {
             "colorbar": {
              "outlinewidth": 0,
              "ticks": ""
             }
            },
            "type": "scatterpolargl"
           }
          ],
          "scatterternary": [
           {
            "marker": {
             "colorbar": {
              "outlinewidth": 0,
              "ticks": ""
             }
            },
            "type": "scatterternary"
           }
          ],
          "surface": [
           {
            "colorbar": {
             "outlinewidth": 0,
             "ticks": ""
            },
            "colorscale": [
             [
              0,
              "#0d0887"
             ],
             [
              0.1111111111111111,
              "#46039f"
             ],
             [
              0.2222222222222222,
              "#7201a8"
             ],
             [
              0.3333333333333333,
              "#9c179e"
             ],
             [
              0.4444444444444444,
              "#bd3786"
             ],
             [
              0.5555555555555556,
              "#d8576b"
             ],
             [
              0.6666666666666666,
              "#ed7953"
             ],
             [
              0.7777777777777778,
              "#fb9f3a"
             ],
             [
              0.8888888888888888,
              "#fdca26"
             ],
             [
              1,
              "#f0f921"
             ]
            ],
            "type": "surface"
           }
          ],
          "table": [
           {
            "cells": {
             "fill": {
              "color": "#EBF0F8"
             },
             "line": {
              "color": "white"
             }
            },
            "header": {
             "fill": {
              "color": "#C8D4E3"
             },
             "line": {
              "color": "white"
             }
            },
            "type": "table"
           }
          ]
         },
         "layout": {
          "annotationdefaults": {
           "arrowcolor": "#2a3f5f",
           "arrowhead": 0,
           "arrowwidth": 1
          },
          "autotypenumbers": "strict",
          "coloraxis": {
           "colorbar": {
            "outlinewidth": 0,
            "ticks": ""
           }
          },
          "colorscale": {
           "diverging": [
            [
             0,
             "#8e0152"
            ],
            [
             0.1,
             "#c51b7d"
            ],
            [
             0.2,
             "#de77ae"
            ],
            [
             0.3,
             "#f1b6da"
            ],
            [
             0.4,
             "#fde0ef"
            ],
            [
             0.5,
             "#f7f7f7"
            ],
            [
             0.6,
             "#e6f5d0"
            ],
            [
             0.7,
             "#b8e186"
            ],
            [
             0.8,
             "#7fbc41"
            ],
            [
             0.9,
             "#4d9221"
            ],
            [
             1,
             "#276419"
            ]
           ],
           "sequential": [
            [
             0,
             "#0d0887"
            ],
            [
             0.1111111111111111,
             "#46039f"
            ],
            [
             0.2222222222222222,
             "#7201a8"
            ],
            [
             0.3333333333333333,
             "#9c179e"
            ],
            [
             0.4444444444444444,
             "#bd3786"
            ],
            [
             0.5555555555555556,
             "#d8576b"
            ],
            [
             0.6666666666666666,
             "#ed7953"
            ],
            [
             0.7777777777777778,
             "#fb9f3a"
            ],
            [
             0.8888888888888888,
             "#fdca26"
            ],
            [
             1,
             "#f0f921"
            ]
           ],
           "sequentialminus": [
            [
             0,
             "#0d0887"
            ],
            [
             0.1111111111111111,
             "#46039f"
            ],
            [
             0.2222222222222222,
             "#7201a8"
            ],
            [
             0.3333333333333333,
             "#9c179e"
            ],
            [
             0.4444444444444444,
             "#bd3786"
            ],
            [
             0.5555555555555556,
             "#d8576b"
            ],
            [
             0.6666666666666666,
             "#ed7953"
            ],
            [
             0.7777777777777778,
             "#fb9f3a"
            ],
            [
             0.8888888888888888,
             "#fdca26"
            ],
            [
             1,
             "#f0f921"
            ]
           ]
          },
          "colorway": [
           "#636efa",
           "#EF553B",
           "#00cc96",
           "#ab63fa",
           "#FFA15A",
           "#19d3f3",
           "#FF6692",
           "#B6E880",
           "#FF97FF",
           "#FECB52"
          ],
          "font": {
           "color": "#2a3f5f"
          },
          "geo": {
           "bgcolor": "white",
           "lakecolor": "white",
           "landcolor": "#E5ECF6",
           "showlakes": true,
           "showland": true,
           "subunitcolor": "white"
          },
          "hoverlabel": {
           "align": "left"
          },
          "hovermode": "closest",
          "mapbox": {
           "style": "light"
          },
          "paper_bgcolor": "white",
          "plot_bgcolor": "#E5ECF6",
          "polar": {
           "angularaxis": {
            "gridcolor": "white",
            "linecolor": "white",
            "ticks": ""
           },
           "bgcolor": "#E5ECF6",
           "radialaxis": {
            "gridcolor": "white",
            "linecolor": "white",
            "ticks": ""
           }
          },
          "scene": {
           "xaxis": {
            "backgroundcolor": "#E5ECF6",
            "gridcolor": "white",
            "gridwidth": 2,
            "linecolor": "white",
            "showbackground": true,
            "ticks": "",
            "zerolinecolor": "white"
           },
           "yaxis": {
            "backgroundcolor": "#E5ECF6",
            "gridcolor": "white",
            "gridwidth": 2,
            "linecolor": "white",
            "showbackground": true,
            "ticks": "",
            "zerolinecolor": "white"
           },
           "zaxis": {
            "backgroundcolor": "#E5ECF6",
            "gridcolor": "white",
            "gridwidth": 2,
            "linecolor": "white",
            "showbackground": true,
            "ticks": "",
            "zerolinecolor": "white"
           }
          },
          "shapedefaults": {
           "line": {
            "color": "#2a3f5f"
           }
          },
          "ternary": {
           "aaxis": {
            "gridcolor": "white",
            "linecolor": "white",
            "ticks": ""
           },
           "baxis": {
            "gridcolor": "white",
            "linecolor": "white",
            "ticks": ""
           },
           "bgcolor": "#E5ECF6",
           "caxis": {
            "gridcolor": "white",
            "linecolor": "white",
            "ticks": ""
           }
          },
          "title": {
           "x": 0.05
          },
          "xaxis": {
           "automargin": true,
           "gridcolor": "white",
           "linecolor": "white",
           "ticks": "",
           "title": {
            "standoff": 15
           },
           "zerolinecolor": "white",
           "zerolinewidth": 2
          },
          "yaxis": {
           "automargin": true,
           "gridcolor": "white",
           "linecolor": "white",
           "ticks": "",
           "title": {
            "standoff": 15
           },
           "zerolinecolor": "white",
           "zerolinewidth": 2
          }
         }
        },
        "title": {
         "text": "Temperature Distribution"
        },
        "xaxis": {
         "anchor": "y",
         "domain": [
          0,
          1
         ],
         "title": {
          "text": "temperature"
         }
        },
        "yaxis": {
         "anchor": "x",
         "domain": [
          0,
          1
         ],
         "title": {
          "text": "count"
         }
        }
       }
      }
     },
     "metadata": {},
     "output_type": "display_data"
    },
    {
     "data": {
      "application/vnd.plotly.v1+json": {
       "config": {
        "plotlyServerURL": "https://plot.ly"
       },
       "data": [
        {
         "alignmentgroup": "True",
         "bingroup": "x",
         "hovertemplate": "air_quality=%{x}<br>count=%{y}<extra></extra>",
         "legendgroup": "",
         "marker": {
          "color": "#EF553B",
          "pattern": {
           "shape": ""
          }
         },
         "name": "",
         "nbinsx": 20,
         "offsetgroup": "",
         "orientation": "v",
         "showlegend": false,
         "type": "histogram",
         "x": [
          "69.1",
          "61.6",
          "59.5",
          "59.8",
          "60.2",
          "60.2",
          "60.4",
          "60.6",
          "60.9",
          "60.8",
          "61.0",
          "60.8",
          "60.7",
          "60.7",
          "61.3",
          "61.5",
          "62.2",
          "62.5",
          "63.0",
          "63.7",
          "64.9",
          "65.9",
          "66.3",
          "67.0",
          "67.4",
          "67.9",
          "68.4",
          "68.5",
          "69.2",
          "69.6",
          "69.8",
          "69.7",
          "70.2",
          "70.4",
          "70.1",
          "70.5",
          "70.7",
          "70.9",
          "71.1",
          "71.2",
          "71.2",
          "71.4",
          "71.5",
          "71.2",
          "71.7",
          "71.8",
          "71.8",
          "72.1",
          "72.2",
          "72.2",
          "72.4",
          "72.4",
          "72.8",
          "72.8",
          "73.2",
          "73.1",
          "73.1",
          "73.3",
          "73.3",
          "73.1",
          "73.0",
          "73.2",
          "73.2",
          "73.3",
          "73.4",
          "73.5",
          "73.5",
          "73.7",
          "73.6",
          "73.6",
          "73.8",
          "73.9",
          "74.4",
          "74.4",
          "74.7",
          "74.6",
          "74.8",
          "74.9",
          "74.9",
          "75.0",
          "75.3",
          "75.0",
          "72.2",
          "70.2",
          "69.1",
          "68.1",
          "67.9",
          "67.0",
          "66.3",
          "65.3",
          "64.0",
          "62.7",
          "61.8",
          "60.7",
          "59.5",
          "59.0",
          "58.6",
          "58.3",
          "58.1",
          "58.0",
          "57.9",
          "58.7",
          "59.6",
          "59.9",
          "60.4",
          "59.9",
          "59.9",
          "60.3",
          "59.9",
          "59.7",
          "60.7",
          "60.6",
          "61.0",
          "60.9",
          "61.6",
          "61.1",
          "61.0",
          "62.1",
          "60.8",
          "60.2",
          "59.3",
          "59.0",
          "59.1",
          "60.0",
          "59.0",
          "60.7",
          "60.5",
          "60.9",
          "61.6",
          "61.7",
          "61.7",
          "61.9",
          "61.5",
          "61.9",
          "61.6",
          "62.2",
          "61.7",
          "61.6",
          "61.8",
          "61.4",
          "61.4",
          "61.3",
          "61.4",
          "61.8",
          "62.2",
          "61.9",
          "62.5",
          "62.0",
          "62.1",
          "62.1",
          "62.4",
          "62.7",
          "62.5",
          "62.6",
          "62.3",
          "62.5",
          "62.6",
          "62.5",
          "63.8",
          "64.4",
          "65.0",
          "65.8",
          "66.3",
          "66.9",
          "67.6",
          "63.2",
          "59.6",
          "60.2",
          "60.2",
          "60.1",
          "60.3",
          "60.3",
          "60.2",
          "60.3",
          "60.7",
          "60.8",
          "60.2",
          "60.6",
          "60.7",
          "61.0",
          "60.7",
          "61.1",
          "61.0",
          "62.5",
          "63.2",
          "64.0",
          "64.7",
          "64.7",
          "65.0",
          "65.9",
          "66.2",
          "66.3",
          "66.4",
          "66.7",
          "67.5",
          "67.1",
          "67.1",
          "67.5",
          "67.7",
          "68.3",
          "68.7",
          "68.8",
          "68.7",
          "69.2",
          "69.2",
          "69.6",
          "69.4",
          "69.7",
          "70.0",
          "70.0",
          "70.1",
          "70.2",
          "70.3",
          "70.6",
          "70.8",
          "70.7",
          "70.9",
          "71.0",
          "70.7",
          "71.1",
          "71.4",
          "72.1",
          "72.3",
          "72.7",
          "72.7",
          "72.8",
          "73.0",
          "72.9",
          "73.0",
          "73.1",
          "73.3",
          "73.0",
          "73.3",
          "73.5",
          "73.5",
          "73.6",
          "73.5",
          "73.3",
          "73.4",
          "73.4",
          "73.9",
          "73.7",
          "74.2",
          "74.5",
          "74.4",
          "74.7",
          "75.0",
          "74.8",
          "74.9",
          "75.3",
          "75.3",
          "75.2",
          "70.7",
          "69.4",
          "68.3",
          "67.5",
          "66.6",
          "66.0",
          "65.3",
          "64.1",
          "63.0",
          "62.1",
          "60.8",
          "60.4",
          "59.7",
          "58.8",
          "58.6",
          "58.2",
          "57.8",
          "57.7",
          "57.3",
          "57.6",
          "57.8",
          "58.4",
          "58.0",
          "57.8",
          "58.4",
          "58.1",
          "58.2",
          "59.0",
          "59.1",
          "59.4",
          "59.3",
          "58.8",
          "58.2",
          "58.5",
          "58.6",
          "58.4",
          "58.8",
          "58.2",
          "57.9",
          "58.2",
          "57.8",
          "58.4",
          "59.2",
          "59.4",
          "58.8",
          "59.5",
          "60.1",
          "58.4",
          "58.9",
          "59.6",
          "59.0",
          "59.8",
          "59.6",
          "60.0",
          "59.4",
          "59.6",
          "59.4",
          "59.6",
          "59.6",
          "59.7",
          "59.6",
          "59.8",
          "59.7",
          "59.7",
          "59.6",
          "59.7",
          "59.8",
          "60.0",
          "60.1",
          "60.1",
          "60.1",
          "59.2",
          "59.5",
          "60.5",
          "60.6",
          "60.5",
          "61.0",
          "62.7",
          "63.1",
          "63.5",
          "64.4",
          "65.0",
          "66.3",
          "66.7",
          "67.6",
          "68.0",
          "68.6",
          "69.1",
          "69.3",
          "69.4",
          "69.6",
          "69.7",
          "69.8",
          "70.5",
          "70.9",
          "71.2",
          "71.3",
          "71.3",
          "71.6",
          "71.5",
          "71.9",
          "72.1",
          "71.8",
          "71.9",
          "71.8",
          "72.5",
          "72.2",
          "72.5",
          "72.5",
          "72.9",
          "72.6",
          "72.7",
          "72.7",
          "73.1",
          "73.2",
          "73.3",
          "73.4",
          "73.5",
          "73.1",
          "73.4",
          "73.5",
          "73.3",
          "73.5",
          "73.5",
          "73.2",
          "73.3",
          "73.6",
          "73.7",
          "73.7",
          "73.9",
          "73.8",
          "74.0",
          "74.2",
          "74.3",
          "74.2",
          "74.3",
          "74.3",
          "74.4",
          "74.5",
          "74.7",
          "74.9",
          "75.0",
          "75.0",
          "73.7",
          "70.3",
          "69.3",
          "68.1",
          "68.0",
          "67.1",
          "66.4",
          "65.9",
          "64.8",
          "63.8",
          "62.2",
          "61.6",
          "60.7",
          "60.1",
          "59.4",
          "59.4",
          "59.0",
          "58.5",
          "59.0",
          "58.3",
          "58.0",
          "57.9",
          "57.7",
          "58.2",
          "58.5",
          "59.0",
          "59.2",
          "59.0",
          "59.6",
          "59.9",
          "59.1",
          "58.8",
          "58.9",
          "58.5",
          "59.2",
          "59.1",
          "59.2",
          "59.7",
          "59.7",
          "59.1",
          "59.5",
          "58.4",
          "57.9",
          "58.9",
          "58.6",
          "58.5",
          "59.5",
          "58.8",
          "58.9",
          "58.8",
          "58.9",
          "58.9",
          "58.8",
          "59.7",
          "58.8",
          "58.6",
          "59.5",
          "58.9",
          "58.7",
          "58.8",
          "58.5",
          "59.0",
          "58.6",
          "59.5",
          "59.4",
          "59.1",
          "58.3",
          "58.3",
          "59.2",
          "59.4",
          "59.4",
          "58.7",
          "59.1",
          "59.9",
          "60.1",
          "59.9",
          "60.1",
          "61.3",
          "61.8",
          "62.4",
          "64.0",
          "64.3",
          "64.9",
          "65.2",
          "65.3",
          "65.8",
          "65.9",
          "66.1",
          "66.3",
          "66.5",
          "67.0",
          "67.0",
          "67.1",
          "67.4",
          "67.8",
          "67.8",
          "67.9",
          "67.9",
          "68.0",
          "67.5",
          "68.0",
          "67.9",
          "67.8",
          "67.8",
          "67.9",
          "68.2",
          "68.2",
          "68.4",
          "68.3",
          "68.5",
          "68.6",
          "68.7",
          "68.9",
          "69.0",
          "69.3",
          "69.6",
          "69.9",
          "70.4",
          "70.4",
          "70.6",
          "70.8",
          "70.8",
          "70.7",
          "70.7",
          "70.8",
          "71.1",
          "71.3",
          "71.3",
          "71.2",
          "71.4",
          "71.5",
          "71.6",
          "71.5",
          "71.9",
          "72.1",
          "72.2",
          "72.4",
          "72.9",
          "73.0",
          "73.1",
          "73.4",
          "73.6",
          "73.9",
          "74.0",
          "71.6",
          "69.5",
          "68.3",
          "67.8",
          "67.3",
          "66.6",
          "65.7",
          "65.1",
          "63.7",
          "62.5",
          "62.0",
          "60.7",
          "59.9",
          "59.5",
          "58.7",
          "58.3",
          "58.2",
          "58.1",
          "57.6",
          "57.7",
          "58.5",
          "58.1",
          "59.4",
          "59.7",
          "59.2",
          "59.9",
          "60.1",
          "60.3",
          "60.4",
          "60.8",
          "60.0",
          "60.2",
          "60.7",
          "60.8",
          "60.5",
          "61.5",
          "61.0",
          "61.4",
          "61.8",
          "61.6",
          "60.5",
          "61.4",
          "61.2",
          "60.3",
          "61.6",
          "61.4",
          "61.2",
          "61.6",
          "61.8",
          "61.7",
          "61.5",
          "61.0",
          "60.1",
          "59.5",
          "61.1",
          "61.0",
          "60.8",
          "60.8",
          "61.1",
          "61.1",
          "60.7",
          "60.5",
          "60.2",
          "60.5",
          "60.2",
          "59.8",
          "59.8",
          "59.5",
          "59.3",
          "59.6",
          "59.4",
          "59.4",
          "59.8",
          "59.9",
          "59.9",
          "60.1",
          "60.1",
          "61.2",
          "61.5",
          "61.4",
          "61.9",
          "62.1",
          "62.6",
          "62.7",
          "63.6",
          "63.3",
          "64.0",
          "64.6",
          "64.3",
          "65.4",
          "65.5",
          "65.7",
          "65.6",
          "65.6",
          "65.6",
          "66.5",
          "66.2",
          "66.5",
          "67.1",
          "67.5",
          "67.7",
          "68.2",
          "68.1",
          "68.5",
          "69.1",
          "68.9",
          "69.3",
          "69.6",
          "69.7",
          "70.0",
          "69.9",
          "69.9",
          "70.0",
          "70.2",
          "70.7",
          "70.9",
          "71.0",
          "71.4",
          "71.3",
          "71.4",
          "71.3",
          "71.6",
          "71.8",
          "71.5",
          "71.8",
          "72.2",
          "72.2",
          "72.2",
          "72.2",
          "72.7",
          "72.6",
          "72.8",
          "73.0",
          "73.2",
          "73.1",
          "73.5",
          "73.7",
          "73.7",
          "73.9",
          "74.0",
          "74.1",
          "74.1",
          "74.3",
          "74.1",
          "71.6",
          "69.2",
          "68.8",
          "68.0",
          "67.0",
          "66.5",
          "65.8",
          "64.5",
          "63.7",
          "62.7",
          "61.6",
          "60.8",
          "60.1",
          "59.6",
          "59.4",
          "59.2",
          "58.9",
          "58.9",
          "58.9",
          "58.4",
          "58.2",
          "58.1",
          "58.1",
          "58.7",
          "59.2",
          "58.6",
          "59.1",
          "59.5",
          "52.5",
          "52.2",
          "53.1",
          "50.6",
          "49.5",
          "50.6",
          "51.3",
          "51.5",
          "51.2",
          "50.9",
          "51.4",
          "50.4",
          "49.7",
          "49.3",
          "50.1",
          "51.1",
          "50.3",
          "50.9",
          "50.7",
          "49.6",
          "49.0",
          "49.8",
          "49.9",
          "49.9",
          "49.3",
          "49.7",
          "48.6",
          "48.0",
          "49.0",
          "49.1",
          "49.0",
          "49.3",
          "48.5",
          "47.4",
          "48.1",
          "48.5",
          "48.2",
          "48.4",
          "48.0",
          "48.4",
          "49.3",
          "49.4",
          "49.2",
          "49.3",
          "48.9",
          "50.0",
          "50.0",
          "48.2",
          "47.8",
          "48.3",
          "48.9",
          "48.9",
          "49.3",
          "49.7",
          "50.4",
          "50.5",
          "51.0",
          "51.1",
          "52.1",
          "52.7",
          "53.2",
          "53.4",
          "53.7",
          "53.5",
          "53.7",
          "53.8",
          "54.0",
          "54.0",
          "54.6",
          "54.5",
          "54.5",
          "54.5",
          "55.2",
          "55.5",
          "55.7",
          "55.7",
          "56.2",
          "56.5",
          "56.9",
          "56.6",
          "56.9",
          "57.4",
          "57.3",
          "57.0",
          "57.2",
          "57.8",
          "58.3",
          "58.5",
          "58.8",
          "58.8",
          "59.0",
          "58.5",
          "58.5",
          "58.7",
          "58.9",
          "58.7",
          "58.6",
          "58.9",
          "58.9",
          "58.9",
          "58.7",
          "58.6",
          "58.8",
          "58.9",
          "58.7",
          "58.9",
          "58.7",
          "59.0",
          "59.0",
          "59.2",
          "59.6",
          "59.5",
          "59.9",
          "59.6",
          "59.7",
          "59.9",
          "60.0",
          "60.2",
          "60.4",
          "60.1",
          "60.2",
          "60.3",
          "60.3",
          "60.4",
          "60.8",
          "60.9",
          "61.2",
          "61.2",
          "61.3",
          "61.7",
          "61.4",
          "61.3",
          "61.3",
          "61.2",
          "60.6",
          "60.4",
          "59.9",
          "59.7",
          "59.3",
          "58.8",
          "58.2",
          "57.8",
          "57.4",
          "57.2",
          "56.6",
          "56.7",
          "56.5",
          "56.4",
          "56.0",
          "55.7",
          "55.0",
          "54.3",
          "53.9",
          "53.8",
          "53.7",
          "53.6",
          "53.5",
          "53.4",
          "53.1",
          "53.0",
          "52.4",
          "52.1",
          "51.6",
          "51.2",
          "50.6",
          "50.2",
          "49.9",
          "49.4",
          "48.9",
          "48.7",
          "48.4",
          "47.9",
          "47.7",
          "47.6",
          "47.5",
          "47.5",
          "47.4",
          "47.2",
          "47.2",
          "47.1",
          "47.0",
          "47.0",
          "47.1",
          "47.3",
          "47.6",
          "47.9",
          "48.0",
          "48.5",
          "48.8",
          "49.1",
          "49.6",
          "49.8",
          "50.2",
          "50.5",
          "50.7",
          "50.9",
          "51.2",
          "51.3",
          "51.8",
          "52.1",
          "52.4",
          "52.5",
          "52.8",
          "53.2",
          "53.3",
          "53.5",
          "53.6",
          "53.7",
          "53.9",
          "54.0",
          "54.2",
          "54.3",
          "54.5",
          "54.8",
          "54.6",
          "54.8",
          "54.7",
          "54.9",
          "55.1",
          "55.0",
          "55.1",
          "55.1",
          "55.1",
          "55.1",
          "55.1",
          "55.3",
          "55.5",
          "55.4",
          "55.8",
          "56.3",
          "56.4",
          "56.7",
          "56.7",
          "56.7",
          "56.8",
          "56.9",
          "56.7",
          "56.7",
          "56.9",
          "56.7",
          "56.7",
          "56.8",
          "56.7",
          "56.8",
          "56.9",
          "56.7",
          "56.8",
          "56.9",
          "56.7",
          "56.8",
          "57.0",
          "57.1",
          "57.2",
          "57.3",
          "57.2",
          "57.5",
          "57.5",
          "57.7",
          "58.0",
          "58.0",
          "58.3",
          "58.1",
          "58.3",
          "58.5",
          "58.7",
          "58.6",
          "58.7",
          "58.6",
          "59.0",
          "59.0",
          "59.0",
          "58.8",
          "59.0",
          "59.0",
          "58.8",
          "59.1",
          "58.6",
          "58.2",
          "57.7",
          "57.6",
          "57.4",
          "57.2",
          "57.1",
          "56.8",
          "56.5",
          "56.2",
          "56.0",
          "55.6",
          "55.2",
          "54.9",
          "54.4",
          "54.3",
          "53.6",
          "53.4",
          "52.6",
          "52.2",
          "51.8",
          "51.5",
          "51.2",
          "50.8",
          "50.7",
          "50.4",
          "50.3",
          "49.9",
          "49.4",
          "49.1",
          "48.7",
          "48.5",
          "48.3",
          "48.1",
          "48.0",
          "47.8",
          "47.8",
          "47.8",
          "47.7",
          "47.7",
          "47.7",
          "47.7",
          "47.6",
          "47.6",
          "47.6",
          "47.7",
          "47.4",
          "47.4",
          "47.5",
          "47.3",
          "47.2",
          "47.1",
          "46.9",
          "46.7",
          "46.9",
          "46.9",
          "47.1",
          "47.4",
          "47.8",
          "48.2",
          "48.6",
          "49.1",
          "49.9",
          "50.2",
          "50.8",
          "51.0",
          "51.3",
          "51.6",
          "52.3",
          "52.4",
          "52.7",
          "52.7",
          "53.1",
          "52.9",
          "53.0",
          "53.1",
          "53.3",
          "53.3",
          "53.3",
          "53.3",
          "53.3",
          "53.3",
          "53.6",
          "53.7",
          "54.1",
          "54.1",
          "54.1",
          "54.1",
          "54.2",
          "54.2",
          "54.2",
          "54.2",
          "54.1",
          "54.4",
          "54.4",
          "54.4",
          "54.6",
          "54.7",
          "54.8",
          "55.0",
          "55.3",
          "55.4",
          "55.6",
          "55.6",
          "55.7",
          "55.8",
          "55.9",
          "56.0",
          "56.1",
          "56.2",
          "56.4",
          "56.5",
          "56.4",
          "56.6",
          "56.6",
          "56.7",
          "56.7",
          "56.6",
          "57.0",
          "56.9",
          "57.5",
          "57.5",
          "57.5",
          "57.7",
          "57.8",
          "58.0",
          "58.0",
          "58.1",
          "57.1",
          "56.7",
          "57.1",
          "56.2",
          "55.2",
          "54.8",
          "53.0",
          "52.8",
          "51.8",
          "51.0",
          "50.2",
          "49.4",
          "48.9",
          "49.6",
          "50.5",
          "51.0",
          "51.4",
          "51.1",
          "51.7",
          "51.2",
          "51.6",
          "51.1",
          "51.4",
          "51.6",
          "51.8",
          "51.8",
          "52.1",
          "51.8",
          "51.8",
          "51.9",
          "51.8",
          "51.8",
          "52.0",
          "51.4",
          "51.5",
          "51.5",
          "51.2",
          "51.1",
          "51.7",
          "51.3",
          "50.6",
          "50.7",
          "50.9",
          "50.9",
          "50.8",
          "51.2",
          "50.7",
          "50.7",
          "51.2",
          "51.0",
          "50.5",
          "50.9",
          "50.6",
          "50.4",
          "50.2",
          "50.5",
          "49.9",
          "50.1",
          "49.6",
          "49.7",
          "50.1",
          "49.6",
          "49.5",
          "49.7",
          "49.6",
          "50.0",
          "50.3",
          "50.4",
          "50.4",
          "50.4",
          "50.6",
          "51.0",
          "51.1",
          "51.3",
          "51.2",
          "48.5",
          "49.2",
          "49.5",
          "50.2",
          "50.9"
         ],
         "xaxis": "x",
         "yaxis": "y"
        }
       ],
       "layout": {
        "barmode": "relative",
        "legend": {
         "tracegroupgap": 0
        },
        "template": {
         "data": {
          "bar": [
           {
            "error_x": {
             "color": "#2a3f5f"
            },
            "error_y": {
             "color": "#2a3f5f"
            },
            "marker": {
             "line": {
              "color": "#E5ECF6",
              "width": 0.5
             },
             "pattern": {
              "fillmode": "overlay",
              "size": 10,
              "solidity": 0.2
             }
            },
            "type": "bar"
           }
          ],
          "barpolar": [
           {
            "marker": {
             "line": {
              "color": "#E5ECF6",
              "width": 0.5
             },
             "pattern": {
              "fillmode": "overlay",
              "size": 10,
              "solidity": 0.2
             }
            },
            "type": "barpolar"
           }
          ],
          "carpet": [
           {
            "aaxis": {
             "endlinecolor": "#2a3f5f",
             "gridcolor": "white",
             "linecolor": "white",
             "minorgridcolor": "white",
             "startlinecolor": "#2a3f5f"
            },
            "baxis": {
             "endlinecolor": "#2a3f5f",
             "gridcolor": "white",
             "linecolor": "white",
             "minorgridcolor": "white",
             "startlinecolor": "#2a3f5f"
            },
            "type": "carpet"
           }
          ],
          "choropleth": [
           {
            "colorbar": {
             "outlinewidth": 0,
             "ticks": ""
            },
            "type": "choropleth"
           }
          ],
          "contour": [
           {
            "colorbar": {
             "outlinewidth": 0,
             "ticks": ""
            },
            "colorscale": [
             [
              0,
              "#0d0887"
             ],
             [
              0.1111111111111111,
              "#46039f"
             ],
             [
              0.2222222222222222,
              "#7201a8"
             ],
             [
              0.3333333333333333,
              "#9c179e"
             ],
             [
              0.4444444444444444,
              "#bd3786"
             ],
             [
              0.5555555555555556,
              "#d8576b"
             ],
             [
              0.6666666666666666,
              "#ed7953"
             ],
             [
              0.7777777777777778,
              "#fb9f3a"
             ],
             [
              0.8888888888888888,
              "#fdca26"
             ],
             [
              1,
              "#f0f921"
             ]
            ],
            "type": "contour"
           }
          ],
          "contourcarpet": [
           {
            "colorbar": {
             "outlinewidth": 0,
             "ticks": ""
            },
            "type": "contourcarpet"
           }
          ],
          "heatmap": [
           {
            "colorbar": {
             "outlinewidth": 0,
             "ticks": ""
            },
            "colorscale": [
             [
              0,
              "#0d0887"
             ],
             [
              0.1111111111111111,
              "#46039f"
             ],
             [
              0.2222222222222222,
              "#7201a8"
             ],
             [
              0.3333333333333333,
              "#9c179e"
             ],
             [
              0.4444444444444444,
              "#bd3786"
             ],
             [
              0.5555555555555556,
              "#d8576b"
             ],
             [
              0.6666666666666666,
              "#ed7953"
             ],
             [
              0.7777777777777778,
              "#fb9f3a"
             ],
             [
              0.8888888888888888,
              "#fdca26"
             ],
             [
              1,
              "#f0f921"
             ]
            ],
            "type": "heatmap"
           }
          ],
          "heatmapgl": [
           {
            "colorbar": {
             "outlinewidth": 0,
             "ticks": ""
            },
            "colorscale": [
             [
              0,
              "#0d0887"
             ],
             [
              0.1111111111111111,
              "#46039f"
             ],
             [
              0.2222222222222222,
              "#7201a8"
             ],
             [
              0.3333333333333333,
              "#9c179e"
             ],
             [
              0.4444444444444444,
              "#bd3786"
             ],
             [
              0.5555555555555556,
              "#d8576b"
             ],
             [
              0.6666666666666666,
              "#ed7953"
             ],
             [
              0.7777777777777778,
              "#fb9f3a"
             ],
             [
              0.8888888888888888,
              "#fdca26"
             ],
             [
              1,
              "#f0f921"
             ]
            ],
            "type": "heatmapgl"
           }
          ],
          "histogram": [
           {
            "marker": {
             "pattern": {
              "fillmode": "overlay",
              "size": 10,
              "solidity": 0.2
             }
            },
            "type": "histogram"
           }
          ],
          "histogram2d": [
           {
            "colorbar": {
             "outlinewidth": 0,
             "ticks": ""
            },
            "colorscale": [
             [
              0,
              "#0d0887"
             ],
             [
              0.1111111111111111,
              "#46039f"
             ],
             [
              0.2222222222222222,
              "#7201a8"
             ],
             [
              0.3333333333333333,
              "#9c179e"
             ],
             [
              0.4444444444444444,
              "#bd3786"
             ],
             [
              0.5555555555555556,
              "#d8576b"
             ],
             [
              0.6666666666666666,
              "#ed7953"
             ],
             [
              0.7777777777777778,
              "#fb9f3a"
             ],
             [
              0.8888888888888888,
              "#fdca26"
             ],
             [
              1,
              "#f0f921"
             ]
            ],
            "type": "histogram2d"
           }
          ],
          "histogram2dcontour": [
           {
            "colorbar": {
             "outlinewidth": 0,
             "ticks": ""
            },
            "colorscale": [
             [
              0,
              "#0d0887"
             ],
             [
              0.1111111111111111,
              "#46039f"
             ],
             [
              0.2222222222222222,
              "#7201a8"
             ],
             [
              0.3333333333333333,
              "#9c179e"
             ],
             [
              0.4444444444444444,
              "#bd3786"
             ],
             [
              0.5555555555555556,
              "#d8576b"
             ],
             [
              0.6666666666666666,
              "#ed7953"
             ],
             [
              0.7777777777777778,
              "#fb9f3a"
             ],
             [
              0.8888888888888888,
              "#fdca26"
             ],
             [
              1,
              "#f0f921"
             ]
            ],
            "type": "histogram2dcontour"
           }
          ],
          "mesh3d": [
           {
            "colorbar": {
             "outlinewidth": 0,
             "ticks": ""
            },
            "type": "mesh3d"
           }
          ],
          "parcoords": [
           {
            "line": {
             "colorbar": {
              "outlinewidth": 0,
              "ticks": ""
             }
            },
            "type": "parcoords"
           }
          ],
          "pie": [
           {
            "automargin": true,
            "type": "pie"
           }
          ],
          "scatter": [
           {
            "fillpattern": {
             "fillmode": "overlay",
             "size": 10,
             "solidity": 0.2
            },
            "type": "scatter"
           }
          ],
          "scatter3d": [
           {
            "line": {
             "colorbar": {
              "outlinewidth": 0,
              "ticks": ""
             }
            },
            "marker": {
             "colorbar": {
              "outlinewidth": 0,
              "ticks": ""
             }
            },
            "type": "scatter3d"
           }
          ],
          "scattercarpet": [
           {
            "marker": {
             "colorbar": {
              "outlinewidth": 0,
              "ticks": ""
             }
            },
            "type": "scattercarpet"
           }
          ],
          "scattergeo": [
           {
            "marker": {
             "colorbar": {
              "outlinewidth": 0,
              "ticks": ""
             }
            },
            "type": "scattergeo"
           }
          ],
          "scattergl": [
           {
            "marker": {
             "colorbar": {
              "outlinewidth": 0,
              "ticks": ""
             }
            },
            "type": "scattergl"
           }
          ],
          "scattermapbox": [
           {
            "marker": {
             "colorbar": {
              "outlinewidth": 0,
              "ticks": ""
             }
            },
            "type": "scattermapbox"
           }
          ],
          "scatterpolar": [
           {
            "marker": {
             "colorbar": {
              "outlinewidth": 0,
              "ticks": ""
             }
            },
            "type": "scatterpolar"
           }
          ],
          "scatterpolargl": [
           {
            "marker": {
             "colorbar": {
              "outlinewidth": 0,
              "ticks": ""
             }
            },
            "type": "scatterpolargl"
           }
          ],
          "scatterternary": [
           {
            "marker": {
             "colorbar": {
              "outlinewidth": 0,
              "ticks": ""
             }
            },
            "type": "scatterternary"
           }
          ],
          "surface": [
           {
            "colorbar": {
             "outlinewidth": 0,
             "ticks": ""
            },
            "colorscale": [
             [
              0,
              "#0d0887"
             ],
             [
              0.1111111111111111,
              "#46039f"
             ],
             [
              0.2222222222222222,
              "#7201a8"
             ],
             [
              0.3333333333333333,
              "#9c179e"
             ],
             [
              0.4444444444444444,
              "#bd3786"
             ],
             [
              0.5555555555555556,
              "#d8576b"
             ],
             [
              0.6666666666666666,
              "#ed7953"
             ],
             [
              0.7777777777777778,
              "#fb9f3a"
             ],
             [
              0.8888888888888888,
              "#fdca26"
             ],
             [
              1,
              "#f0f921"
             ]
            ],
            "type": "surface"
           }
          ],
          "table": [
           {
            "cells": {
             "fill": {
              "color": "#EBF0F8"
             },
             "line": {
              "color": "white"
             }
            },
            "header": {
             "fill": {
              "color": "#C8D4E3"
             },
             "line": {
              "color": "white"
             }
            },
            "type": "table"
           }
          ]
         },
         "layout": {
          "annotationdefaults": {
           "arrowcolor": "#2a3f5f",
           "arrowhead": 0,
           "arrowwidth": 1
          },
          "autotypenumbers": "strict",
          "coloraxis": {
           "colorbar": {
            "outlinewidth": 0,
            "ticks": ""
           }
          },
          "colorscale": {
           "diverging": [
            [
             0,
             "#8e0152"
            ],
            [
             0.1,
             "#c51b7d"
            ],
            [
             0.2,
             "#de77ae"
            ],
            [
             0.3,
             "#f1b6da"
            ],
            [
             0.4,
             "#fde0ef"
            ],
            [
             0.5,
             "#f7f7f7"
            ],
            [
             0.6,
             "#e6f5d0"
            ],
            [
             0.7,
             "#b8e186"
            ],
            [
             0.8,
             "#7fbc41"
            ],
            [
             0.9,
             "#4d9221"
            ],
            [
             1,
             "#276419"
            ]
           ],
           "sequential": [
            [
             0,
             "#0d0887"
            ],
            [
             0.1111111111111111,
             "#46039f"
            ],
            [
             0.2222222222222222,
             "#7201a8"
            ],
            [
             0.3333333333333333,
             "#9c179e"
            ],
            [
             0.4444444444444444,
             "#bd3786"
            ],
            [
             0.5555555555555556,
             "#d8576b"
            ],
            [
             0.6666666666666666,
             "#ed7953"
            ],
            [
             0.7777777777777778,
             "#fb9f3a"
            ],
            [
             0.8888888888888888,
             "#fdca26"
            ],
            [
             1,
             "#f0f921"
            ]
           ],
           "sequentialminus": [
            [
             0,
             "#0d0887"
            ],
            [
             0.1111111111111111,
             "#46039f"
            ],
            [
             0.2222222222222222,
             "#7201a8"
            ],
            [
             0.3333333333333333,
             "#9c179e"
            ],
            [
             0.4444444444444444,
             "#bd3786"
            ],
            [
             0.5555555555555556,
             "#d8576b"
            ],
            [
             0.6666666666666666,
             "#ed7953"
            ],
            [
             0.7777777777777778,
             "#fb9f3a"
            ],
            [
             0.8888888888888888,
             "#fdca26"
            ],
            [
             1,
             "#f0f921"
            ]
           ]
          },
          "colorway": [
           "#636efa",
           "#EF553B",
           "#00cc96",
           "#ab63fa",
           "#FFA15A",
           "#19d3f3",
           "#FF6692",
           "#B6E880",
           "#FF97FF",
           "#FECB52"
          ],
          "font": {
           "color": "#2a3f5f"
          },
          "geo": {
           "bgcolor": "white",
           "lakecolor": "white",
           "landcolor": "#E5ECF6",
           "showlakes": true,
           "showland": true,
           "subunitcolor": "white"
          },
          "hoverlabel": {
           "align": "left"
          },
          "hovermode": "closest",
          "mapbox": {
           "style": "light"
          },
          "paper_bgcolor": "white",
          "plot_bgcolor": "#E5ECF6",
          "polar": {
           "angularaxis": {
            "gridcolor": "white",
            "linecolor": "white",
            "ticks": ""
           },
           "bgcolor": "#E5ECF6",
           "radialaxis": {
            "gridcolor": "white",
            "linecolor": "white",
            "ticks": ""
           }
          },
          "scene": {
           "xaxis": {
            "backgroundcolor": "#E5ECF6",
            "gridcolor": "white",
            "gridwidth": 2,
            "linecolor": "white",
            "showbackground": true,
            "ticks": "",
            "zerolinecolor": "white"
           },
           "yaxis": {
            "backgroundcolor": "#E5ECF6",
            "gridcolor": "white",
            "gridwidth": 2,
            "linecolor": "white",
            "showbackground": true,
            "ticks": "",
            "zerolinecolor": "white"
           },
           "zaxis": {
            "backgroundcolor": "#E5ECF6",
            "gridcolor": "white",
            "gridwidth": 2,
            "linecolor": "white",
            "showbackground": true,
            "ticks": "",
            "zerolinecolor": "white"
           }
          },
          "shapedefaults": {
           "line": {
            "color": "#2a3f5f"
           }
          },
          "ternary": {
           "aaxis": {
            "gridcolor": "white",
            "linecolor": "white",
            "ticks": ""
           },
           "baxis": {
            "gridcolor": "white",
            "linecolor": "white",
            "ticks": ""
           },
           "bgcolor": "#E5ECF6",
           "caxis": {
            "gridcolor": "white",
            "linecolor": "white",
            "ticks": ""
           }
          },
          "title": {
           "x": 0.05
          },
          "xaxis": {
           "automargin": true,
           "gridcolor": "white",
           "linecolor": "white",
           "ticks": "",
           "title": {
            "standoff": 15
           },
           "zerolinecolor": "white",
           "zerolinewidth": 2
          },
          "yaxis": {
           "automargin": true,
           "gridcolor": "white",
           "linecolor": "white",
           "ticks": "",
           "title": {
            "standoff": 15
           },
           "zerolinecolor": "white",
           "zerolinewidth": 2
          }
         }
        },
        "title": {
         "text": "Air Quality Distribution"
        },
        "xaxis": {
         "anchor": "y",
         "domain": [
          0,
          1
         ],
         "title": {
          "text": "air_quality"
         }
        },
        "yaxis": {
         "anchor": "x",
         "domain": [
          0,
          1
         ],
         "title": {
          "text": "count"
         }
        }
       }
      }
     },
     "metadata": {},
     "output_type": "display_data"
    },
    {
     "data": {
      "application/vnd.plotly.v1+json": {
       "config": {
        "plotlyServerURL": "https://plot.ly"
       },
       "data": [
        {
         "alignmentgroup": "True",
         "bingroup": "x",
         "hovertemplate": "humidity=%{x}<br>count=%{y}<extra></extra>",
         "legendgroup": "",
         "marker": {
          "color": "#00CC96",
          "pattern": {
           "shape": ""
          }
         },
         "name": "",
         "nbinsx": 20,
         "offsetgroup": "",
         "orientation": "v",
         "showlegend": false,
         "type": "histogram",
         "x": [
          "24",
          "26",
          "27",
          "28",
          "28",
          "26",
          "28",
          "28",
          "27",
          "28",
          "28",
          "29",
          "28",
          "29",
          "29",
          "28",
          "30",
          "29",
          "28",
          "28",
          "29",
          "28",
          "28",
          "28",
          "28",
          "28",
          "28",
          "44",
          "28",
          "28",
          "29",
          "28",
          "29",
          "28",
          "29",
          "28",
          "29",
          "30",
          "30",
          "44",
          "29",
          "29",
          "30",
          "30",
          "29",
          "30",
          "30",
          "31",
          "30",
          "29",
          "30",
          "30",
          "31",
          "30",
          "30",
          "30",
          "28",
          "29",
          "30",
          "30",
          "33",
          "31",
          "31",
          "31",
          "31",
          "31",
          "31",
          "31",
          "31",
          "36",
          "32",
          "31",
          "31",
          "31",
          "31",
          "31",
          "31",
          "28",
          "30",
          "32",
          "30",
          "33",
          "31",
          "33",
          "34",
          "35",
          "36",
          "37",
          "37",
          "38",
          "38",
          "38",
          "38",
          "38",
          "38",
          "39",
          "38",
          "38",
          "38",
          "38",
          "38",
          "38",
          "38",
          "38",
          "39",
          "38",
          "36",
          "38",
          "38",
          "37",
          "38",
          "38",
          "38",
          "37",
          "38",
          "38",
          "39",
          "38",
          "38",
          "37",
          "38",
          "38",
          "38",
          "38",
          "38",
          "38",
          "38",
          "38",
          "38",
          "38",
          "39",
          "40",
          "39",
          "38",
          "38",
          "38",
          "38",
          "39",
          "37",
          "39",
          "38",
          "38",
          "37",
          "37",
          "37",
          "37",
          "37",
          "37",
          "37",
          "38",
          "38",
          "37",
          "38",
          "37",
          "39",
          "38",
          "38",
          "38",
          "37",
          "36",
          "35",
          "34",
          "35",
          "34",
          "33",
          "43",
          "47",
          "45",
          "45",
          "44",
          "44",
          "44",
          "44",
          "44",
          "44",
          "44",
          "43",
          "44",
          "44",
          "43",
          "44",
          "44",
          "44",
          "42",
          "43",
          "41",
          "40",
          "40",
          "39",
          "40",
          "39",
          "39",
          "39",
          "39",
          "40",
          "39",
          "39",
          "36",
          "40",
          "39",
          "39",
          "39",
          "40",
          "39",
          "39",
          "38",
          "39",
          "39",
          "39",
          "39",
          "38",
          "40",
          "40",
          "39",
          "39",
          "40",
          "41",
          "40",
          "40",
          "40",
          "39",
          "39",
          "39",
          "39",
          "39",
          "39",
          "39",
          "43",
          "39",
          "40",
          "34",
          "40",
          "40",
          "40",
          "39",
          "40",
          "40",
          "40",
          "40",
          "40",
          "37",
          "39",
          "39",
          "40",
          "39",
          "39",
          "39",
          "39",
          "39",
          "38",
          "39",
          "38",
          "39",
          "43",
          "45",
          "45",
          "46",
          "47",
          "48",
          "47",
          "47",
          "47",
          "48",
          "47",
          "47",
          "47",
          "46",
          "48",
          "46",
          "47",
          "48",
          "46",
          "46",
          "46",
          "46",
          "46",
          "48",
          "46",
          "45",
          "45",
          "45",
          "45",
          "45",
          "46",
          "46",
          "45",
          "47",
          "47",
          "48",
          "46",
          "47",
          "46",
          "47",
          "45",
          "46",
          "46",
          "45",
          "47",
          "46",
          "45",
          "45",
          "45",
          "45",
          "45",
          "45",
          "45",
          "45",
          "45",
          "45",
          "45",
          "45",
          "45",
          "48",
          "45",
          "46",
          "46",
          "46",
          "46",
          "45",
          "46",
          "46",
          "46",
          "46",
          "46",
          "45",
          "45",
          "45",
          "44",
          "43",
          "43",
          "41",
          "41",
          "41",
          "40",
          "39",
          "39",
          "39",
          "38",
          "38",
          "38",
          "37",
          "34",
          "38",
          "37",
          "37",
          "37",
          "37",
          "37",
          "37",
          "37",
          "37",
          "37",
          "37",
          "37",
          "37",
          "37",
          "38",
          "37",
          "38",
          "38",
          "37",
          "38",
          "38",
          "39",
          "38",
          "37",
          "37",
          "37",
          "36",
          "38",
          "38",
          "42",
          "39",
          "39",
          "38",
          "38",
          "38",
          "36",
          "41",
          "38",
          "40",
          "38",
          "37",
          "39",
          "39",
          "38",
          "38",
          "38",
          "37",
          "38",
          "38",
          "38",
          "37",
          "38",
          "38",
          "38",
          "39",
          "42",
          "45",
          "45",
          "46",
          "47",
          "47",
          "47",
          "46",
          "47",
          "47",
          "47",
          "48",
          "47",
          "46",
          "46",
          "46",
          "45",
          "46",
          "46",
          "46",
          "46",
          "45",
          "45",
          "45",
          "45",
          "45",
          "45",
          "45",
          "45",
          "45",
          "45",
          "46",
          "45",
          "45",
          "46",
          "45",
          "45",
          "44",
          "44",
          "44",
          "44",
          "44",
          "43",
          "44",
          "43",
          "44",
          "43",
          "42",
          "44",
          "44",
          "43",
          "44",
          "43",
          "44",
          "43",
          "43",
          "43",
          "43",
          "44",
          "42",
          "43",
          "42",
          "41",
          "40",
          "43",
          "42",
          "42",
          "43",
          "43",
          "44",
          "43",
          "43",
          "44",
          "43",
          "43",
          "42",
          "43",
          "41",
          "41",
          "40",
          "40",
          "39",
          "39",
          "38",
          "39",
          "38",
          "39",
          "39",
          "39",
          "38",
          "38",
          "39",
          "37",
          "38",
          "41",
          "38",
          "39",
          "36",
          "39",
          "39",
          "40",
          "40",
          "40",
          "40",
          "41",
          "41",
          "43",
          "42",
          "43",
          "43",
          "43",
          "43",
          "43",
          "42",
          "42",
          "42",
          "42",
          "41",
          "41",
          "42",
          "41",
          "41",
          "41",
          "41",
          "41",
          "41",
          "40",
          "41",
          "42",
          "41",
          "42",
          "42",
          "42",
          "41",
          "42",
          "41",
          "40",
          "41",
          "40",
          "40",
          "40",
          "40",
          "40",
          "41",
          "43",
          "45",
          "45",
          "45",
          "46",
          "46",
          "46",
          "46",
          "46",
          "46",
          "45",
          "46",
          "45",
          "45",
          "46",
          "45",
          "44",
          "45",
          "44",
          "45",
          "44",
          "43",
          "44",
          "44",
          "43",
          "45",
          "43",
          "43",
          "43",
          "43",
          "44",
          "43",
          "39",
          "42",
          "43",
          "42",
          "42",
          "41",
          "42",
          "42",
          "42",
          "42",
          "41",
          "41",
          "41",
          "42",
          "42",
          "42",
          "42",
          "42",
          "42",
          "42",
          "44",
          "43",
          "42",
          "42",
          "42",
          "43",
          "42",
          "42",
          "42",
          "43",
          "43",
          "43",
          "41",
          "43",
          "42",
          "42",
          "42",
          "42",
          "42",
          "43",
          "43",
          "43",
          "42",
          "41",
          "41",
          "40",
          "40",
          "39",
          "41",
          "40",
          "39",
          "40",
          "40",
          "38",
          "40",
          "33",
          "39",
          "40",
          "40",
          "42",
          "41",
          "41",
          "40",
          "42",
          "41",
          "42",
          "43",
          "41",
          "42",
          "34",
          "42",
          "42",
          "42",
          "42",
          "43",
          "42",
          "43",
          "42",
          "43",
          "42",
          "41",
          "41",
          "43",
          "43",
          "41",
          "43",
          "40",
          "51",
          "42",
          "43",
          "45",
          "42",
          "43",
          "43",
          "42",
          "41",
          "46",
          "42",
          "42",
          "41",
          "41",
          "41",
          "40",
          "41",
          "40",
          "40",
          "40",
          "39",
          "40",
          "40",
          "40",
          "49",
          "45",
          "45",
          "46",
          "46",
          "47",
          "46",
          "48",
          "47",
          "43",
          "46",
          "46",
          "47",
          "45",
          "46",
          "46",
          "45",
          "46",
          "46",
          "47",
          "48",
          "48",
          "50",
          "58",
          "57",
          "72",
          "67",
          "63",
          "59",
          "57",
          "54",
          "52",
          "49",
          "55",
          "47",
          "46",
          "46",
          "46",
          "45",
          "43",
          "47",
          "43",
          "43",
          "43",
          "47",
          "43",
          "46",
          "52",
          "43",
          "45",
          "44",
          "43",
          "42",
          "42",
          "43",
          "44",
          "44",
          "43",
          "43",
          "42",
          "41",
          "42",
          "42",
          "41",
          "40",
          "41",
          "41",
          "41",
          "41",
          "40",
          "40",
          "41",
          "41",
          "40",
          "41",
          "37",
          "39",
          "37",
          "39",
          "38",
          "37",
          "37",
          "37",
          "38",
          "38",
          "38",
          "38",
          "38",
          "38",
          "38",
          "40",
          "38",
          "38",
          "36",
          "37",
          "38",
          "38",
          "37",
          "41",
          "39",
          "39",
          "38",
          "38",
          "37",
          "42",
          "38",
          "38",
          "38",
          "38",
          "37",
          "38",
          "38",
          "38",
          "38",
          "38",
          "36",
          "38",
          "37",
          "37",
          "38",
          "38",
          "37",
          "38",
          "39",
          "37",
          "38",
          "39",
          "37",
          "38",
          "36",
          "39",
          "39",
          "37",
          "37",
          "37",
          "37",
          "38",
          "37",
          "37",
          "38",
          "38",
          "39",
          "38",
          "37",
          "37",
          "37",
          "37",
          "39",
          "37",
          "39",
          "38",
          "37",
          "37",
          "37",
          "36",
          "36",
          "42",
          "36",
          "36",
          "36",
          "36",
          "37",
          "36",
          "35",
          "36",
          "37",
          "36",
          "36",
          "36",
          "37",
          "36",
          "36",
          "35",
          "36",
          "35",
          "34",
          "36",
          "35",
          "39",
          "35",
          "35",
          "35",
          "35",
          "38",
          "37",
          "37",
          "36",
          "37",
          "64",
          "39",
          "36",
          "37",
          "36",
          "35",
          "36",
          "36",
          "36",
          "37",
          "37",
          "37",
          "37",
          "37",
          "37",
          "38",
          "38",
          "38",
          "38",
          "36",
          "39",
          "38",
          "39",
          "39",
          "38",
          "38",
          "42",
          "37",
          "39",
          "41",
          "39",
          "39",
          "37",
          "38",
          "39",
          "40",
          "36",
          "59",
          "40",
          "23",
          "40",
          "41",
          "40",
          "42",
          "44",
          "41",
          "41",
          "40",
          "41",
          "41",
          "41",
          "40",
          "41",
          "41",
          "41",
          "41",
          "41",
          "39",
          "41",
          "40",
          "46",
          "40",
          "41",
          "41",
          "43",
          "41",
          "41",
          "40",
          "41",
          "40",
          "41",
          "40",
          "41",
          "40",
          "41",
          "42",
          "37",
          "41",
          "38",
          "40",
          "41",
          "42",
          "42",
          "43",
          "43",
          "43",
          "42",
          "43",
          "43",
          "42",
          "41",
          "41",
          "41",
          "42",
          "41",
          "40",
          "40",
          "40",
          "40",
          "40",
          "40",
          "39",
          "38",
          "40",
          "41",
          "40",
          "40",
          "41",
          "40",
          "41",
          "39",
          "39",
          "39",
          "39",
          "46",
          "45",
          "42",
          "42",
          "41",
          "40",
          "41",
          "41",
          "39",
          "37",
          "40",
          "39",
          "39",
          "40",
          "44",
          "39",
          "39",
          "38",
          "38",
          "38",
          "38",
          "44",
          "38",
          "39",
          "39",
          "39",
          "39",
          "38",
          "39",
          "39",
          "38",
          "38",
          "41",
          "39",
          "39",
          "38",
          "37",
          "38",
          "39",
          "39",
          "39",
          "39",
          "39",
          "41",
          "43",
          "40",
          "40",
          "42",
          "41",
          "40",
          "41",
          "41",
          "40",
          "40",
          "39",
          "41",
          "42",
          "41",
          "40",
          "40",
          "39",
          "40",
          "41",
          "40",
          "42",
          "42",
          "38",
          "42",
          "39",
          "42",
          "42",
          "41",
          "43",
          "40",
          "43",
          "42",
          "42",
          "42",
          "43",
          "44",
          "42",
          "44",
          "43",
          "43",
          "43",
          "42",
          "42",
          "42",
          "42",
          "43",
          "42",
          "43",
          "42",
          "44",
          "43",
          "42",
          "42",
          "42",
          "42",
          "42",
          "41",
          "41",
          "41",
          "38",
          "38",
          "40",
          "40",
          "42",
          "39",
          "41",
          "41",
          "42",
          "40",
          "40",
          "40",
          "40",
          "41",
          "41",
          "41",
          "38",
          "44",
          "40",
          "41",
          "40",
          "42",
          "40",
          "40",
          "41",
          "40",
          "41",
          "41",
          "45",
          "47",
          "48",
          "48",
          "48",
          "49",
          "49",
          "49",
          "49",
          "49",
          "48",
          "47",
          "48",
          "47",
          "47",
          "46",
          "48",
          "47",
          "46",
          "46",
          "46",
          "45",
          "45",
          "47",
          "45",
          "45",
          "46",
          "44",
          "45",
          "46",
          "45",
          "46",
          "45",
          "46",
          "45",
          "46",
          "45",
          "45",
          "45",
          "43",
          "44",
          "43",
          "44",
          "46",
          "46",
          "46",
          "46",
          "45",
          "44",
          "47",
          "40",
          "44",
          "44",
          "44",
          "44",
          "43",
          "44",
          "44",
          "44",
          "44",
          "43",
          "44",
          "43",
          "43",
          "43",
          "43",
          "45",
          "42",
          "43",
          "44",
          "42",
          "44",
          "51",
          "42",
          "40",
          "40",
          "39",
          "40"
         ],
         "xaxis": "x",
         "yaxis": "y"
        }
       ],
       "layout": {
        "barmode": "relative",
        "legend": {
         "tracegroupgap": 0
        },
        "template": {
         "data": {
          "bar": [
           {
            "error_x": {
             "color": "#2a3f5f"
            },
            "error_y": {
             "color": "#2a3f5f"
            },
            "marker": {
             "line": {
              "color": "#E5ECF6",
              "width": 0.5
             },
             "pattern": {
              "fillmode": "overlay",
              "size": 10,
              "solidity": 0.2
             }
            },
            "type": "bar"
           }
          ],
          "barpolar": [
           {
            "marker": {
             "line": {
              "color": "#E5ECF6",
              "width": 0.5
             },
             "pattern": {
              "fillmode": "overlay",
              "size": 10,
              "solidity": 0.2
             }
            },
            "type": "barpolar"
           }
          ],
          "carpet": [
           {
            "aaxis": {
             "endlinecolor": "#2a3f5f",
             "gridcolor": "white",
             "linecolor": "white",
             "minorgridcolor": "white",
             "startlinecolor": "#2a3f5f"
            },
            "baxis": {
             "endlinecolor": "#2a3f5f",
             "gridcolor": "white",
             "linecolor": "white",
             "minorgridcolor": "white",
             "startlinecolor": "#2a3f5f"
            },
            "type": "carpet"
           }
          ],
          "choropleth": [
           {
            "colorbar": {
             "outlinewidth": 0,
             "ticks": ""
            },
            "type": "choropleth"
           }
          ],
          "contour": [
           {
            "colorbar": {
             "outlinewidth": 0,
             "ticks": ""
            },
            "colorscale": [
             [
              0,
              "#0d0887"
             ],
             [
              0.1111111111111111,
              "#46039f"
             ],
             [
              0.2222222222222222,
              "#7201a8"
             ],
             [
              0.3333333333333333,
              "#9c179e"
             ],
             [
              0.4444444444444444,
              "#bd3786"
             ],
             [
              0.5555555555555556,
              "#d8576b"
             ],
             [
              0.6666666666666666,
              "#ed7953"
             ],
             [
              0.7777777777777778,
              "#fb9f3a"
             ],
             [
              0.8888888888888888,
              "#fdca26"
             ],
             [
              1,
              "#f0f921"
             ]
            ],
            "type": "contour"
           }
          ],
          "contourcarpet": [
           {
            "colorbar": {
             "outlinewidth": 0,
             "ticks": ""
            },
            "type": "contourcarpet"
           }
          ],
          "heatmap": [
           {
            "colorbar": {
             "outlinewidth": 0,
             "ticks": ""
            },
            "colorscale": [
             [
              0,
              "#0d0887"
             ],
             [
              0.1111111111111111,
              "#46039f"
             ],
             [
              0.2222222222222222,
              "#7201a8"
             ],
             [
              0.3333333333333333,
              "#9c179e"
             ],
             [
              0.4444444444444444,
              "#bd3786"
             ],
             [
              0.5555555555555556,
              "#d8576b"
             ],
             [
              0.6666666666666666,
              "#ed7953"
             ],
             [
              0.7777777777777778,
              "#fb9f3a"
             ],
             [
              0.8888888888888888,
              "#fdca26"
             ],
             [
              1,
              "#f0f921"
             ]
            ],
            "type": "heatmap"
           }
          ],
          "heatmapgl": [
           {
            "colorbar": {
             "outlinewidth": 0,
             "ticks": ""
            },
            "colorscale": [
             [
              0,
              "#0d0887"
             ],
             [
              0.1111111111111111,
              "#46039f"
             ],
             [
              0.2222222222222222,
              "#7201a8"
             ],
             [
              0.3333333333333333,
              "#9c179e"
             ],
             [
              0.4444444444444444,
              "#bd3786"
             ],
             [
              0.5555555555555556,
              "#d8576b"
             ],
             [
              0.6666666666666666,
              "#ed7953"
             ],
             [
              0.7777777777777778,
              "#fb9f3a"
             ],
             [
              0.8888888888888888,
              "#fdca26"
             ],
             [
              1,
              "#f0f921"
             ]
            ],
            "type": "heatmapgl"
           }
          ],
          "histogram": [
           {
            "marker": {
             "pattern": {
              "fillmode": "overlay",
              "size": 10,
              "solidity": 0.2
             }
            },
            "type": "histogram"
           }
          ],
          "histogram2d": [
           {
            "colorbar": {
             "outlinewidth": 0,
             "ticks": ""
            },
            "colorscale": [
             [
              0,
              "#0d0887"
             ],
             [
              0.1111111111111111,
              "#46039f"
             ],
             [
              0.2222222222222222,
              "#7201a8"
             ],
             [
              0.3333333333333333,
              "#9c179e"
             ],
             [
              0.4444444444444444,
              "#bd3786"
             ],
             [
              0.5555555555555556,
              "#d8576b"
             ],
             [
              0.6666666666666666,
              "#ed7953"
             ],
             [
              0.7777777777777778,
              "#fb9f3a"
             ],
             [
              0.8888888888888888,
              "#fdca26"
             ],
             [
              1,
              "#f0f921"
             ]
            ],
            "type": "histogram2d"
           }
          ],
          "histogram2dcontour": [
           {
            "colorbar": {
             "outlinewidth": 0,
             "ticks": ""
            },
            "colorscale": [
             [
              0,
              "#0d0887"
             ],
             [
              0.1111111111111111,
              "#46039f"
             ],
             [
              0.2222222222222222,
              "#7201a8"
             ],
             [
              0.3333333333333333,
              "#9c179e"
             ],
             [
              0.4444444444444444,
              "#bd3786"
             ],
             [
              0.5555555555555556,
              "#d8576b"
             ],
             [
              0.6666666666666666,
              "#ed7953"
             ],
             [
              0.7777777777777778,
              "#fb9f3a"
             ],
             [
              0.8888888888888888,
              "#fdca26"
             ],
             [
              1,
              "#f0f921"
             ]
            ],
            "type": "histogram2dcontour"
           }
          ],
          "mesh3d": [
           {
            "colorbar": {
             "outlinewidth": 0,
             "ticks": ""
            },
            "type": "mesh3d"
           }
          ],
          "parcoords": [
           {
            "line": {
             "colorbar": {
              "outlinewidth": 0,
              "ticks": ""
             }
            },
            "type": "parcoords"
           }
          ],
          "pie": [
           {
            "automargin": true,
            "type": "pie"
           }
          ],
          "scatter": [
           {
            "fillpattern": {
             "fillmode": "overlay",
             "size": 10,
             "solidity": 0.2
            },
            "type": "scatter"
           }
          ],
          "scatter3d": [
           {
            "line": {
             "colorbar": {
              "outlinewidth": 0,
              "ticks": ""
             }
            },
            "marker": {
             "colorbar": {
              "outlinewidth": 0,
              "ticks": ""
             }
            },
            "type": "scatter3d"
           }
          ],
          "scattercarpet": [
           {
            "marker": {
             "colorbar": {
              "outlinewidth": 0,
              "ticks": ""
             }
            },
            "type": "scattercarpet"
           }
          ],
          "scattergeo": [
           {
            "marker": {
             "colorbar": {
              "outlinewidth": 0,
              "ticks": ""
             }
            },
            "type": "scattergeo"
           }
          ],
          "scattergl": [
           {
            "marker": {
             "colorbar": {
              "outlinewidth": 0,
              "ticks": ""
             }
            },
            "type": "scattergl"
           }
          ],
          "scattermapbox": [
           {
            "marker": {
             "colorbar": {
              "outlinewidth": 0,
              "ticks": ""
             }
            },
            "type": "scattermapbox"
           }
          ],
          "scatterpolar": [
           {
            "marker": {
             "colorbar": {
              "outlinewidth": 0,
              "ticks": ""
             }
            },
            "type": "scatterpolar"
           }
          ],
          "scatterpolargl": [
           {
            "marker": {
             "colorbar": {
              "outlinewidth": 0,
              "ticks": ""
             }
            },
            "type": "scatterpolargl"
           }
          ],
          "scatterternary": [
           {
            "marker": {
             "colorbar": {
              "outlinewidth": 0,
              "ticks": ""
             }
            },
            "type": "scatterternary"
           }
          ],
          "surface": [
           {
            "colorbar": {
             "outlinewidth": 0,
             "ticks": ""
            },
            "colorscale": [
             [
              0,
              "#0d0887"
             ],
             [
              0.1111111111111111,
              "#46039f"
             ],
             [
              0.2222222222222222,
              "#7201a8"
             ],
             [
              0.3333333333333333,
              "#9c179e"
             ],
             [
              0.4444444444444444,
              "#bd3786"
             ],
             [
              0.5555555555555556,
              "#d8576b"
             ],
             [
              0.6666666666666666,
              "#ed7953"
             ],
             [
              0.7777777777777778,
              "#fb9f3a"
             ],
             [
              0.8888888888888888,
              "#fdca26"
             ],
             [
              1,
              "#f0f921"
             ]
            ],
            "type": "surface"
           }
          ],
          "table": [
           {
            "cells": {
             "fill": {
              "color": "#EBF0F8"
             },
             "line": {
              "color": "white"
             }
            },
            "header": {
             "fill": {
              "color": "#C8D4E3"
             },
             "line": {
              "color": "white"
             }
            },
            "type": "table"
           }
          ]
         },
         "layout": {
          "annotationdefaults": {
           "arrowcolor": "#2a3f5f",
           "arrowhead": 0,
           "arrowwidth": 1
          },
          "autotypenumbers": "strict",
          "coloraxis": {
           "colorbar": {
            "outlinewidth": 0,
            "ticks": ""
           }
          },
          "colorscale": {
           "diverging": [
            [
             0,
             "#8e0152"
            ],
            [
             0.1,
             "#c51b7d"
            ],
            [
             0.2,
             "#de77ae"
            ],
            [
             0.3,
             "#f1b6da"
            ],
            [
             0.4,
             "#fde0ef"
            ],
            [
             0.5,
             "#f7f7f7"
            ],
            [
             0.6,
             "#e6f5d0"
            ],
            [
             0.7,
             "#b8e186"
            ],
            [
             0.8,
             "#7fbc41"
            ],
            [
             0.9,
             "#4d9221"
            ],
            [
             1,
             "#276419"
            ]
           ],
           "sequential": [
            [
             0,
             "#0d0887"
            ],
            [
             0.1111111111111111,
             "#46039f"
            ],
            [
             0.2222222222222222,
             "#7201a8"
            ],
            [
             0.3333333333333333,
             "#9c179e"
            ],
            [
             0.4444444444444444,
             "#bd3786"
            ],
            [
             0.5555555555555556,
             "#d8576b"
            ],
            [
             0.6666666666666666,
             "#ed7953"
            ],
            [
             0.7777777777777778,
             "#fb9f3a"
            ],
            [
             0.8888888888888888,
             "#fdca26"
            ],
            [
             1,
             "#f0f921"
            ]
           ],
           "sequentialminus": [
            [
             0,
             "#0d0887"
            ],
            [
             0.1111111111111111,
             "#46039f"
            ],
            [
             0.2222222222222222,
             "#7201a8"
            ],
            [
             0.3333333333333333,
             "#9c179e"
            ],
            [
             0.4444444444444444,
             "#bd3786"
            ],
            [
             0.5555555555555556,
             "#d8576b"
            ],
            [
             0.6666666666666666,
             "#ed7953"
            ],
            [
             0.7777777777777778,
             "#fb9f3a"
            ],
            [
             0.8888888888888888,
             "#fdca26"
            ],
            [
             1,
             "#f0f921"
            ]
           ]
          },
          "colorway": [
           "#636efa",
           "#EF553B",
           "#00cc96",
           "#ab63fa",
           "#FFA15A",
           "#19d3f3",
           "#FF6692",
           "#B6E880",
           "#FF97FF",
           "#FECB52"
          ],
          "font": {
           "color": "#2a3f5f"
          },
          "geo": {
           "bgcolor": "white",
           "lakecolor": "white",
           "landcolor": "#E5ECF6",
           "showlakes": true,
           "showland": true,
           "subunitcolor": "white"
          },
          "hoverlabel": {
           "align": "left"
          },
          "hovermode": "closest",
          "mapbox": {
           "style": "light"
          },
          "paper_bgcolor": "white",
          "plot_bgcolor": "#E5ECF6",
          "polar": {
           "angularaxis": {
            "gridcolor": "white",
            "linecolor": "white",
            "ticks": ""
           },
           "bgcolor": "#E5ECF6",
           "radialaxis": {
            "gridcolor": "white",
            "linecolor": "white",
            "ticks": ""
           }
          },
          "scene": {
           "xaxis": {
            "backgroundcolor": "#E5ECF6",
            "gridcolor": "white",
            "gridwidth": 2,
            "linecolor": "white",
            "showbackground": true,
            "ticks": "",
            "zerolinecolor": "white"
           },
           "yaxis": {
            "backgroundcolor": "#E5ECF6",
            "gridcolor": "white",
            "gridwidth": 2,
            "linecolor": "white",
            "showbackground": true,
            "ticks": "",
            "zerolinecolor": "white"
           },
           "zaxis": {
            "backgroundcolor": "#E5ECF6",
            "gridcolor": "white",
            "gridwidth": 2,
            "linecolor": "white",
            "showbackground": true,
            "ticks": "",
            "zerolinecolor": "white"
           }
          },
          "shapedefaults": {
           "line": {
            "color": "#2a3f5f"
           }
          },
          "ternary": {
           "aaxis": {
            "gridcolor": "white",
            "linecolor": "white",
            "ticks": ""
           },
           "baxis": {
            "gridcolor": "white",
            "linecolor": "white",
            "ticks": ""
           },
           "bgcolor": "#E5ECF6",
           "caxis": {
            "gridcolor": "white",
            "linecolor": "white",
            "ticks": ""
           }
          },
          "title": {
           "x": 0.05
          },
          "xaxis": {
           "automargin": true,
           "gridcolor": "white",
           "linecolor": "white",
           "ticks": "",
           "title": {
            "standoff": 15
           },
           "zerolinecolor": "white",
           "zerolinewidth": 2
          },
          "yaxis": {
           "automargin": true,
           "gridcolor": "white",
           "linecolor": "white",
           "ticks": "",
           "title": {
            "standoff": 15
           },
           "zerolinecolor": "white",
           "zerolinewidth": 2
          }
         }
        },
        "title": {
         "text": "Humidity Distribution"
        },
        "xaxis": {
         "anchor": "y",
         "domain": [
          0,
          1
         ],
         "title": {
          "text": "humidity"
         }
        },
        "yaxis": {
         "anchor": "x",
         "domain": [
          0,
          1
         ],
         "title": {
          "text": "count"
         }
        }
       }
      }
     },
     "metadata": {},
     "output_type": "display_data"
    }
   ],
   "source": [
    "import plotly.express as px\n",
    "\n",
    "# Define custom color sequences\n",
    "temperature_color = ['#636EFA']  # Blue color for temperature\n",
    "air_quality_color = ['#EF553B']  # Red color for air quality\n",
    "humidity_color = ['#00CC96']  # Green color for humidity\n",
    "\n",
    "# Temperature Distribution\n",
    "fig_temp = px.histogram(df, x='temperature', nbins=20, title='Temperature Distribution',\n",
    "                        color_discrete_sequence=temperature_color)\n",
    "fig_temp.show()\n",
    "\n",
    "# Air Quality Distribution\n",
    "fig_air_quality = px.histogram(df, x='air_quality', nbins=20, title='Air Quality Distribution',\n",
    "                               color_discrete_sequence=air_quality_color)\n",
    "fig_air_quality.show()\n",
    "\n",
    "# Humidity Distribution\n",
    "fig_humidity = px.histogram(df, x='humidity', nbins=20, title='Humidity Distribution',\n",
    "                            color_discrete_sequence=humidity_color)\n",
    "fig_humidity.show()"
   ]
  },
  {
   "cell_type": "markdown",
   "metadata": {},
   "source": [
    "1. Air Quality Distribution:\n",
    "\n",
    "\t• The air quality distribution shows a wide range of values, with certain peaks indicating more frequent occurrences of specific air quality levels. The frequent peaks suggest that the air quality is often in specific ranges, suggesting controlled environmental conditions or recurring events that affect air quality.\n",
    "\n",
    "2. Humidity Distribution:\n",
    "\n",
    "\t• The humidity distribution appears to be bimodal, with two prominent peaks around the 38% and 42% humidity levels. This suggests that the factory environment typically operates within these two humidity levels, possibly due to specific operational settings or environmental controls. The presence of these two distinct peaks suggests a change in the environmental controls or in external conditions.\n",
    "\n",
    "3. Temperature Distribution:\n",
    "\n",
    "\t• The temperature distribution also displays a trend with several peaks, particularly around 27°C and 28°C. This indicates that the temperature is frequently maintained within these ranges, possibly due to controlled heating or cooling processes. The distribution’s spread shows that the temperature varies but remains within a certain range, which could be critical for maintaining optimal operational conditions."
   ]
  },
  {
   "cell_type": "markdown",
   "metadata": {},
   "source": [
    "### Correlation Matrix"
   ]
  },
  {
   "cell_type": "code",
   "execution_count": 87,
   "metadata": {},
   "outputs": [
    {
     "data": {
      "application/vnd.plotly.v1+json": {
       "config": {
        "plotlyServerURL": "https://plot.ly"
       },
       "data": [
        {
         "colorscale": [
          [
           0,
           "#440154"
          ],
          [
           0.1111111111111111,
           "#482878"
          ],
          [
           0.2222222222222222,
           "#3e4989"
          ],
          [
           0.3333333333333333,
           "#31688e"
          ],
          [
           0.4444444444444444,
           "#26828e"
          ],
          [
           0.5555555555555556,
           "#1f9e89"
          ],
          [
           0.6666666666666666,
           "#35b779"
          ],
          [
           0.7777777777777778,
           "#6ece58"
          ],
          [
           0.8888888888888888,
           "#b5de2b"
          ],
          [
           1,
           "#fde725"
          ]
         ],
         "type": "heatmap",
         "x": [
          "temperature",
          "air_quality",
          "humidity"
         ],
         "y": [
          "temperature",
          "air_quality",
          "humidity"
         ],
         "z": [
          [
           1,
           -0.5970458648787996,
           -0.08737380806240595
          ],
          [
           -0.5970458648787996,
           1,
           -0.30498899427116566
          ],
          [
           -0.08737380806240595,
           -0.30498899427116566,
           1
          ]
         ]
        }
       ],
       "layout": {
        "template": {
         "data": {
          "bar": [
           {
            "error_x": {
             "color": "#2a3f5f"
            },
            "error_y": {
             "color": "#2a3f5f"
            },
            "marker": {
             "line": {
              "color": "#E5ECF6",
              "width": 0.5
             },
             "pattern": {
              "fillmode": "overlay",
              "size": 10,
              "solidity": 0.2
             }
            },
            "type": "bar"
           }
          ],
          "barpolar": [
           {
            "marker": {
             "line": {
              "color": "#E5ECF6",
              "width": 0.5
             },
             "pattern": {
              "fillmode": "overlay",
              "size": 10,
              "solidity": 0.2
             }
            },
            "type": "barpolar"
           }
          ],
          "carpet": [
           {
            "aaxis": {
             "endlinecolor": "#2a3f5f",
             "gridcolor": "white",
             "linecolor": "white",
             "minorgridcolor": "white",
             "startlinecolor": "#2a3f5f"
            },
            "baxis": {
             "endlinecolor": "#2a3f5f",
             "gridcolor": "white",
             "linecolor": "white",
             "minorgridcolor": "white",
             "startlinecolor": "#2a3f5f"
            },
            "type": "carpet"
           }
          ],
          "choropleth": [
           {
            "colorbar": {
             "outlinewidth": 0,
             "ticks": ""
            },
            "type": "choropleth"
           }
          ],
          "contour": [
           {
            "colorbar": {
             "outlinewidth": 0,
             "ticks": ""
            },
            "colorscale": [
             [
              0,
              "#0d0887"
             ],
             [
              0.1111111111111111,
              "#46039f"
             ],
             [
              0.2222222222222222,
              "#7201a8"
             ],
             [
              0.3333333333333333,
              "#9c179e"
             ],
             [
              0.4444444444444444,
              "#bd3786"
             ],
             [
              0.5555555555555556,
              "#d8576b"
             ],
             [
              0.6666666666666666,
              "#ed7953"
             ],
             [
              0.7777777777777778,
              "#fb9f3a"
             ],
             [
              0.8888888888888888,
              "#fdca26"
             ],
             [
              1,
              "#f0f921"
             ]
            ],
            "type": "contour"
           }
          ],
          "contourcarpet": [
           {
            "colorbar": {
             "outlinewidth": 0,
             "ticks": ""
            },
            "type": "contourcarpet"
           }
          ],
          "heatmap": [
           {
            "colorbar": {
             "outlinewidth": 0,
             "ticks": ""
            },
            "colorscale": [
             [
              0,
              "#0d0887"
             ],
             [
              0.1111111111111111,
              "#46039f"
             ],
             [
              0.2222222222222222,
              "#7201a8"
             ],
             [
              0.3333333333333333,
              "#9c179e"
             ],
             [
              0.4444444444444444,
              "#bd3786"
             ],
             [
              0.5555555555555556,
              "#d8576b"
             ],
             [
              0.6666666666666666,
              "#ed7953"
             ],
             [
              0.7777777777777778,
              "#fb9f3a"
             ],
             [
              0.8888888888888888,
              "#fdca26"
             ],
             [
              1,
              "#f0f921"
             ]
            ],
            "type": "heatmap"
           }
          ],
          "heatmapgl": [
           {
            "colorbar": {
             "outlinewidth": 0,
             "ticks": ""
            },
            "colorscale": [
             [
              0,
              "#0d0887"
             ],
             [
              0.1111111111111111,
              "#46039f"
             ],
             [
              0.2222222222222222,
              "#7201a8"
             ],
             [
              0.3333333333333333,
              "#9c179e"
             ],
             [
              0.4444444444444444,
              "#bd3786"
             ],
             [
              0.5555555555555556,
              "#d8576b"
             ],
             [
              0.6666666666666666,
              "#ed7953"
             ],
             [
              0.7777777777777778,
              "#fb9f3a"
             ],
             [
              0.8888888888888888,
              "#fdca26"
             ],
             [
              1,
              "#f0f921"
             ]
            ],
            "type": "heatmapgl"
           }
          ],
          "histogram": [
           {
            "marker": {
             "pattern": {
              "fillmode": "overlay",
              "size": 10,
              "solidity": 0.2
             }
            },
            "type": "histogram"
           }
          ],
          "histogram2d": [
           {
            "colorbar": {
             "outlinewidth": 0,
             "ticks": ""
            },
            "colorscale": [
             [
              0,
              "#0d0887"
             ],
             [
              0.1111111111111111,
              "#46039f"
             ],
             [
              0.2222222222222222,
              "#7201a8"
             ],
             [
              0.3333333333333333,
              "#9c179e"
             ],
             [
              0.4444444444444444,
              "#bd3786"
             ],
             [
              0.5555555555555556,
              "#d8576b"
             ],
             [
              0.6666666666666666,
              "#ed7953"
             ],
             [
              0.7777777777777778,
              "#fb9f3a"
             ],
             [
              0.8888888888888888,
              "#fdca26"
             ],
             [
              1,
              "#f0f921"
             ]
            ],
            "type": "histogram2d"
           }
          ],
          "histogram2dcontour": [
           {
            "colorbar": {
             "outlinewidth": 0,
             "ticks": ""
            },
            "colorscale": [
             [
              0,
              "#0d0887"
             ],
             [
              0.1111111111111111,
              "#46039f"
             ],
             [
              0.2222222222222222,
              "#7201a8"
             ],
             [
              0.3333333333333333,
              "#9c179e"
             ],
             [
              0.4444444444444444,
              "#bd3786"
             ],
             [
              0.5555555555555556,
              "#d8576b"
             ],
             [
              0.6666666666666666,
              "#ed7953"
             ],
             [
              0.7777777777777778,
              "#fb9f3a"
             ],
             [
              0.8888888888888888,
              "#fdca26"
             ],
             [
              1,
              "#f0f921"
             ]
            ],
            "type": "histogram2dcontour"
           }
          ],
          "mesh3d": [
           {
            "colorbar": {
             "outlinewidth": 0,
             "ticks": ""
            },
            "type": "mesh3d"
           }
          ],
          "parcoords": [
           {
            "line": {
             "colorbar": {
              "outlinewidth": 0,
              "ticks": ""
             }
            },
            "type": "parcoords"
           }
          ],
          "pie": [
           {
            "automargin": true,
            "type": "pie"
           }
          ],
          "scatter": [
           {
            "fillpattern": {
             "fillmode": "overlay",
             "size": 10,
             "solidity": 0.2
            },
            "type": "scatter"
           }
          ],
          "scatter3d": [
           {
            "line": {
             "colorbar": {
              "outlinewidth": 0,
              "ticks": ""
             }
            },
            "marker": {
             "colorbar": {
              "outlinewidth": 0,
              "ticks": ""
             }
            },
            "type": "scatter3d"
           }
          ],
          "scattercarpet": [
           {
            "marker": {
             "colorbar": {
              "outlinewidth": 0,
              "ticks": ""
             }
            },
            "type": "scattercarpet"
           }
          ],
          "scattergeo": [
           {
            "marker": {
             "colorbar": {
              "outlinewidth": 0,
              "ticks": ""
             }
            },
            "type": "scattergeo"
           }
          ],
          "scattergl": [
           {
            "marker": {
             "colorbar": {
              "outlinewidth": 0,
              "ticks": ""
             }
            },
            "type": "scattergl"
           }
          ],
          "scattermapbox": [
           {
            "marker": {
             "colorbar": {
              "outlinewidth": 0,
              "ticks": ""
             }
            },
            "type": "scattermapbox"
           }
          ],
          "scatterpolar": [
           {
            "marker": {
             "colorbar": {
              "outlinewidth": 0,
              "ticks": ""
             }
            },
            "type": "scatterpolar"
           }
          ],
          "scatterpolargl": [
           {
            "marker": {
             "colorbar": {
              "outlinewidth": 0,
              "ticks": ""
             }
            },
            "type": "scatterpolargl"
           }
          ],
          "scatterternary": [
           {
            "marker": {
             "colorbar": {
              "outlinewidth": 0,
              "ticks": ""
             }
            },
            "type": "scatterternary"
           }
          ],
          "surface": [
           {
            "colorbar": {
             "outlinewidth": 0,
             "ticks": ""
            },
            "colorscale": [
             [
              0,
              "#0d0887"
             ],
             [
              0.1111111111111111,
              "#46039f"
             ],
             [
              0.2222222222222222,
              "#7201a8"
             ],
             [
              0.3333333333333333,
              "#9c179e"
             ],
             [
              0.4444444444444444,
              "#bd3786"
             ],
             [
              0.5555555555555556,
              "#d8576b"
             ],
             [
              0.6666666666666666,
              "#ed7953"
             ],
             [
              0.7777777777777778,
              "#fb9f3a"
             ],
             [
              0.8888888888888888,
              "#fdca26"
             ],
             [
              1,
              "#f0f921"
             ]
            ],
            "type": "surface"
           }
          ],
          "table": [
           {
            "cells": {
             "fill": {
              "color": "#EBF0F8"
             },
             "line": {
              "color": "white"
             }
            },
            "header": {
             "fill": {
              "color": "#C8D4E3"
             },
             "line": {
              "color": "white"
             }
            },
            "type": "table"
           }
          ]
         },
         "layout": {
          "annotationdefaults": {
           "arrowcolor": "#2a3f5f",
           "arrowhead": 0,
           "arrowwidth": 1
          },
          "autotypenumbers": "strict",
          "coloraxis": {
           "colorbar": {
            "outlinewidth": 0,
            "ticks": ""
           }
          },
          "colorscale": {
           "diverging": [
            [
             0,
             "#8e0152"
            ],
            [
             0.1,
             "#c51b7d"
            ],
            [
             0.2,
             "#de77ae"
            ],
            [
             0.3,
             "#f1b6da"
            ],
            [
             0.4,
             "#fde0ef"
            ],
            [
             0.5,
             "#f7f7f7"
            ],
            [
             0.6,
             "#e6f5d0"
            ],
            [
             0.7,
             "#b8e186"
            ],
            [
             0.8,
             "#7fbc41"
            ],
            [
             0.9,
             "#4d9221"
            ],
            [
             1,
             "#276419"
            ]
           ],
           "sequential": [
            [
             0,
             "#0d0887"
            ],
            [
             0.1111111111111111,
             "#46039f"
            ],
            [
             0.2222222222222222,
             "#7201a8"
            ],
            [
             0.3333333333333333,
             "#9c179e"
            ],
            [
             0.4444444444444444,
             "#bd3786"
            ],
            [
             0.5555555555555556,
             "#d8576b"
            ],
            [
             0.6666666666666666,
             "#ed7953"
            ],
            [
             0.7777777777777778,
             "#fb9f3a"
            ],
            [
             0.8888888888888888,
             "#fdca26"
            ],
            [
             1,
             "#f0f921"
            ]
           ],
           "sequentialminus": [
            [
             0,
             "#0d0887"
            ],
            [
             0.1111111111111111,
             "#46039f"
            ],
            [
             0.2222222222222222,
             "#7201a8"
            ],
            [
             0.3333333333333333,
             "#9c179e"
            ],
            [
             0.4444444444444444,
             "#bd3786"
            ],
            [
             0.5555555555555556,
             "#d8576b"
            ],
            [
             0.6666666666666666,
             "#ed7953"
            ],
            [
             0.7777777777777778,
             "#fb9f3a"
            ],
            [
             0.8888888888888888,
             "#fdca26"
            ],
            [
             1,
             "#f0f921"
            ]
           ]
          },
          "colorway": [
           "#636efa",
           "#EF553B",
           "#00cc96",
           "#ab63fa",
           "#FFA15A",
           "#19d3f3",
           "#FF6692",
           "#B6E880",
           "#FF97FF",
           "#FECB52"
          ],
          "font": {
           "color": "#2a3f5f"
          },
          "geo": {
           "bgcolor": "white",
           "lakecolor": "white",
           "landcolor": "#E5ECF6",
           "showlakes": true,
           "showland": true,
           "subunitcolor": "white"
          },
          "hoverlabel": {
           "align": "left"
          },
          "hovermode": "closest",
          "mapbox": {
           "style": "light"
          },
          "paper_bgcolor": "white",
          "plot_bgcolor": "#E5ECF6",
          "polar": {
           "angularaxis": {
            "gridcolor": "white",
            "linecolor": "white",
            "ticks": ""
           },
           "bgcolor": "#E5ECF6",
           "radialaxis": {
            "gridcolor": "white",
            "linecolor": "white",
            "ticks": ""
           }
          },
          "scene": {
           "xaxis": {
            "backgroundcolor": "#E5ECF6",
            "gridcolor": "white",
            "gridwidth": 2,
            "linecolor": "white",
            "showbackground": true,
            "ticks": "",
            "zerolinecolor": "white"
           },
           "yaxis": {
            "backgroundcolor": "#E5ECF6",
            "gridcolor": "white",
            "gridwidth": 2,
            "linecolor": "white",
            "showbackground": true,
            "ticks": "",
            "zerolinecolor": "white"
           },
           "zaxis": {
            "backgroundcolor": "#E5ECF6",
            "gridcolor": "white",
            "gridwidth": 2,
            "linecolor": "white",
            "showbackground": true,
            "ticks": "",
            "zerolinecolor": "white"
           }
          },
          "shapedefaults": {
           "line": {
            "color": "#2a3f5f"
           }
          },
          "ternary": {
           "aaxis": {
            "gridcolor": "white",
            "linecolor": "white",
            "ticks": ""
           },
           "baxis": {
            "gridcolor": "white",
            "linecolor": "white",
            "ticks": ""
           },
           "bgcolor": "#E5ECF6",
           "caxis": {
            "gridcolor": "white",
            "linecolor": "white",
            "ticks": ""
           }
          },
          "title": {
           "x": 0.05
          },
          "xaxis": {
           "automargin": true,
           "gridcolor": "white",
           "linecolor": "white",
           "ticks": "",
           "title": {
            "standoff": 15
           },
           "zerolinecolor": "white",
           "zerolinewidth": 2
          },
          "yaxis": {
           "automargin": true,
           "gridcolor": "white",
           "linecolor": "white",
           "ticks": "",
           "title": {
            "standoff": 15
           },
           "zerolinecolor": "white",
           "zerolinewidth": 2
          }
         }
        },
        "title": {
         "text": "Correlation Matrix of Environmental Parameters"
        }
       }
      }
     },
     "metadata": {},
     "output_type": "display_data"
    }
   ],
   "source": [
    "import plotly.graph_objects as go\n",
    "import numpy as np\n",
    "\n",
    "correlation_matrix = df[['temperature', 'air_quality', 'humidity']].corr()\n",
    "\n",
    "fig_corr = go.Figure(data=go.Heatmap(\n",
    "    z=correlation_matrix.values,\n",
    "    x=correlation_matrix.columns,\n",
    "    y=correlation_matrix.columns,\n",
    "    colorscale='Viridis'\n",
    "))\n",
    "\n",
    "fig_corr.update_layout(title='Correlation Matrix of Environmental Parameters')\n",
    "fig_corr.show()\n"
   ]
  },
  {
   "cell_type": "markdown",
   "metadata": {},
   "source": [
    "According to the above Correlation Matrix, we can derive the correlation matrix between the three targets \n",
    "\n",
    "1. Temperature - Air Quality: \n",
    "- The correlation between Temperature and Air Quality is around -0.5, showing a very strong negative correlation betweent the two, leading to the possibility that as temperature increases Air Quality decreases or vice versa. \n",
    "2. Temperature - Humidity:\n",
    "- The correlation between Temperatue and Humidity is around 0, showing a moderare negative correlation between the two, indicating that higher temperature values may possibly lead to lower humidity levels. \n",
    "3. Air Quality - Humidity: \n",
    "- The correlation between Air Quality and Humidity is around -0.4, showing a weak negative correlation between the two, suggesting a change in humidity will have minimal impact on the Air Quality levels. "
   ]
  },
  {
   "cell_type": "markdown",
   "metadata": {},
   "source": [
    "### Getting the Average Values for every 3 Hours"
   ]
  },
  {
   "cell_type": "code",
   "execution_count": 88,
   "metadata": {},
   "outputs": [
    {
     "name": "stdout",
     "output_type": "stream",
     "text": [
      "Index(['topic', 'message', 'timestamp', 'temperature', 'air_quality',\n",
      "       'humidity'],\n",
      "      dtype='object')\n",
      "            timestamp  avg_temperature  avg_air_quality  avg_humidity\n",
      "0 2024-07-15 15:00:00        26.200000        61.542857     26.714286\n",
      "1 2024-07-15 18:00:00        26.488889        62.844444     28.333333\n",
      "2 2024-07-15 21:00:00        27.122222        70.127778     30.444444\n",
      "3 2024-07-16 00:00:00        27.294444        72.527778     30.000000\n",
      "4 2024-07-16 03:00:00        27.311111        73.966667     31.111111\n"
     ]
    },
    {
     "name": "stderr",
     "output_type": "stream",
     "text": [
      "/var/folders/wv/lgt7rwvx5dn_v1y74zftwswh0000gn/T/ipykernel_55995/4056005030.py:22: FutureWarning:\n",
      "\n",
      "'H' is deprecated and will be removed in a future version, please use 'h' instead.\n",
      "\n"
     ]
    }
   ],
   "source": [
    "import pandas as pd\n",
    "\n",
    "# Assuming your data is loaded into df\n",
    "print(df.columns)  # Check if 'timestamp' exists in the columns\n",
    "\n",
    "# If 'timestamp' is the index, reset it\n",
    "if 'timestamp' not in df.columns:\n",
    "    df.reset_index(inplace=True)\n",
    "\n",
    "# Now convert the 'timestamp' column to datetime format\n",
    "df['timestamp'] = pd.to_datetime(df['timestamp'])\n",
    "\n",
    "# Continue with your processing as before\n",
    "df = df[['timestamp', 'temperature', 'air_quality', 'humidity']]\n",
    "\n",
    "df['temperature'] = pd.to_numeric(df['temperature'], errors='coerce')\n",
    "df['air_quality'] = pd.to_numeric(df['air_quality'], errors='coerce')\n",
    "df['humidity'] = pd.to_numeric(df['humidity'], errors='coerce')\n",
    "\n",
    "df.set_index('timestamp', inplace=True)\n",
    "\n",
    "resampled_df = df.resample('3H').mean().reset_index()\n",
    "\n",
    "resampled_df.columns = ['timestamp', 'avg_temperature', 'avg_air_quality', 'avg_humidity']\n",
    "\n",
    "print(resampled_df.head())\n"
   ]
  },
  {
   "cell_type": "code",
   "execution_count": null,
   "metadata": {},
   "outputs": [],
   "source": []
  },
  {
   "cell_type": "markdown",
   "metadata": {},
   "source": [
    "## Machine Learning Models\n",
    "\n",
    "For the second part of our analysis, we will utilise two models, LinearRegression Model and Isolation Forest\n",
    "\n",
    "- **Linear Regression** will be used to predict the future temperature, air quality and humidity values to gain a better understanding of how the environment will change\n",
    "\n",
    "- **Isolation Forest** will be used to identify anomalies in the data, which can be used to tell if there is any unusual patterns that could indicate safety hazards or equipment failures. "
   ]
  },
  {
   "cell_type": "markdown",
   "metadata": {},
   "source": [
    "### Linear Regression Model"
   ]
  },
  {
   "cell_type": "code",
   "execution_count": 89,
   "metadata": {},
   "outputs": [
    {
     "name": "stdout",
     "output_type": "stream",
     "text": [
      "The type of the column in the DataFrame\n",
      "\n",
      "\n",
      "temperature    float64\n",
      "air_quality    float64\n",
      "humidity       float64\n",
      "year             int32\n",
      "month            int32\n",
      "day_of_week      int32\n",
      "date             int32\n",
      "hour             int32\n",
      "dtype: object\n"
     ]
    }
   ],
   "source": [
    "# #converting 'timestamp to datetime format' \n",
    "df.index = pd.to_datetime(df.index)\n",
    "\n",
    "df['year'] = df.index.year\n",
    "df['month'] = df.index.month\n",
    "df['day_of_week'] = df.index.day_of_week\n",
    "df['date'] = df.index.day\n",
    "df['hour'] = df.index.hour\n",
    "\n",
    "# data = df.drop(['topic', 'message', 'timestamp'], axis=1)\n",
    "\n",
    "df['temperature'] = df['temperature'].astype('float')\n",
    "df['air_quality'] = df['air_quality'].astype('float')\n",
    "df['humidity'] = df['humidity'].astype('float')\n",
    "\n",
    "\n",
    "print(f\"The type of the column in the DataFrame\")\n",
    "print(\"\\n\")\n",
    "print(df.dtypes)\n"
   ]
  },
  {
   "cell_type": "markdown",
   "metadata": {},
   "source": [
    "We now train the Linear Regression Model"
   ]
  },
  {
   "cell_type": "code",
   "execution_count": 90,
   "metadata": {},
   "outputs": [
    {
     "data": {
      "text/html": [
       "<div>\n",
       "<style scoped>\n",
       "    .dataframe tbody tr th:only-of-type {\n",
       "        vertical-align: middle;\n",
       "    }\n",
       "\n",
       "    .dataframe tbody tr th {\n",
       "        vertical-align: top;\n",
       "    }\n",
       "\n",
       "    .dataframe thead th {\n",
       "        text-align: right;\n",
       "    }\n",
       "</style>\n",
       "<table border=\"1\" class=\"dataframe\">\n",
       "  <thead>\n",
       "    <tr style=\"text-align: right;\">\n",
       "      <th></th>\n",
       "      <th>temperature</th>\n",
       "      <th>air_quality</th>\n",
       "      <th>humidity</th>\n",
       "      <th>year</th>\n",
       "      <th>month</th>\n",
       "      <th>day_of_week</th>\n",
       "      <th>date</th>\n",
       "      <th>hour</th>\n",
       "    </tr>\n",
       "    <tr>\n",
       "      <th>timestamp</th>\n",
       "      <th></th>\n",
       "      <th></th>\n",
       "      <th></th>\n",
       "      <th></th>\n",
       "      <th></th>\n",
       "      <th></th>\n",
       "      <th></th>\n",
       "      <th></th>\n",
       "    </tr>\n",
       "  </thead>\n",
       "  <tbody>\n",
       "    <tr>\n",
       "      <th>2024-07-15 16:41:47</th>\n",
       "      <td>23.9</td>\n",
       "      <td>69.1</td>\n",
       "      <td>24.0</td>\n",
       "      <td>2024</td>\n",
       "      <td>7</td>\n",
       "      <td>0</td>\n",
       "      <td>15</td>\n",
       "      <td>16</td>\n",
       "    </tr>\n",
       "    <tr>\n",
       "      <th>2024-07-15 17:07:16</th>\n",
       "      <td>26.2</td>\n",
       "      <td>61.6</td>\n",
       "      <td>26.0</td>\n",
       "      <td>2024</td>\n",
       "      <td>7</td>\n",
       "      <td>0</td>\n",
       "      <td>15</td>\n",
       "      <td>17</td>\n",
       "    </tr>\n",
       "    <tr>\n",
       "      <th>2024-07-15 17:17:16</th>\n",
       "      <td>26.9</td>\n",
       "      <td>59.5</td>\n",
       "      <td>27.0</td>\n",
       "      <td>2024</td>\n",
       "      <td>7</td>\n",
       "      <td>0</td>\n",
       "      <td>15</td>\n",
       "      <td>17</td>\n",
       "    </tr>\n",
       "    <tr>\n",
       "      <th>2024-07-15 17:27:17</th>\n",
       "      <td>26.7</td>\n",
       "      <td>59.8</td>\n",
       "      <td>28.0</td>\n",
       "      <td>2024</td>\n",
       "      <td>7</td>\n",
       "      <td>0</td>\n",
       "      <td>15</td>\n",
       "      <td>17</td>\n",
       "    </tr>\n",
       "    <tr>\n",
       "      <th>2024-07-15 17:37:17</th>\n",
       "      <td>26.6</td>\n",
       "      <td>60.2</td>\n",
       "      <td>28.0</td>\n",
       "      <td>2024</td>\n",
       "      <td>7</td>\n",
       "      <td>0</td>\n",
       "      <td>15</td>\n",
       "      <td>17</td>\n",
       "    </tr>\n",
       "    <tr>\n",
       "      <th>...</th>\n",
       "      <td>...</td>\n",
       "      <td>...</td>\n",
       "      <td>...</td>\n",
       "      <td>...</td>\n",
       "      <td>...</td>\n",
       "      <td>...</td>\n",
       "      <td>...</td>\n",
       "      <td>...</td>\n",
       "    </tr>\n",
       "    <tr>\n",
       "      <th>2024-07-29 19:09:49</th>\n",
       "      <td>31.3</td>\n",
       "      <td>48.5</td>\n",
       "      <td>42.0</td>\n",
       "      <td>2024</td>\n",
       "      <td>7</td>\n",
       "      <td>0</td>\n",
       "      <td>29</td>\n",
       "      <td>19</td>\n",
       "    </tr>\n",
       "    <tr>\n",
       "      <th>2024-07-29 19:19:49</th>\n",
       "      <td>31.7</td>\n",
       "      <td>49.2</td>\n",
       "      <td>40.0</td>\n",
       "      <td>2024</td>\n",
       "      <td>7</td>\n",
       "      <td>0</td>\n",
       "      <td>29</td>\n",
       "      <td>19</td>\n",
       "    </tr>\n",
       "    <tr>\n",
       "      <th>2024-07-29 19:29:49</th>\n",
       "      <td>31.9</td>\n",
       "      <td>49.5</td>\n",
       "      <td>40.0</td>\n",
       "      <td>2024</td>\n",
       "      <td>7</td>\n",
       "      <td>0</td>\n",
       "      <td>29</td>\n",
       "      <td>19</td>\n",
       "    </tr>\n",
       "    <tr>\n",
       "      <th>2024-07-29 19:39:51</th>\n",
       "      <td>32.0</td>\n",
       "      <td>50.2</td>\n",
       "      <td>39.0</td>\n",
       "      <td>2024</td>\n",
       "      <td>7</td>\n",
       "      <td>0</td>\n",
       "      <td>29</td>\n",
       "      <td>19</td>\n",
       "    </tr>\n",
       "    <tr>\n",
       "      <th>2024-07-29 19:49:50</th>\n",
       "      <td>32.1</td>\n",
       "      <td>50.9</td>\n",
       "      <td>40.0</td>\n",
       "      <td>2024</td>\n",
       "      <td>7</td>\n",
       "      <td>0</td>\n",
       "      <td>29</td>\n",
       "      <td>19</td>\n",
       "    </tr>\n",
       "  </tbody>\n",
       "</table>\n",
       "<p>1195 rows × 8 columns</p>\n",
       "</div>"
      ],
      "text/plain": [
       "                     temperature  air_quality  humidity  year  month  \\\n",
       "timestamp                                                              \n",
       "2024-07-15 16:41:47         23.9         69.1      24.0  2024      7   \n",
       "2024-07-15 17:07:16         26.2         61.6      26.0  2024      7   \n",
       "2024-07-15 17:17:16         26.9         59.5      27.0  2024      7   \n",
       "2024-07-15 17:27:17         26.7         59.8      28.0  2024      7   \n",
       "2024-07-15 17:37:17         26.6         60.2      28.0  2024      7   \n",
       "...                          ...          ...       ...   ...    ...   \n",
       "2024-07-29 19:09:49         31.3         48.5      42.0  2024      7   \n",
       "2024-07-29 19:19:49         31.7         49.2      40.0  2024      7   \n",
       "2024-07-29 19:29:49         31.9         49.5      40.0  2024      7   \n",
       "2024-07-29 19:39:51         32.0         50.2      39.0  2024      7   \n",
       "2024-07-29 19:49:50         32.1         50.9      40.0  2024      7   \n",
       "\n",
       "                     day_of_week  date  hour  \n",
       "timestamp                                     \n",
       "2024-07-15 16:41:47            0    15    16  \n",
       "2024-07-15 17:07:16            0    15    17  \n",
       "2024-07-15 17:17:16            0    15    17  \n",
       "2024-07-15 17:27:17            0    15    17  \n",
       "2024-07-15 17:37:17            0    15    17  \n",
       "...                          ...   ...   ...  \n",
       "2024-07-29 19:09:49            0    29    19  \n",
       "2024-07-29 19:19:49            0    29    19  \n",
       "2024-07-29 19:29:49            0    29    19  \n",
       "2024-07-29 19:39:51            0    29    19  \n",
       "2024-07-29 19:49:50            0    29    19  \n",
       "\n",
       "[1195 rows x 8 columns]"
      ]
     },
     "execution_count": 90,
     "metadata": {},
     "output_type": "execute_result"
    }
   ],
   "source": [
    "df"
   ]
  },
  {
   "cell_type": "code",
   "execution_count": 91,
   "metadata": {},
   "outputs": [],
   "source": [
    "features = [\"day_of_week\", \"date\", \"month\", \"hour\"] # declare the features the model will be training on\n",
    "\n",
    "targets = ['temperature', 'air_quality', 'humidity']\n",
    "\n",
    "#splitting of the sets \n",
    "\n",
    "X = df[features]\n",
    "y = df[targets]\n",
    "\n",
    "X_train, X_test, y_train, y_test = train_test_split(X, y, test_size=0.2, random_state=42)\n",
    "\n",
    "X_val, X_test, y_val, y_test = train_test_split(X_test, y_test, test_size=0.5, random_state=42)\n",
    "\n"
   ]
  },
  {
   "cell_type": "markdown",
   "metadata": {},
   "source": [
    "the data is split into three to improve the overall accuracy of the model. The Model will train on the train set and then will proceed onto test on the validation set. For its final testing, the model will then be tested on the final test set, where it tests on unseen data. This process will allow for more reliable accuracy of the model"
   ]
  },
  {
   "cell_type": "code",
   "execution_count": 92,
   "metadata": {},
   "outputs": [
    {
     "name": "stdout",
     "output_type": "stream",
     "text": [
      "X_train:  (956, 4)\n",
      "y_train:  (956, 3)\n",
      "\n",
      "\n",
      "X_test:  (120, 4)\n",
      "y_test:  (120, 3)\n",
      "\n",
      "\n",
      "X_val: (119, 4)\n",
      "y_val: (119, 3)\n"
     ]
    }
   ],
   "source": [
    "#print the size of the test sets\n",
    "print('X_train: ', X_train.shape)\n",
    "print('y_train: ', y_train.shape)\n",
    "print(\"\\n\")\n",
    "print('X_test: ', X_test.shape)\n",
    "print('y_test: ', y_test.shape)\n",
    "print(\"\\n\")\n",
    "print('X_val:', X_val.shape)\n",
    "print('y_val:', y_val.shape)"
   ]
  },
  {
   "cell_type": "code",
   "execution_count": 93,
   "metadata": {},
   "outputs": [
    {
     "data": {
      "text/html": [
       "<style>#sk-container-id-4 {\n",
       "  /* Definition of color scheme common for light and dark mode */\n",
       "  --sklearn-color-text: black;\n",
       "  --sklearn-color-line: gray;\n",
       "  /* Definition of color scheme for unfitted estimators */\n",
       "  --sklearn-color-unfitted-level-0: #fff5e6;\n",
       "  --sklearn-color-unfitted-level-1: #f6e4d2;\n",
       "  --sklearn-color-unfitted-level-2: #ffe0b3;\n",
       "  --sklearn-color-unfitted-level-3: chocolate;\n",
       "  /* Definition of color scheme for fitted estimators */\n",
       "  --sklearn-color-fitted-level-0: #f0f8ff;\n",
       "  --sklearn-color-fitted-level-1: #d4ebff;\n",
       "  --sklearn-color-fitted-level-2: #b3dbfd;\n",
       "  --sklearn-color-fitted-level-3: cornflowerblue;\n",
       "\n",
       "  /* Specific color for light theme */\n",
       "  --sklearn-color-text-on-default-background: var(--sg-text-color, var(--theme-code-foreground, var(--jp-content-font-color1, black)));\n",
       "  --sklearn-color-background: var(--sg-background-color, var(--theme-background, var(--jp-layout-color0, white)));\n",
       "  --sklearn-color-border-box: var(--sg-text-color, var(--theme-code-foreground, var(--jp-content-font-color1, black)));\n",
       "  --sklearn-color-icon: #696969;\n",
       "\n",
       "  @media (prefers-color-scheme: dark) {\n",
       "    /* Redefinition of color scheme for dark theme */\n",
       "    --sklearn-color-text-on-default-background: var(--sg-text-color, var(--theme-code-foreground, var(--jp-content-font-color1, white)));\n",
       "    --sklearn-color-background: var(--sg-background-color, var(--theme-background, var(--jp-layout-color0, #111)));\n",
       "    --sklearn-color-border-box: var(--sg-text-color, var(--theme-code-foreground, var(--jp-content-font-color1, white)));\n",
       "    --sklearn-color-icon: #878787;\n",
       "  }\n",
       "}\n",
       "\n",
       "#sk-container-id-4 {\n",
       "  color: var(--sklearn-color-text);\n",
       "}\n",
       "\n",
       "#sk-container-id-4 pre {\n",
       "  padding: 0;\n",
       "}\n",
       "\n",
       "#sk-container-id-4 input.sk-hidden--visually {\n",
       "  border: 0;\n",
       "  clip: rect(1px 1px 1px 1px);\n",
       "  clip: rect(1px, 1px, 1px, 1px);\n",
       "  height: 1px;\n",
       "  margin: -1px;\n",
       "  overflow: hidden;\n",
       "  padding: 0;\n",
       "  position: absolute;\n",
       "  width: 1px;\n",
       "}\n",
       "\n",
       "#sk-container-id-4 div.sk-dashed-wrapped {\n",
       "  border: 1px dashed var(--sklearn-color-line);\n",
       "  margin: 0 0.4em 0.5em 0.4em;\n",
       "  box-sizing: border-box;\n",
       "  padding-bottom: 0.4em;\n",
       "  background-color: var(--sklearn-color-background);\n",
       "}\n",
       "\n",
       "#sk-container-id-4 div.sk-container {\n",
       "  /* jupyter's `normalize.less` sets `[hidden] { display: none; }`\n",
       "     but bootstrap.min.css set `[hidden] { display: none !important; }`\n",
       "     so we also need the `!important` here to be able to override the\n",
       "     default hidden behavior on the sphinx rendered scikit-learn.org.\n",
       "     See: https://github.com/scikit-learn/scikit-learn/issues/21755 */\n",
       "  display: inline-block !important;\n",
       "  position: relative;\n",
       "}\n",
       "\n",
       "#sk-container-id-4 div.sk-text-repr-fallback {\n",
       "  display: none;\n",
       "}\n",
       "\n",
       "div.sk-parallel-item,\n",
       "div.sk-serial,\n",
       "div.sk-item {\n",
       "  /* draw centered vertical line to link estimators */\n",
       "  background-image: linear-gradient(var(--sklearn-color-text-on-default-background), var(--sklearn-color-text-on-default-background));\n",
       "  background-size: 2px 100%;\n",
       "  background-repeat: no-repeat;\n",
       "  background-position: center center;\n",
       "}\n",
       "\n",
       "/* Parallel-specific style estimator block */\n",
       "\n",
       "#sk-container-id-4 div.sk-parallel-item::after {\n",
       "  content: \"\";\n",
       "  width: 100%;\n",
       "  border-bottom: 2px solid var(--sklearn-color-text-on-default-background);\n",
       "  flex-grow: 1;\n",
       "}\n",
       "\n",
       "#sk-container-id-4 div.sk-parallel {\n",
       "  display: flex;\n",
       "  align-items: stretch;\n",
       "  justify-content: center;\n",
       "  background-color: var(--sklearn-color-background);\n",
       "  position: relative;\n",
       "}\n",
       "\n",
       "#sk-container-id-4 div.sk-parallel-item {\n",
       "  display: flex;\n",
       "  flex-direction: column;\n",
       "}\n",
       "\n",
       "#sk-container-id-4 div.sk-parallel-item:first-child::after {\n",
       "  align-self: flex-end;\n",
       "  width: 50%;\n",
       "}\n",
       "\n",
       "#sk-container-id-4 div.sk-parallel-item:last-child::after {\n",
       "  align-self: flex-start;\n",
       "  width: 50%;\n",
       "}\n",
       "\n",
       "#sk-container-id-4 div.sk-parallel-item:only-child::after {\n",
       "  width: 0;\n",
       "}\n",
       "\n",
       "/* Serial-specific style estimator block */\n",
       "\n",
       "#sk-container-id-4 div.sk-serial {\n",
       "  display: flex;\n",
       "  flex-direction: column;\n",
       "  align-items: center;\n",
       "  background-color: var(--sklearn-color-background);\n",
       "  padding-right: 1em;\n",
       "  padding-left: 1em;\n",
       "}\n",
       "\n",
       "\n",
       "/* Toggleable style: style used for estimator/Pipeline/ColumnTransformer box that is\n",
       "clickable and can be expanded/collapsed.\n",
       "- Pipeline and ColumnTransformer use this feature and define the default style\n",
       "- Estimators will overwrite some part of the style using the `sk-estimator` class\n",
       "*/\n",
       "\n",
       "/* Pipeline and ColumnTransformer style (default) */\n",
       "\n",
       "#sk-container-id-4 div.sk-toggleable {\n",
       "  /* Default theme specific background. It is overwritten whether we have a\n",
       "  specific estimator or a Pipeline/ColumnTransformer */\n",
       "  background-color: var(--sklearn-color-background);\n",
       "}\n",
       "\n",
       "/* Toggleable label */\n",
       "#sk-container-id-4 label.sk-toggleable__label {\n",
       "  cursor: pointer;\n",
       "  display: block;\n",
       "  width: 100%;\n",
       "  margin-bottom: 0;\n",
       "  padding: 0.5em;\n",
       "  box-sizing: border-box;\n",
       "  text-align: center;\n",
       "}\n",
       "\n",
       "#sk-container-id-4 label.sk-toggleable__label-arrow:before {\n",
       "  /* Arrow on the left of the label */\n",
       "  content: \"▸\";\n",
       "  float: left;\n",
       "  margin-right: 0.25em;\n",
       "  color: var(--sklearn-color-icon);\n",
       "}\n",
       "\n",
       "#sk-container-id-4 label.sk-toggleable__label-arrow:hover:before {\n",
       "  color: var(--sklearn-color-text);\n",
       "}\n",
       "\n",
       "/* Toggleable content - dropdown */\n",
       "\n",
       "#sk-container-id-4 div.sk-toggleable__content {\n",
       "  max-height: 0;\n",
       "  max-width: 0;\n",
       "  overflow: hidden;\n",
       "  text-align: left;\n",
       "  /* unfitted */\n",
       "  background-color: var(--sklearn-color-unfitted-level-0);\n",
       "}\n",
       "\n",
       "#sk-container-id-4 div.sk-toggleable__content.fitted {\n",
       "  /* fitted */\n",
       "  background-color: var(--sklearn-color-fitted-level-0);\n",
       "}\n",
       "\n",
       "#sk-container-id-4 div.sk-toggleable__content pre {\n",
       "  margin: 0.2em;\n",
       "  border-radius: 0.25em;\n",
       "  color: var(--sklearn-color-text);\n",
       "  /* unfitted */\n",
       "  background-color: var(--sklearn-color-unfitted-level-0);\n",
       "}\n",
       "\n",
       "#sk-container-id-4 div.sk-toggleable__content.fitted pre {\n",
       "  /* unfitted */\n",
       "  background-color: var(--sklearn-color-fitted-level-0);\n",
       "}\n",
       "\n",
       "#sk-container-id-4 input.sk-toggleable__control:checked~div.sk-toggleable__content {\n",
       "  /* Expand drop-down */\n",
       "  max-height: 200px;\n",
       "  max-width: 100%;\n",
       "  overflow: auto;\n",
       "}\n",
       "\n",
       "#sk-container-id-4 input.sk-toggleable__control:checked~label.sk-toggleable__label-arrow:before {\n",
       "  content: \"▾\";\n",
       "}\n",
       "\n",
       "/* Pipeline/ColumnTransformer-specific style */\n",
       "\n",
       "#sk-container-id-4 div.sk-label input.sk-toggleable__control:checked~label.sk-toggleable__label {\n",
       "  color: var(--sklearn-color-text);\n",
       "  background-color: var(--sklearn-color-unfitted-level-2);\n",
       "}\n",
       "\n",
       "#sk-container-id-4 div.sk-label.fitted input.sk-toggleable__control:checked~label.sk-toggleable__label {\n",
       "  background-color: var(--sklearn-color-fitted-level-2);\n",
       "}\n",
       "\n",
       "/* Estimator-specific style */\n",
       "\n",
       "/* Colorize estimator box */\n",
       "#sk-container-id-4 div.sk-estimator input.sk-toggleable__control:checked~label.sk-toggleable__label {\n",
       "  /* unfitted */\n",
       "  background-color: var(--sklearn-color-unfitted-level-2);\n",
       "}\n",
       "\n",
       "#sk-container-id-4 div.sk-estimator.fitted input.sk-toggleable__control:checked~label.sk-toggleable__label {\n",
       "  /* fitted */\n",
       "  background-color: var(--sklearn-color-fitted-level-2);\n",
       "}\n",
       "\n",
       "#sk-container-id-4 div.sk-label label.sk-toggleable__label,\n",
       "#sk-container-id-4 div.sk-label label {\n",
       "  /* The background is the default theme color */\n",
       "  color: var(--sklearn-color-text-on-default-background);\n",
       "}\n",
       "\n",
       "/* On hover, darken the color of the background */\n",
       "#sk-container-id-4 div.sk-label:hover label.sk-toggleable__label {\n",
       "  color: var(--sklearn-color-text);\n",
       "  background-color: var(--sklearn-color-unfitted-level-2);\n",
       "}\n",
       "\n",
       "/* Label box, darken color on hover, fitted */\n",
       "#sk-container-id-4 div.sk-label.fitted:hover label.sk-toggleable__label.fitted {\n",
       "  color: var(--sklearn-color-text);\n",
       "  background-color: var(--sklearn-color-fitted-level-2);\n",
       "}\n",
       "\n",
       "/* Estimator label */\n",
       "\n",
       "#sk-container-id-4 div.sk-label label {\n",
       "  font-family: monospace;\n",
       "  font-weight: bold;\n",
       "  display: inline-block;\n",
       "  line-height: 1.2em;\n",
       "}\n",
       "\n",
       "#sk-container-id-4 div.sk-label-container {\n",
       "  text-align: center;\n",
       "}\n",
       "\n",
       "/* Estimator-specific */\n",
       "#sk-container-id-4 div.sk-estimator {\n",
       "  font-family: monospace;\n",
       "  border: 1px dotted var(--sklearn-color-border-box);\n",
       "  border-radius: 0.25em;\n",
       "  box-sizing: border-box;\n",
       "  margin-bottom: 0.5em;\n",
       "  /* unfitted */\n",
       "  background-color: var(--sklearn-color-unfitted-level-0);\n",
       "}\n",
       "\n",
       "#sk-container-id-4 div.sk-estimator.fitted {\n",
       "  /* fitted */\n",
       "  background-color: var(--sklearn-color-fitted-level-0);\n",
       "}\n",
       "\n",
       "/* on hover */\n",
       "#sk-container-id-4 div.sk-estimator:hover {\n",
       "  /* unfitted */\n",
       "  background-color: var(--sklearn-color-unfitted-level-2);\n",
       "}\n",
       "\n",
       "#sk-container-id-4 div.sk-estimator.fitted:hover {\n",
       "  /* fitted */\n",
       "  background-color: var(--sklearn-color-fitted-level-2);\n",
       "}\n",
       "\n",
       "/* Specification for estimator info (e.g. \"i\" and \"?\") */\n",
       "\n",
       "/* Common style for \"i\" and \"?\" */\n",
       "\n",
       ".sk-estimator-doc-link,\n",
       "a:link.sk-estimator-doc-link,\n",
       "a:visited.sk-estimator-doc-link {\n",
       "  float: right;\n",
       "  font-size: smaller;\n",
       "  line-height: 1em;\n",
       "  font-family: monospace;\n",
       "  background-color: var(--sklearn-color-background);\n",
       "  border-radius: 1em;\n",
       "  height: 1em;\n",
       "  width: 1em;\n",
       "  text-decoration: none !important;\n",
       "  margin-left: 1ex;\n",
       "  /* unfitted */\n",
       "  border: var(--sklearn-color-unfitted-level-1) 1pt solid;\n",
       "  color: var(--sklearn-color-unfitted-level-1);\n",
       "}\n",
       "\n",
       ".sk-estimator-doc-link.fitted,\n",
       "a:link.sk-estimator-doc-link.fitted,\n",
       "a:visited.sk-estimator-doc-link.fitted {\n",
       "  /* fitted */\n",
       "  border: var(--sklearn-color-fitted-level-1) 1pt solid;\n",
       "  color: var(--sklearn-color-fitted-level-1);\n",
       "}\n",
       "\n",
       "/* On hover */\n",
       "div.sk-estimator:hover .sk-estimator-doc-link:hover,\n",
       ".sk-estimator-doc-link:hover,\n",
       "div.sk-label-container:hover .sk-estimator-doc-link:hover,\n",
       ".sk-estimator-doc-link:hover {\n",
       "  /* unfitted */\n",
       "  background-color: var(--sklearn-color-unfitted-level-3);\n",
       "  color: var(--sklearn-color-background);\n",
       "  text-decoration: none;\n",
       "}\n",
       "\n",
       "div.sk-estimator.fitted:hover .sk-estimator-doc-link.fitted:hover,\n",
       ".sk-estimator-doc-link.fitted:hover,\n",
       "div.sk-label-container:hover .sk-estimator-doc-link.fitted:hover,\n",
       ".sk-estimator-doc-link.fitted:hover {\n",
       "  /* fitted */\n",
       "  background-color: var(--sklearn-color-fitted-level-3);\n",
       "  color: var(--sklearn-color-background);\n",
       "  text-decoration: none;\n",
       "}\n",
       "\n",
       "/* Span, style for the box shown on hovering the info icon */\n",
       ".sk-estimator-doc-link span {\n",
       "  display: none;\n",
       "  z-index: 9999;\n",
       "  position: relative;\n",
       "  font-weight: normal;\n",
       "  right: .2ex;\n",
       "  padding: .5ex;\n",
       "  margin: .5ex;\n",
       "  width: min-content;\n",
       "  min-width: 20ex;\n",
       "  max-width: 50ex;\n",
       "  color: var(--sklearn-color-text);\n",
       "  box-shadow: 2pt 2pt 4pt #999;\n",
       "  /* unfitted */\n",
       "  background: var(--sklearn-color-unfitted-level-0);\n",
       "  border: .5pt solid var(--sklearn-color-unfitted-level-3);\n",
       "}\n",
       "\n",
       ".sk-estimator-doc-link.fitted span {\n",
       "  /* fitted */\n",
       "  background: var(--sklearn-color-fitted-level-0);\n",
       "  border: var(--sklearn-color-fitted-level-3);\n",
       "}\n",
       "\n",
       ".sk-estimator-doc-link:hover span {\n",
       "  display: block;\n",
       "}\n",
       "\n",
       "/* \"?\"-specific style due to the `<a>` HTML tag */\n",
       "\n",
       "#sk-container-id-4 a.estimator_doc_link {\n",
       "  float: right;\n",
       "  font-size: 1rem;\n",
       "  line-height: 1em;\n",
       "  font-family: monospace;\n",
       "  background-color: var(--sklearn-color-background);\n",
       "  border-radius: 1rem;\n",
       "  height: 1rem;\n",
       "  width: 1rem;\n",
       "  text-decoration: none;\n",
       "  /* unfitted */\n",
       "  color: var(--sklearn-color-unfitted-level-1);\n",
       "  border: var(--sklearn-color-unfitted-level-1) 1pt solid;\n",
       "}\n",
       "\n",
       "#sk-container-id-4 a.estimator_doc_link.fitted {\n",
       "  /* fitted */\n",
       "  border: var(--sklearn-color-fitted-level-1) 1pt solid;\n",
       "  color: var(--sklearn-color-fitted-level-1);\n",
       "}\n",
       "\n",
       "/* On hover */\n",
       "#sk-container-id-4 a.estimator_doc_link:hover {\n",
       "  /* unfitted */\n",
       "  background-color: var(--sklearn-color-unfitted-level-3);\n",
       "  color: var(--sklearn-color-background);\n",
       "  text-decoration: none;\n",
       "}\n",
       "\n",
       "#sk-container-id-4 a.estimator_doc_link.fitted:hover {\n",
       "  /* fitted */\n",
       "  background-color: var(--sklearn-color-fitted-level-3);\n",
       "}\n",
       "</style><div id=\"sk-container-id-4\" class=\"sk-top-container\"><div class=\"sk-text-repr-fallback\"><pre>LinearRegression()</pre><b>In a Jupyter environment, please rerun this cell to show the HTML representation or trust the notebook. <br />On GitHub, the HTML representation is unable to render, please try loading this page with nbviewer.org.</b></div><div class=\"sk-container\" hidden><div class=\"sk-item\"><div class=\"sk-estimator fitted sk-toggleable\"><input class=\"sk-toggleable__control sk-hidden--visually\" id=\"sk-estimator-id-4\" type=\"checkbox\" checked><label for=\"sk-estimator-id-4\" class=\"sk-toggleable__label fitted sk-toggleable__label-arrow fitted\">&nbsp;&nbsp;LinearRegression<a class=\"sk-estimator-doc-link fitted\" rel=\"noreferrer\" target=\"_blank\" href=\"https://scikit-learn.org/1.5/modules/generated/sklearn.linear_model.LinearRegression.html\">?<span>Documentation for LinearRegression</span></a><span class=\"sk-estimator-doc-link fitted\">i<span>Fitted</span></span></label><div class=\"sk-toggleable__content fitted\"><pre>LinearRegression()</pre></div> </div></div></div></div>"
      ],
      "text/plain": [
       "LinearRegression()"
      ]
     },
     "execution_count": 93,
     "metadata": {},
     "output_type": "execute_result"
    }
   ],
   "source": [
    "#fitting and creating Linear Regression Model\n",
    "\n",
    "model = LinearRegression()\n",
    "\n",
    "model.fit(X_train, y_train)"
   ]
  },
  {
   "cell_type": "markdown",
   "metadata": {},
   "source": [
    "#### Validating on the Validation Set:"
   ]
  },
  {
   "cell_type": "code",
   "execution_count": 94,
   "metadata": {},
   "outputs": [
    {
     "data": {
      "text/plain": [
       "array([[31.64324271, 60.79060533, 41.0990894 ],\n",
       "       [32.17990207, 55.48702817, 41.124424  ],\n",
       "       [30.08236782, 61.33040296, 40.83813579],\n",
       "       [30.92988768, 60.397557  , 40.97177942],\n",
       "       [27.98702436, 59.7092932 , 40.45831705],\n",
       "       [30.79791364, 54.25896675, 40.87191525],\n",
       "       [32.13518046, 55.92899294, 41.12231278],\n",
       "       [30.21653266, 60.00450867, 40.84446944],\n",
       "       [24.36919799, 74.71959483, 35.0263868 ],\n",
       "       [32.00101562, 57.25488723, 41.11597913],\n",
       "       [29.45845602, 60.0534251 , 40.71504824],\n",
       "       [31.77959835, 52.0002265 , 41.01189253],\n",
       "       [24.45864121, 73.8356653 , 35.03060923],\n",
       "       [28.745101  , 59.66037677, 40.58773825],\n",
       "       [31.69015512, 52.88415603, 41.00767009],\n",
       "       [29.90348136, 63.09826201, 40.82969092],\n",
       "       [28.07646759, 58.82536367, 40.46253949],\n",
       "       [31.956294  , 57.69685199, 41.11386792],\n",
       "       [29.32429118, 61.37931939, 40.70871459],\n",
       "       [31.82212916, 59.02274628, 41.10753427],\n",
       "       [27.58452983, 63.68697607, 40.43931611],\n",
       "       [28.56621454, 61.42823582, 40.57929339],\n",
       "       [32.40351014, 53.27720436, 41.13498008],\n",
       "       [32.31406692, 54.16113389, 41.13075764],\n",
       "       [29.7267857 , 57.40163652, 40.72771553],\n",
       "       [31.73487673, 52.44219127, 41.00978131],\n",
       "       [28.20844163, 64.96395392, 40.56240366],\n",
       "       [27.53980822, 64.12894083, 40.43720489],\n",
       "       [27.98702436, 59.7092932 , 40.45831705],\n",
       "       [24.68224928, 71.62584149, 35.04116532],\n",
       "       [27.22894772, 59.75820963, 40.32889585],\n",
       "       [24.86113574, 69.85798243, 35.04961018],\n",
       "       [29.94820298, 62.65629724, 40.83180214],\n",
       "       [31.77959835, 52.0002265 , 41.01189253],\n",
       "       [24.37138878, 67.25511029, 34.93285628],\n",
       "       [31.15349575, 58.18773318, 40.9823355 ],\n",
       "       [28.61093615, 60.98627106, 40.58140461],\n",
       "       [30.9746093 , 59.95559224, 40.97389064],\n",
       "       [27.94230274, 60.15125796, 40.45620584],\n",
       "       [27.22675692, 67.22269417, 40.42242638],\n",
       "       [29.37096083, 59.33274518, 45.69115597],\n",
       "       [32.62711821, 51.06738055, 41.14553616],\n",
       "       [29.85875975, 63.54022677, 40.82757971],\n",
       "       [30.9746093 , 59.95559224, 40.97389064],\n",
       "       [27.62925145, 63.2450113 , 40.44142733],\n",
       "       [27.76341629, 61.91911701, 40.44776097],\n",
       "       [31.46654705, 55.09397984, 40.99711401],\n",
       "       [29.32429118, 61.37931939, 40.70871459],\n",
       "       [29.63734248, 58.28556605, 40.7234931 ],\n",
       "       [29.68401213, 56.23899184, 45.70593449],\n",
       "       [29.5945689 , 57.12292137, 45.70171205],\n",
       "       [29.90567216, 55.63377747, 40.7361604 ],\n",
       "       [32.5823966 , 51.50934531, 41.14342494],\n",
       "       [29.32429118, 61.37931939, 40.70871459],\n",
       "       [27.62925145, 63.2450113 , 40.44142733],\n",
       "       [30.48486234, 57.35272009, 40.85713673],\n",
       "       [31.46654705, 55.09397984, 40.99711401],\n",
       "       [31.37710382, 55.97790937, 40.99289158],\n",
       "       [28.25316324, 64.52198916, 40.56451488],\n",
       "       [24.81641413, 70.2999472 , 35.04749896],\n",
       "       [29.7267857 , 57.40163652, 40.72771553],\n",
       "       [31.24293898, 57.30380366, 40.98655793],\n",
       "       [29.95234181, 53.58720326, 45.71860178],\n",
       "       [27.85285952, 61.03518749, 40.45198341],\n",
       "       [27.31839095, 58.87428011, 40.33311829],\n",
       "       [28.61093615, 60.98627106, 40.58140461],\n",
       "       [24.68224928, 71.62584149, 35.04116532],\n",
       "       [29.41568245, 58.89078042, 45.69326719],\n",
       "       [29.68401213, 56.23899184, 45.70593449],\n",
       "       [28.70037938, 60.10234153, 40.58562704],\n",
       "       [28.47677131, 62.31216535, 40.57507096],\n",
       "       [27.05006126, 61.52606868, 40.32045099],\n",
       "       [31.28766059, 56.8618389 , 40.98866915],\n",
       "       [28.16372002, 65.40591869, 40.56029244],\n",
       "       [28.83454422, 58.77644724, 40.59196069],\n",
       "       [27.40564338, 65.45483512, 40.43087124],\n",
       "       [28.1211892 , 58.38339891, 40.4646507 ],\n",
       "       [27.62925145, 63.2450113 , 40.44142733],\n",
       "       [28.07646759, 58.82536367, 40.46253949],\n",
       "       [29.14540472, 63.14717844, 40.70026972],\n",
       "       [30.17181104, 60.44647343, 40.84235822],\n",
       "       [29.54789925, 59.16949557, 40.71927067],\n",
       "       [31.19821737, 57.74576842, 40.98444672],\n",
       "       [24.36919799, 74.71959483, 35.0263868 ],\n",
       "       [30.84263525, 53.81700199, 40.87402646],\n",
       "       [31.24293898, 57.30380366, 40.98655793],\n",
       "       [31.33238221, 56.41987413, 40.99078036],\n",
       "       [29.99292459, 62.21433248, 40.83391336],\n",
       "       [29.50317763, 59.61146034, 40.71715945],\n",
       "       [31.46654705, 55.09397984, 40.99711401],\n",
       "       [28.56621454, 61.42823582, 40.57929339],\n",
       "       [24.28194556, 68.13903982, 34.92863384],\n",
       "       [29.01343068, 57.00858819, 40.60040555],\n",
       "       [24.54808444, 72.95173578, 35.03483167],\n",
       "       [25.21890865, 66.32226433, 35.06649991],\n",
       "       [30.30597589, 59.12057914, 40.84869187],\n",
       "       [27.40564338, 65.45483512, 40.43087124],\n",
       "       [27.8081379 , 61.47715225, 40.44987219],\n",
       "       [31.73487673, 52.44219127, 41.00978131],\n",
       "       [28.21063243, 57.49946939, 40.46887313],\n",
       "       [29.81817697, 54.91309755, 45.71226814],\n",
       "       [27.76341629, 61.91911701, 40.44776097],\n",
       "       [31.10877414, 58.62969795, 40.98022428],\n",
       "       [31.46654705, 55.09397984, 40.99711401],\n",
       "       [29.63734248, 58.28556605, 40.7234931 ],\n",
       "       [31.69015512, 52.88415603, 41.00767009],\n",
       "       [24.59280606, 72.50977101, 35.03694288],\n",
       "       [29.77345536, 55.35506232, 45.71015692],\n",
       "       [27.8081379 , 61.47715225, 40.44987219],\n",
       "       [31.60071189, 53.76808555, 41.00344766],\n",
       "       [31.28766059, 56.8618389 , 40.98866915],\n",
       "       [27.00533965, 61.96803345, 40.31833977],\n",
       "       [31.82212916, 59.02274628, 41.10753427],\n",
       "       [31.37710382, 55.97790937, 40.99289158],\n",
       "       [27.31620015, 66.33876464, 40.42664881],\n",
       "       [28.4320497 , 62.75413011, 40.57295974],\n",
       "       [30.3506975 , 58.67861438, 40.85080308],\n",
       "       [27.31839095, 58.87428011, 40.33311829],\n",
       "       [24.63752767, 72.06780625, 35.0390541 ]])"
      ]
     },
     "execution_count": 94,
     "metadata": {},
     "output_type": "execute_result"
    }
   ],
   "source": [
    "#bringing out the predicted values the model had predicted\n",
    "\n",
    "y_val_pred = model.predict(X_val)\n",
    "\n",
    "y_val_pred"
   ]
  },
  {
   "cell_type": "code",
   "execution_count": 95,
   "metadata": {},
   "outputs": [
    {
     "name": "stdout",
     "output_type": "stream",
     "text": [
      "Scores for Temperature: \n",
      "MSE of the Validation Set: 5.1729097242232935\n",
      "R² of the Validation Set: 0.5199444682821912\n",
      "\n",
      "\n",
      "Scores for Air Quality: \n",
      "MSE of the Validation Set: 27.087979344793855\n",
      "R² of the Validation Set: 0.5113478630363313\n",
      "\n",
      "\n",
      "Scores for Humidity: \n",
      "MSE of the Validation Set: 23.754430770864076\n",
      "R² of the Validation Set: 0.19063540523700562\n"
     ]
    }
   ],
   "source": [
    "# For Temperature\n",
    "temp_mse_val = mean_squared_error(y_val['temperature'], y_val_pred[:, 0])\n",
    "temp_r2_val = r2_score(y_val['temperature'], y_val_pred[:, 0])\n",
    "\n",
    "\n",
    "# For Air Quality\n",
    "air_quality_mse_val = mean_squared_error(y_val['air_quality'], y_val_pred[:, 1])\n",
    "air_quality_r2_val = r2_score(y_val['air_quality'], y_val_pred[:, 1])\n",
    "\n",
    "# For Humidity\n",
    "humidity_mse_val = mean_squared_error(y_val['humidity'], y_val_pred[:, 2])\n",
    "humidity_r2_val = r2_score(y_val['humidity'], y_val_pred[:, 2])\n",
    "\n",
    "# Display the results\n",
    "print(\"Scores for Temperature: \")\n",
    "print(f\"MSE of the Validation Set: {temp_mse_val}\")\n",
    "print(f\"R² of the Validation Set: {temp_r2_val}\")\n",
    "print(\"\\n\")\n",
    "print(\"Scores for Air Quality: \")\n",
    "print(f\"MSE of the Validation Set: {air_quality_mse_val}\")\n",
    "print(f\"R² of the Validation Set: {air_quality_r2_val}\")\n",
    "print(\"\\n\")\n",
    "print(\"Scores for Humidity: \")\n",
    "print(f\"MSE of the Validation Set: {humidity_mse_val}\")\n",
    "print(f\"R² of the Validation Set: {humidity_r2_val}\")\n",
    "\n"
   ]
  },
  {
   "cell_type": "markdown",
   "metadata": {},
   "source": [
    "#### Testing on the Test Set:"
   ]
  },
  {
   "cell_type": "code",
   "execution_count": 96,
   "metadata": {},
   "outputs": [
    {
     "data": {
      "text/plain": [
       "array([[28.56621454, 61.42823582, 40.57929339],\n",
       "       [30.30597589, 59.12057914, 40.84869187],\n",
       "       [24.86113574, 69.85798243, 35.04961018],\n",
       "       [30.88735687, 53.37503722, 40.87613768],\n",
       "       [29.86289859, 54.47113279, 45.71437935],\n",
       "       [27.18422611, 60.2001744 , 40.32678464],\n",
       "       [30.21653266, 60.00450867, 40.84446944],\n",
       "       [29.81622893, 56.517707  , 40.73193797],\n",
       "       [29.54789925, 59.16949557, 40.71927067],\n",
       "       [27.13950449, 60.64213916, 40.32467342],\n",
       "       [28.83454422, 58.77644724, 40.59196069],\n",
       "       [30.84263525, 53.81700199, 40.87402646],\n",
       "       [27.58452983, 63.68697607, 40.43931611],\n",
       "       [31.15349575, 58.18773318, 40.9823355 ],\n",
       "       [28.96870907, 57.45055295, 40.59829433],\n",
       "       [27.89758113, 60.59322273, 40.45409462],\n",
       "       [27.36092176, 65.89679988, 40.42876003],\n",
       "       [28.87926584, 58.33448248, 40.5940719 ],\n",
       "       [32.00101562, 57.25488723, 41.11597913],\n",
       "       [28.20844163, 64.96395392, 40.56240366],\n",
       "       [30.3506975 , 58.67861438, 40.85080308],\n",
       "       [31.55599028, 54.21005032, 41.00133645],\n",
       "       [28.25316324, 64.52198916, 40.56451488],\n",
       "       [32.04573723, 56.81292246, 41.11809035],\n",
       "       [27.31839095, 58.87428011, 40.33311829],\n",
       "       [29.36901279, 60.93735463, 40.7108258 ],\n",
       "       [29.45845602, 60.0534251 , 40.71504824],\n",
       "       [29.19012634, 62.70521368, 40.70238094],\n",
       "       [29.23484795, 62.26324891, 40.70449216],\n",
       "       [29.81622893, 56.517707  , 40.73193797],\n",
       "       [27.09478288, 61.08410392, 40.32256221],\n",
       "       [31.73487673, 52.44219127, 41.00978131],\n",
       "       [29.14540472, 63.14717844, 40.70026972],\n",
       "       [31.86685078, 58.58078151, 41.10964548],\n",
       "       [30.39541911, 58.23664962, 40.8529143 ],\n",
       "       [31.60071189, 53.76808555, 41.00344766],\n",
       "       [28.47677131, 62.31216535, 40.57507096],\n",
       "       [29.9076202 , 54.02916803, 45.71649057],\n",
       "       [30.84044446, 61.28148652, 40.96755699],\n",
       "       [27.71869467, 62.36108178, 40.44564976],\n",
       "       [24.63752767, 72.06780625, 35.0390541 ],\n",
       "       [29.90567216, 55.63377747, 40.7361604 ],\n",
       "       [32.04573723, 56.81292246, 41.11809035],\n",
       "       [30.70847041, 55.14289628, 40.86769281],\n",
       "       [28.03174597, 59.26732844, 40.46042827],\n",
       "       [24.4139196 , 74.27763006, 35.02849802],\n",
       "       [29.10287391, 56.12465867, 40.60462798],\n",
       "       [27.94230274, 60.15125796, 40.45620584],\n",
       "       [31.64324271, 60.79060533, 41.0990894 ],\n",
       "       [30.52958396, 56.91075533, 40.85924795],\n",
       "       [29.41373441, 60.49538986, 40.71293702],\n",
       "       [24.7269709 , 71.18387672, 35.04327653],\n",
       "       [29.50317763, 59.61146034, 40.71715945],\n",
       "       [30.52958396, 56.91075533, 40.85924795],\n",
       "       [27.76341629, 61.91911701, 40.44776097],\n",
       "       [28.47677131, 62.31216535, 40.57507096],\n",
       "       [32.5823966 , 51.50934531, 41.14342494],\n",
       "       [30.44014073, 57.79468485, 40.85502552],\n",
       "       [24.4139196 , 74.27763006, 35.02849802],\n",
       "       [29.45845602, 60.0534251 , 40.71504824],\n",
       "       [25.17418704, 66.76422909, 35.06438869],\n",
       "       [31.28766059, 56.8618389 , 40.98866915],\n",
       "       [31.37710382, 55.97790937, 40.99289158],\n",
       "       [29.32623922, 59.77470994, 45.68904476],\n",
       "       [31.10877414, 58.62969795, 40.98022428],\n",
       "       [31.15349575, 58.18773318, 40.9823355 ],\n",
       "       [28.21063243, 57.49946939, 40.46887313],\n",
       "       [31.01933091, 59.51362747, 40.97600185],\n",
       "       [25.08474381, 67.64815862, 35.06016626],\n",
       "       [30.6637488 , 55.58486104, 40.8655816 ],\n",
       "       [30.44014073, 57.79468485, 40.85502552],\n",
       "       [29.9076202 , 54.02916803, 45.71649057],\n",
       "       [28.4320497 , 62.75413011, 40.57295974],\n",
       "       [27.40564338, 65.45483512, 40.43087124],\n",
       "       [25.26363026, 65.88029957, 35.06861112],\n",
       "       [27.22894772, 59.75820963, 40.32889585],\n",
       "       [32.2693453 , 54.60309865, 41.12864643],\n",
       "       [31.956294  , 57.69685199, 41.11386792],\n",
       "       [24.46083201, 66.37118076, 34.93707871],\n",
       "       [30.6637488 , 55.58486104, 40.8655816 ],\n",
       "       [31.86685078, 58.58078151, 41.10964548],\n",
       "       [29.9076202 , 54.02916803, 45.71649057],\n",
       "       [29.0559615 , 64.03110797, 40.69604729],\n",
       "       [29.10068311, 63.5891432 , 40.69815851],\n",
       "       [32.17990207, 55.48702817, 41.124424  ],\n",
       "       [25.17418704, 66.76422909, 35.06438869],\n",
       "       [24.4139196 , 74.27763006, 35.02849802],\n",
       "       [25.04002219, 68.09012338, 35.05805504],\n",
       "       [29.32623922, 59.77470994, 45.68904476],\n",
       "       [32.17990207, 55.48702817, 41.124424  ],\n",
       "       [32.44823176, 52.8352396 , 41.13709129],\n",
       "       [29.63734248, 58.28556605, 40.7234931 ],\n",
       "       [30.70847041, 55.14289628, 40.86769281],\n",
       "       [30.88735687, 53.37503722, 40.87613768],\n",
       "       [29.41373441, 60.49538986, 40.71293702],\n",
       "       [24.45864121, 73.8356653 , 35.03060923],\n",
       "       [29.81622893, 56.517707  , 40.73193797],\n",
       "       [24.77169251, 70.74191196, 35.04538775],\n",
       "       [32.04573723, 56.81292246, 41.11809035],\n",
       "       [27.05006126, 61.52606868, 40.32045099],\n",
       "       [28.83454422, 58.77644724, 40.59196069],\n",
       "       [29.86095055, 56.07574223, 40.73404918],\n",
       "       [24.99530058, 68.53208815, 35.05594383],\n",
       "       [24.99530058, 68.53208815, 35.05594383],\n",
       "       [27.31620015, 66.33876464, 40.42664881],\n",
       "       [29.68206409, 57.84360128, 40.72560432],\n",
       "       [30.57430557, 56.46879056, 40.86135917],\n",
       "       [29.95039377, 55.19181271, 40.73827161],\n",
       "       [29.19207438, 61.10060423, 45.68271111],\n",
       "       [24.45864121, 73.8356653 , 35.03060923],\n",
       "       [28.21063243, 57.49946939, 40.46887313],\n",
       "       [31.73268594, 59.9066758 , 41.10331184],\n",
       "       [28.78982261, 59.21841201, 40.58984947],\n",
       "       [29.95234181, 53.58720326, 45.71860178],\n",
       "       [31.15349575, 58.18773318, 40.9823355 ],\n",
       "       [27.22675692, 67.22269417, 40.42242638],\n",
       "       [31.10877414, 58.62969795, 40.98022428],\n",
       "       [29.10287391, 56.12465867, 40.60462798],\n",
       "       [29.23484795, 62.26324891, 40.70449216],\n",
       "       [28.1189984 , 65.84788345, 40.55818123]])"
      ]
     },
     "execution_count": 96,
     "metadata": {},
     "output_type": "execute_result"
    }
   ],
   "source": [
    "#Test on the testing set\n",
    "\n",
    "y_test_pred = model.predict(X_test)\n",
    "\n",
    "y_test_pred"
   ]
  },
  {
   "cell_type": "code",
   "execution_count": 97,
   "metadata": {},
   "outputs": [
    {
     "name": "stdout",
     "output_type": "stream",
     "text": [
      "Scores for Temperature: \n",
      "MSE of the Test Set: 4.688817096891414\n",
      "R² of the Test Set: 0.48474851958140996\n",
      "\n",
      "\n",
      "Scores for Air Quality: \n",
      "MSE of the Test Set: 33.098748764541476\n",
      "R² of the Test Set: 0.3981078927975322\n",
      "\n",
      "\n",
      "Scores for Humidity: \n",
      "MSE of the Tets Set: 13.75376297400212\n",
      "R² of the Test Set: 0.24093612643912266\n"
     ]
    }
   ],
   "source": [
    "temp_mse_val = mean_squared_error(y_test['temperature'], y_test_pred[:, 0])\n",
    "temp_r2_val = r2_score(y_test['temperature'], y_test_pred[:, 0])\n",
    "\n",
    "\n",
    "# For Air Quality\n",
    "air_quality_mse_val = mean_squared_error(y_test['air_quality'], y_test_pred[:, 1])\n",
    "air_quality_r2_val = r2_score(y_test['air_quality'], y_test_pred[:, 1])\n",
    "\n",
    "# For Humidity\n",
    "humidity_mse_val = mean_squared_error(y_test['humidity'], y_test_pred[:, 2])\n",
    "humidity_r2_val = r2_score(y_test['humidity'], y_test_pred[:, 2])\n",
    "\n",
    "# Display the results\n",
    "print(\"Scores for Temperature: \")\n",
    "print(f\"MSE of the Test Set: {temp_mse_val}\")\n",
    "print(f\"R² of the Test Set: {temp_r2_val}\")\n",
    "print(\"\\n\")\n",
    "print(\"Scores for Air Quality: \")\n",
    "print(f\"MSE of the Test Set: {air_quality_mse_val}\")\n",
    "print(f\"R² of the Test Set: {air_quality_r2_val}\")\n",
    "print(\"\\n\")\n",
    "print(\"Scores for Humidity: \")\n",
    "print(f\"MSE of the Tets Set: {humidity_mse_val}\")\n",
    "print(f\"R² of the Test Set: {humidity_r2_val}\")"
   ]
  },
  {
   "cell_type": "markdown",
   "metadata": {},
   "source": [
    "### Fine tuning Round 1:\n",
    "\n",
    "For the first round of fune tuning, we can use GridSearchCV to get the best parameters possible for the Linear Regression Model"
   ]
  },
  {
   "cell_type": "code",
   "execution_count": 98,
   "metadata": {},
   "outputs": [
    {
     "name": "stdout",
     "output_type": "stream",
     "text": [
      "Scores after GridSearchCV:\n",
      "Scores for Temperature: \n",
      "MSE of the Validation Set: 5.1729097242232935\n",
      "R² of the Validation Set: 0.5199444682821912\n",
      "\n",
      "\n",
      "Scores for Air Quality: \n",
      "MSE of the Validation Set: 27.087979344793855\n",
      "R² of the Validation Set: 0.5113478630363313\n",
      "\n",
      "\n",
      "Scores for Humidity: \n",
      "MSE of the Validation Set: 23.754430770864076\n",
      "R² of the Validation Set: 0.19063540523700562\n"
     ]
    }
   ],
   "source": [
    "param_grid = {\n",
    "    'fit_intercept': [True, False],\n",
    "}\n",
    "    \n",
    "grid_search = GridSearchCV(estimator=model, param_grid=param_grid, cv=5, scoring='r2')\n",
    "\n",
    "# Fit the model\n",
    "grid_search.fit(X_train, y_train)\n",
    "\n",
    "# Get the best parameters and score\n",
    "best_params = grid_search.best_params_\n",
    "best_score = grid_search.best_score_\n",
    "\n",
    "# print(f\"Best Parameters: {best_params}\")\n",
    "# print(f\"Best Cross-Validation R² Score: {best_score}\")\n",
    "\n",
    "# Use the best estimator to make predictions\n",
    "best_lr_model = grid_search.best_estimator_\n",
    "y_val_pred = best_lr_model.predict(X_val)\n",
    "\n",
    "# Evaluate on the validation set\n",
    "temp_mse_val = mean_squared_error(y_val['temperature'], y_val_pred[:, 0])\n",
    "temp_r2_val = r2_score(y_val['temperature'], y_val_pred[:, 0])\n",
    "\n",
    "air_quality_mse_val = mean_squared_error(y_val['air_quality'], y_val_pred[:, 1])\n",
    "air_quality_r2_val = r2_score(y_val['air_quality'], y_val_pred[:, 1])\n",
    "\n",
    "# For Humidity\n",
    "humidity_mse_val = mean_squared_error(y_val['humidity'], y_val_pred[:, 2])\n",
    "humidity_r2_val = r2_score(y_val['humidity'], y_val_pred[:, 2])\n",
    "\n",
    "# Display the results\n",
    "print(\"Scores after GridSearchCV:\")\n",
    "print(\"Scores for Temperature: \")\n",
    "print(f\"MSE of the Validation Set: {temp_mse_val}\")\n",
    "print(f\"R² of the Validation Set: {temp_r2_val}\")\n",
    "print(\"\\n\")\n",
    "print(\"Scores for Air Quality: \")\n",
    "print(f\"MSE of the Validation Set: {air_quality_mse_val}\")\n",
    "print(f\"R² of the Validation Set: {air_quality_r2_val}\")\n",
    "print(\"\\n\")\n",
    "print(\"Scores for Humidity: \")\n",
    "print(f\"MSE of the Validation Set: {humidity_mse_val}\")\n",
    "print(f\"R² of the Validation Set: {humidity_r2_val}\")\n",
    "\n"
   ]
  },
  {
   "cell_type": "code",
   "execution_count": null,
   "metadata": {},
   "outputs": [],
   "source": []
  },
  {
   "cell_type": "markdown",
   "metadata": {},
   "source": [
    "### Fine Tuning Round 2:"
   ]
  },
  {
   "cell_type": "code",
   "execution_count": 99,
   "metadata": {},
   "outputs": [
    {
     "name": "stdout",
     "output_type": "stream",
     "text": [
      "For Temperature:\n",
      "Ridge Validation MSE: 5.173283310116138\n",
      "Ridge Validation R²: 0.5199097988245759\n",
      "Lasso Validation MSE: 5.292413259337956\n",
      "Lasso Validation R²: 0.5088543205413583\n",
      "\n",
      "\n",
      "For Air Quality:\n",
      "Ridge Validation MSE: 27.087817152209986\n",
      "Ridge Validation R²: 0.5113507889006675\n",
      "Lasso Validation MSE: 27.17542852800301\n",
      "Lasso Validation R²: 0.5097703282299526\n",
      "\n",
      "\n",
      "For Humidity:\n",
      "Ridge Validation MSE: 23.75613345161213\n",
      "Ridge Validation R²: 0.19057739123839834\n",
      "Lasso Validation MSE: 23.867168210940847\n",
      "Lasso Validation R²: 0.18679419795308827\n",
      "\n",
      "\n",
      "Test MSE (Temperature): 4.688121001156685\n",
      "Test R² (Temperature): 0.48482501315119975\n",
      "\n",
      "\n",
      "Test MSE (Air Quality): 33.088512091851065\n",
      "Test R² (Air Quality): 0.39829404401854085\n",
      "\n",
      "\n",
      "Test MSE (Humidity): 13.751463302495361\n",
      "Test R² (Humidity): 0.2410630442553695\n"
     ]
    }
   ],
   "source": [
    "# from sklearn.pipeline import Pipeline\n",
    "# from sklearn.preprocessing import StandardScaler\n",
    "# from sklearn.linear_model import Ridge, Lasso\n",
    "# from sklearn.model_selection import GridSearchCV\n",
    "# from sklearn.metrics import mean_squared_error, r2_score\n",
    "\n",
    "# Set up the pipeline with a standard scaler and a ridge regression model\n",
    "ridge_pipeline = Pipeline([\n",
    "    ('scaler', StandardScaler()),   # Standardizes the data\n",
    "    ('ridge', Ridge())              # Applies Ridge Regression\n",
    "])\n",
    "\n",
    "# Set up the pipeline with a standard scaler and a lasso regression model\n",
    "lasso_pipeline = Pipeline([\n",
    "    ('scaler', StandardScaler()),   # Standardizes the data\n",
    "    ('lasso', Lasso())              # Applies Lasso Regression\n",
    "])\n",
    "\n",
    "# Define the hyperparameters to tune\n",
    "ridge_params = {\n",
    "    'ridge__alpha': [0.1, 1.0, 10.0, 100.0]  # Ridge regularization strength\n",
    "}\n",
    "\n",
    "lasso_params = {\n",
    "    'lasso__alpha': [0.1, 1.0, 10.0, 100.0]  # Lasso regularization strength\n",
    "}\n",
    "\n",
    "# Use the pipeline in GridSearchCV\n",
    "ridge_grid = GridSearchCV(ridge_pipeline, ridge_params, cv=5)\n",
    "ridge_grid.fit(X_train, y_train)\n",
    "\n",
    "lasso_grid = GridSearchCV(lasso_pipeline, lasso_params, cv=5)\n",
    "lasso_grid.fit(X_train, y_train)\n",
    "\n",
    "# Predictions on the validation set for Ridge\n",
    "y_val_pred_ridge = ridge_grid.predict(X_val)\n",
    "\n",
    "# Predictions on the validation set for Lasso\n",
    "y_val_pred_lasso = lasso_grid.predict(X_val)\n",
    "\n",
    "# Calculate validation metrics for Ridge(Temp)\n",
    "temp_mse_val_ridge = mean_squared_error(y_val['temperature'], y_val_pred_ridge[:, 0])\n",
    "temp_r2_val_ridge = r2_score(y_val['temperature'], y_val_pred_ridge[:, 0])\n",
    "\n",
    "# Calculate validation metrics for Lasso(Temp)\n",
    "temp_mse_val_lasso = mean_squared_error(y_val['temperature'], y_val_pred_lasso[:, 0])\n",
    "temp_r2_val_lasso = r2_score(y_val['temperature'], y_val_pred_lasso[:, 0])\n",
    "\n",
    "# Calculate validation metrics for Ridge(AQ)\n",
    "aq_mse_val_ridge = mean_squared_error(y_val['air_quality'], y_val_pred_ridge[:, 1])\n",
    "aq_r2_val_ridge = r2_score(y_val['air_quality'], y_val_pred_ridge[:, 1])\n",
    "\n",
    "# Calculate validation metrics for Lasso(AQ)\n",
    "aq_mse_val_lasso = mean_squared_error(y_val['air_quality'], y_val_pred_lasso[:, 1])\n",
    "aq_r2_val_lasso = r2_score(y_val['air_quality'], y_val_pred_lasso[:, 1])\n",
    "\n",
    "# Calculate validation metrics for Ridge(humidity)\n",
    "hum_mse_val_ridge = mean_squared_error(y_val['humidity'], y_val_pred_ridge[:, 2])\n",
    "hum_r2_val_ridge = r2_score(y_val['humidity'], y_val_pred_ridge[:, 2])\n",
    "\n",
    "# Calculate validation metrics for Lasso(humidity)\n",
    "hum_mse_val_lasso = mean_squared_error(y_val['humidity'], y_val_pred_lasso[:, 2])\n",
    "hum_r2_val_lasso = r2_score(y_val['humidity'], y_val_pred_lasso[:, 2])\n",
    "\n",
    "print(\"For Temperature:\")\n",
    "print(f\"Ridge Validation MSE: {temp_mse_val_ridge}\")\n",
    "print(f\"Ridge Validation R²: {temp_r2_val_ridge}\")\n",
    "print(f\"Lasso Validation MSE: {temp_mse_val_lasso}\")\n",
    "print(f\"Lasso Validation R²: {temp_r2_val_lasso}\")\n",
    "print(\"\\n\")\n",
    "print(\"For Air Quality:\")\n",
    "print(f\"Ridge Validation MSE: {aq_mse_val_ridge}\")\n",
    "print(f\"Ridge Validation R²: {aq_r2_val_ridge}\")\n",
    "print(f\"Lasso Validation MSE: {aq_mse_val_lasso}\")\n",
    "print(f\"Lasso Validation R²: {aq_r2_val_lasso}\")\n",
    "print(\"\\n\")\n",
    "print(\"For Humidity:\")\n",
    "print(f\"Ridge Validation MSE: {hum_mse_val_ridge}\")\n",
    "print(f\"Ridge Validation R²: {hum_r2_val_ridge}\")\n",
    "print(f\"Lasso Validation MSE: {hum_mse_val_lasso}\")\n",
    "print(f\"Lasso Validation R²: {hum_r2_val_lasso}\")\n",
    "\n",
    "# Select the best model from the validation performance\n",
    "best_model = ridge_grid.best_estimator_ if temp_r2_val_ridge > temp_r2_val_lasso else lasso_grid.best_estimator_\n",
    "\n",
    "# Predictions on the test set\n",
    "y_test_pred = best_model.predict(X_test)\n",
    "\n",
    "# Calculate test metrics\n",
    "temp_mse_test = mean_squared_error(y_test['temperature'], y_test_pred[:, 0])\n",
    "temp_r2_test = r2_score(y_test['temperature'], y_test_pred[:, 0])\n",
    "aq_mse_test = mean_squared_error(y_test['air_quality'], y_test_pred[:, 1])\n",
    "aq_r2_test = r2_score(y_test['air_quality'], y_test_pred[:, 1])\n",
    "hum_mse_test = mean_squared_error(y_test['humidity'], y_test_pred[:, 2])\n",
    "hum_r2_test = r2_score(y_test['humidity'], y_test_pred[:, 2])\n",
    "\n",
    "print(\"\\n\")\n",
    "print(f\"Test MSE (Temperature): {temp_mse_test}\")\n",
    "print(f\"Test R² (Temperature): {temp_r2_test}\")\n",
    "print(\"\\n\")\n",
    "print(f\"Test MSE (Air Quality): {aq_mse_test}\")\n",
    "print(f\"Test R² (Air Quality): {aq_r2_test}\")\n",
    "print(\"\\n\")\n",
    "print(f\"Test MSE (Humidity): {hum_mse_test}\")\n",
    "print(f\"Test R² (Humidity): {hum_r2_test}\")\n"
   ]
  },
  {
   "cell_type": "code",
   "execution_count": null,
   "metadata": {},
   "outputs": [],
   "source": []
  },
  {
   "cell_type": "code",
   "execution_count": null,
   "metadata": {},
   "outputs": [],
   "source": []
  }
 ],
 "metadata": {
  "kernelspec": {
   "display_name": "Python 3",
   "language": "python",
   "name": "python3"
  },
  "language_info": {
   "codemirror_mode": {
    "name": "ipython",
    "version": 3
   },
   "file_extension": ".py",
   "mimetype": "text/x-python",
   "name": "python",
   "nbconvert_exporter": "python",
   "pygments_lexer": "ipython3",
   "version": "3.12.4"
  },
  "orig_nbformat": 4
 },
 "nbformat": 4,
 "nbformat_minor": 2
}
