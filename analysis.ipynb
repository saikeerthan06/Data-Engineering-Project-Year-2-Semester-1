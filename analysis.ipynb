{
 "cells": [
  {
   "cell_type": "code",
   "execution_count": 1,
   "metadata": {},
   "outputs": [],
   "source": [
    "import pandas as pd \n",
    "import numpy as np"
   ]
  },
  {
   "cell_type": "code",
   "execution_count": 2,
   "metadata": {},
   "outputs": [
    {
     "data": {
      "text/html": [
       "<div>\n",
       "<style scoped>\n",
       "    .dataframe tbody tr th:only-of-type {\n",
       "        vertical-align: middle;\n",
       "    }\n",
       "\n",
       "    .dataframe tbody tr th {\n",
       "        vertical-align: top;\n",
       "    }\n",
       "\n",
       "    .dataframe thead th {\n",
       "        text-align: right;\n",
       "    }\n",
       "</style>\n",
       "<table border=\"1\" class=\"dataframe\">\n",
       "  <thead>\n",
       "    <tr style=\"text-align: right;\">\n",
       "      <th></th>\n",
       "      <th>id</th>\n",
       "      <th>clientID</th>\n",
       "      <th>topic</th>\n",
       "      <th>message</th>\n",
       "      <th>timestamp</th>\n",
       "    </tr>\n",
       "  </thead>\n",
       "  <tbody>\n",
       "    <tr>\n",
       "      <th>0</th>\n",
       "      <td>12</td>\n",
       "      <td>23.1;62.9;18</td>\n",
       "      <td>t4g1</td>\n",
       "      <td>NaN</td>\n",
       "      <td>2024-07-09 13:00:18</td>\n",
       "    </tr>\n",
       "    <tr>\n",
       "      <th>1</th>\n",
       "      <td>13</td>\n",
       "      <td>23.1;62.8;23</td>\n",
       "      <td>t4g1</td>\n",
       "      <td>NaN</td>\n",
       "      <td>2024-07-09 13:00:34</td>\n",
       "    </tr>\n",
       "    <tr>\n",
       "      <th>2</th>\n",
       "      <td>14</td>\n",
       "      <td>23.1;62.8;23</td>\n",
       "      <td>t4g1</td>\n",
       "      <td>NaN</td>\n",
       "      <td>2024-07-09 13:00:48</td>\n",
       "    </tr>\n",
       "    <tr>\n",
       "      <th>3</th>\n",
       "      <td>15</td>\n",
       "      <td>23.1;62.7;23</td>\n",
       "      <td>t4g1</td>\n",
       "      <td>NaN</td>\n",
       "      <td>2024-07-09 13:01:04</td>\n",
       "    </tr>\n",
       "    <tr>\n",
       "      <th>4</th>\n",
       "      <td>16</td>\n",
       "      <td>23.0;63.2;23</td>\n",
       "      <td>t4g1</td>\n",
       "      <td>NaN</td>\n",
       "      <td>2024-07-09 13:01:19</td>\n",
       "    </tr>\n",
       "    <tr>\n",
       "      <th>...</th>\n",
       "      <td>...</td>\n",
       "      <td>...</td>\n",
       "      <td>...</td>\n",
       "      <td>...</td>\n",
       "      <td>...</td>\n",
       "    </tr>\n",
       "    <tr>\n",
       "      <th>1493</th>\n",
       "      <td>1505</td>\n",
       "      <td>t4g1:139</td>\n",
       "      <td>t4g1</td>\n",
       "      <td>31.3;48.5;42</td>\n",
       "      <td>2024-07-29 19:09:49</td>\n",
       "    </tr>\n",
       "    <tr>\n",
       "      <th>1494</th>\n",
       "      <td>1506</td>\n",
       "      <td>t4g1:139</td>\n",
       "      <td>t4g1</td>\n",
       "      <td>31.7;49.2;40</td>\n",
       "      <td>2024-07-29 19:19:49</td>\n",
       "    </tr>\n",
       "    <tr>\n",
       "      <th>1495</th>\n",
       "      <td>1507</td>\n",
       "      <td>t4g1:139</td>\n",
       "      <td>t4g1</td>\n",
       "      <td>31.9;49.5;40</td>\n",
       "      <td>2024-07-29 19:29:49</td>\n",
       "    </tr>\n",
       "    <tr>\n",
       "      <th>1496</th>\n",
       "      <td>1508</td>\n",
       "      <td>t4g1:139</td>\n",
       "      <td>t4g1</td>\n",
       "      <td>32.0;50.2;39</td>\n",
       "      <td>2024-07-29 19:39:51</td>\n",
       "    </tr>\n",
       "    <tr>\n",
       "      <th>1497</th>\n",
       "      <td>1509</td>\n",
       "      <td>t4g1:139</td>\n",
       "      <td>t4g1</td>\n",
       "      <td>32.1;50.9;40</td>\n",
       "      <td>2024-07-29 19:49:50</td>\n",
       "    </tr>\n",
       "  </tbody>\n",
       "</table>\n",
       "<p>1498 rows × 5 columns</p>\n",
       "</div>"
      ],
      "text/plain": [
       "        id      clientID topic       message            timestamp\n",
       "0       12  23.1;62.9;18  t4g1           NaN  2024-07-09 13:00:18\n",
       "1       13  23.1;62.8;23  t4g1           NaN  2024-07-09 13:00:34\n",
       "2       14  23.1;62.8;23  t4g1           NaN  2024-07-09 13:00:48\n",
       "3       15  23.1;62.7;23  t4g1           NaN  2024-07-09 13:01:04\n",
       "4       16  23.0;63.2;23  t4g1           NaN  2024-07-09 13:01:19\n",
       "...    ...           ...   ...           ...                  ...\n",
       "1493  1505      t4g1:139  t4g1  31.3;48.5;42  2024-07-29 19:09:49\n",
       "1494  1506      t4g1:139  t4g1  31.7;49.2;40  2024-07-29 19:19:49\n",
       "1495  1507      t4g1:139  t4g1  31.9;49.5;40  2024-07-29 19:29:49\n",
       "1496  1508      t4g1:139  t4g1  32.0;50.2;39  2024-07-29 19:39:51\n",
       "1497  1509      t4g1:139  t4g1  32.1;50.9;40  2024-07-29 19:49:50\n",
       "\n",
       "[1498 rows x 5 columns]"
      ]
     },
     "execution_count": 2,
     "metadata": {},
     "output_type": "execute_result"
    }
   ],
   "source": [
    "df = pd.read_csv('output_data.csv')\n",
    "\n",
    "df"
   ]
  },
  {
   "cell_type": "code",
   "execution_count": 3,
   "metadata": {},
   "outputs": [
    {
     "data": {
      "text/html": [
       "<div>\n",
       "<style scoped>\n",
       "    .dataframe tbody tr th:only-of-type {\n",
       "        vertical-align: middle;\n",
       "    }\n",
       "\n",
       "    .dataframe tbody tr th {\n",
       "        vertical-align: top;\n",
       "    }\n",
       "\n",
       "    .dataframe thead th {\n",
       "        text-align: right;\n",
       "    }\n",
       "</style>\n",
       "<table border=\"1\" class=\"dataframe\">\n",
       "  <thead>\n",
       "    <tr style=\"text-align: right;\">\n",
       "      <th></th>\n",
       "      <th>clientID</th>\n",
       "      <th>topic</th>\n",
       "      <th>message</th>\n",
       "      <th>timestamp</th>\n",
       "    </tr>\n",
       "    <tr>\n",
       "      <th>id</th>\n",
       "      <th></th>\n",
       "      <th></th>\n",
       "      <th></th>\n",
       "      <th></th>\n",
       "    </tr>\n",
       "  </thead>\n",
       "  <tbody>\n",
       "    <tr>\n",
       "      <th>12</th>\n",
       "      <td>23.1;62.9;18</td>\n",
       "      <td>t4g1</td>\n",
       "      <td>NaN</td>\n",
       "      <td>2024-07-09 13:00:18</td>\n",
       "    </tr>\n",
       "    <tr>\n",
       "      <th>13</th>\n",
       "      <td>23.1;62.8;23</td>\n",
       "      <td>t4g1</td>\n",
       "      <td>NaN</td>\n",
       "      <td>2024-07-09 13:00:34</td>\n",
       "    </tr>\n",
       "    <tr>\n",
       "      <th>14</th>\n",
       "      <td>23.1;62.8;23</td>\n",
       "      <td>t4g1</td>\n",
       "      <td>NaN</td>\n",
       "      <td>2024-07-09 13:00:48</td>\n",
       "    </tr>\n",
       "    <tr>\n",
       "      <th>15</th>\n",
       "      <td>23.1;62.7;23</td>\n",
       "      <td>t4g1</td>\n",
       "      <td>NaN</td>\n",
       "      <td>2024-07-09 13:01:04</td>\n",
       "    </tr>\n",
       "    <tr>\n",
       "      <th>16</th>\n",
       "      <td>23.0;63.2;23</td>\n",
       "      <td>t4g1</td>\n",
       "      <td>NaN</td>\n",
       "      <td>2024-07-09 13:01:19</td>\n",
       "    </tr>\n",
       "  </tbody>\n",
       "</table>\n",
       "</div>"
      ],
      "text/plain": [
       "        clientID topic message            timestamp\n",
       "id                                                 \n",
       "12  23.1;62.9;18  t4g1     NaN  2024-07-09 13:00:18\n",
       "13  23.1;62.8;23  t4g1     NaN  2024-07-09 13:00:34\n",
       "14  23.1;62.8;23  t4g1     NaN  2024-07-09 13:00:48\n",
       "15  23.1;62.7;23  t4g1     NaN  2024-07-09 13:01:04\n",
       "16  23.0;63.2;23  t4g1     NaN  2024-07-09 13:01:19"
      ]
     },
     "execution_count": 3,
     "metadata": {},
     "output_type": "execute_result"
    }
   ],
   "source": [
    "# Set the 'id' column as the index of the dataset\n",
    "df.set_index('id', inplace=True)\n",
    "\n",
    "# Display the first few rows of the updated dataset\n",
    "df.head()\n"
   ]
  },
  {
   "cell_type": "code",
   "execution_count": 4,
   "metadata": {},
   "outputs": [
    {
     "data": {
      "text/html": [
       "<div>\n",
       "<style scoped>\n",
       "    .dataframe tbody tr th:only-of-type {\n",
       "        vertical-align: middle;\n",
       "    }\n",
       "\n",
       "    .dataframe tbody tr th {\n",
       "        vertical-align: top;\n",
       "    }\n",
       "\n",
       "    .dataframe thead th {\n",
       "        text-align: right;\n",
       "    }\n",
       "</style>\n",
       "<table border=\"1\" class=\"dataframe\">\n",
       "  <thead>\n",
       "    <tr style=\"text-align: right;\">\n",
       "      <th></th>\n",
       "      <th>clientID</th>\n",
       "      <th>topic</th>\n",
       "      <th>message</th>\n",
       "      <th>timestamp</th>\n",
       "    </tr>\n",
       "    <tr>\n",
       "      <th>id</th>\n",
       "      <th></th>\n",
       "      <th></th>\n",
       "      <th></th>\n",
       "      <th></th>\n",
       "    </tr>\n",
       "  </thead>\n",
       "  <tbody>\n",
       "    <tr>\n",
       "      <th>312</th>\n",
       "      <td>t4g1:139</td>\n",
       "      <td>t4g1</td>\n",
       "      <td>23.9;69.1;24</td>\n",
       "      <td>2024-07-15 16:41:47</td>\n",
       "    </tr>\n",
       "    <tr>\n",
       "      <th>313</th>\n",
       "      <td>t4g1:139</td>\n",
       "      <td>t4g1</td>\n",
       "      <td>26.2;61.6;26</td>\n",
       "      <td>2024-07-15 17:07:16</td>\n",
       "    </tr>\n",
       "    <tr>\n",
       "      <th>314</th>\n",
       "      <td>t4g1:139</td>\n",
       "      <td>t4g1</td>\n",
       "      <td>26.9;59.5;27</td>\n",
       "      <td>2024-07-15 17:17:16</td>\n",
       "    </tr>\n",
       "    <tr>\n",
       "      <th>315</th>\n",
       "      <td>t4g1:139</td>\n",
       "      <td>t4g1</td>\n",
       "      <td>26.7;59.8;28</td>\n",
       "      <td>2024-07-15 17:27:17</td>\n",
       "    </tr>\n",
       "    <tr>\n",
       "      <th>316</th>\n",
       "      <td>t4g1:139</td>\n",
       "      <td>t4g1</td>\n",
       "      <td>26.6;60.2;28</td>\n",
       "      <td>2024-07-15 17:37:17</td>\n",
       "    </tr>\n",
       "    <tr>\n",
       "      <th>...</th>\n",
       "      <td>...</td>\n",
       "      <td>...</td>\n",
       "      <td>...</td>\n",
       "      <td>...</td>\n",
       "    </tr>\n",
       "    <tr>\n",
       "      <th>1505</th>\n",
       "      <td>t4g1:139</td>\n",
       "      <td>t4g1</td>\n",
       "      <td>31.3;48.5;42</td>\n",
       "      <td>2024-07-29 19:09:49</td>\n",
       "    </tr>\n",
       "    <tr>\n",
       "      <th>1506</th>\n",
       "      <td>t4g1:139</td>\n",
       "      <td>t4g1</td>\n",
       "      <td>31.7;49.2;40</td>\n",
       "      <td>2024-07-29 19:19:49</td>\n",
       "    </tr>\n",
       "    <tr>\n",
       "      <th>1507</th>\n",
       "      <td>t4g1:139</td>\n",
       "      <td>t4g1</td>\n",
       "      <td>31.9;49.5;40</td>\n",
       "      <td>2024-07-29 19:29:49</td>\n",
       "    </tr>\n",
       "    <tr>\n",
       "      <th>1508</th>\n",
       "      <td>t4g1:139</td>\n",
       "      <td>t4g1</td>\n",
       "      <td>32.0;50.2;39</td>\n",
       "      <td>2024-07-29 19:39:51</td>\n",
       "    </tr>\n",
       "    <tr>\n",
       "      <th>1509</th>\n",
       "      <td>t4g1:139</td>\n",
       "      <td>t4g1</td>\n",
       "      <td>32.1;50.9;40</td>\n",
       "      <td>2024-07-29 19:49:50</td>\n",
       "    </tr>\n",
       "  </tbody>\n",
       "</table>\n",
       "<p>1198 rows × 4 columns</p>\n",
       "</div>"
      ],
      "text/plain": [
       "      clientID topic       message            timestamp\n",
       "id                                                     \n",
       "312   t4g1:139  t4g1  23.9;69.1;24  2024-07-15 16:41:47\n",
       "313   t4g1:139  t4g1  26.2;61.6;26  2024-07-15 17:07:16\n",
       "314   t4g1:139  t4g1  26.9;59.5;27  2024-07-15 17:17:16\n",
       "315   t4g1:139  t4g1  26.7;59.8;28  2024-07-15 17:27:17\n",
       "316   t4g1:139  t4g1  26.6;60.2;28  2024-07-15 17:37:17\n",
       "...        ...   ...           ...                  ...\n",
       "1505  t4g1:139  t4g1  31.3;48.5;42  2024-07-29 19:09:49\n",
       "1506  t4g1:139  t4g1  31.7;49.2;40  2024-07-29 19:19:49\n",
       "1507  t4g1:139  t4g1  31.9;49.5;40  2024-07-29 19:29:49\n",
       "1508  t4g1:139  t4g1  32.0;50.2;39  2024-07-29 19:39:51\n",
       "1509  t4g1:139  t4g1  32.1;50.9;40  2024-07-29 19:49:50\n",
       "\n",
       "[1198 rows x 4 columns]"
      ]
     },
     "execution_count": 4,
     "metadata": {},
     "output_type": "execute_result"
    }
   ],
   "source": [
    "data_removed = df.drop(index=range(12,312))\n",
    "df = data_removed\n",
    "\n",
    "df"
   ]
  },
  {
   "cell_type": "code",
   "execution_count": 5,
   "metadata": {},
   "outputs": [
    {
     "data": {
      "text/html": [
       "<div>\n",
       "<style scoped>\n",
       "    .dataframe tbody tr th:only-of-type {\n",
       "        vertical-align: middle;\n",
       "    }\n",
       "\n",
       "    .dataframe tbody tr th {\n",
       "        vertical-align: top;\n",
       "    }\n",
       "\n",
       "    .dataframe thead th {\n",
       "        text-align: right;\n",
       "    }\n",
       "</style>\n",
       "<table border=\"1\" class=\"dataframe\">\n",
       "  <thead>\n",
       "    <tr style=\"text-align: right;\">\n",
       "      <th></th>\n",
       "      <th>clientID</th>\n",
       "      <th>topic</th>\n",
       "      <th>message</th>\n",
       "      <th>timestamp</th>\n",
       "    </tr>\n",
       "    <tr>\n",
       "      <th>id</th>\n",
       "      <th></th>\n",
       "      <th></th>\n",
       "      <th></th>\n",
       "      <th></th>\n",
       "    </tr>\n",
       "  </thead>\n",
       "  <tbody>\n",
       "    <tr>\n",
       "      <th>312</th>\n",
       "      <td>t4g1:139</td>\n",
       "      <td>t4g1</td>\n",
       "      <td>23.9;69.1;24</td>\n",
       "      <td>2024-07-15 16:41:47</td>\n",
       "    </tr>\n",
       "    <tr>\n",
       "      <th>313</th>\n",
       "      <td>t4g1:139</td>\n",
       "      <td>t4g1</td>\n",
       "      <td>26.2;61.6;26</td>\n",
       "      <td>2024-07-15 17:07:16</td>\n",
       "    </tr>\n",
       "    <tr>\n",
       "      <th>314</th>\n",
       "      <td>t4g1:139</td>\n",
       "      <td>t4g1</td>\n",
       "      <td>26.9;59.5;27</td>\n",
       "      <td>2024-07-15 17:17:16</td>\n",
       "    </tr>\n",
       "    <tr>\n",
       "      <th>315</th>\n",
       "      <td>t4g1:139</td>\n",
       "      <td>t4g1</td>\n",
       "      <td>26.7;59.8;28</td>\n",
       "      <td>2024-07-15 17:27:17</td>\n",
       "    </tr>\n",
       "    <tr>\n",
       "      <th>316</th>\n",
       "      <td>t4g1:139</td>\n",
       "      <td>t4g1</td>\n",
       "      <td>26.6;60.2;28</td>\n",
       "      <td>2024-07-15 17:37:17</td>\n",
       "    </tr>\n",
       "    <tr>\n",
       "      <th>...</th>\n",
       "      <td>...</td>\n",
       "      <td>...</td>\n",
       "      <td>...</td>\n",
       "      <td>...</td>\n",
       "    </tr>\n",
       "    <tr>\n",
       "      <th>1505</th>\n",
       "      <td>t4g1:139</td>\n",
       "      <td>t4g1</td>\n",
       "      <td>31.3;48.5;42</td>\n",
       "      <td>2024-07-29 19:09:49</td>\n",
       "    </tr>\n",
       "    <tr>\n",
       "      <th>1506</th>\n",
       "      <td>t4g1:139</td>\n",
       "      <td>t4g1</td>\n",
       "      <td>31.7;49.2;40</td>\n",
       "      <td>2024-07-29 19:19:49</td>\n",
       "    </tr>\n",
       "    <tr>\n",
       "      <th>1507</th>\n",
       "      <td>t4g1:139</td>\n",
       "      <td>t4g1</td>\n",
       "      <td>31.9;49.5;40</td>\n",
       "      <td>2024-07-29 19:29:49</td>\n",
       "    </tr>\n",
       "    <tr>\n",
       "      <th>1508</th>\n",
       "      <td>t4g1:139</td>\n",
       "      <td>t4g1</td>\n",
       "      <td>32.0;50.2;39</td>\n",
       "      <td>2024-07-29 19:39:51</td>\n",
       "    </tr>\n",
       "    <tr>\n",
       "      <th>1509</th>\n",
       "      <td>t4g1:139</td>\n",
       "      <td>t4g1</td>\n",
       "      <td>32.1;50.9;40</td>\n",
       "      <td>2024-07-29 19:49:50</td>\n",
       "    </tr>\n",
       "  </tbody>\n",
       "</table>\n",
       "<p>1195 rows × 4 columns</p>\n",
       "</div>"
      ],
      "text/plain": [
       "      clientID topic       message            timestamp\n",
       "id                                                     \n",
       "312   t4g1:139  t4g1  23.9;69.1;24  2024-07-15 16:41:47\n",
       "313   t4g1:139  t4g1  26.2;61.6;26  2024-07-15 17:07:16\n",
       "314   t4g1:139  t4g1  26.9;59.5;27  2024-07-15 17:17:16\n",
       "315   t4g1:139  t4g1  26.7;59.8;28  2024-07-15 17:27:17\n",
       "316   t4g1:139  t4g1  26.6;60.2;28  2024-07-15 17:37:17\n",
       "...        ...   ...           ...                  ...\n",
       "1505  t4g1:139  t4g1  31.3;48.5;42  2024-07-29 19:09:49\n",
       "1506  t4g1:139  t4g1  31.7;49.2;40  2024-07-29 19:19:49\n",
       "1507  t4g1:139  t4g1  31.9;49.5;40  2024-07-29 19:29:49\n",
       "1508  t4g1:139  t4g1  32.0;50.2;39  2024-07-29 19:39:51\n",
       "1509  t4g1:139  t4g1  32.1;50.9;40  2024-07-29 19:49:50\n",
       "\n",
       "[1195 rows x 4 columns]"
      ]
     },
     "execution_count": 5,
     "metadata": {},
     "output_type": "execute_result"
    }
   ],
   "source": [
    "data_removed2 = df.drop(index=range(477,480))\n",
    "df = data_removed2\n",
    "\n",
    "df"
   ]
  },
  {
   "cell_type": "code",
   "execution_count": 6,
   "metadata": {},
   "outputs": [
    {
     "data": {
      "text/html": [
       "<div>\n",
       "<style scoped>\n",
       "    .dataframe tbody tr th:only-of-type {\n",
       "        vertical-align: middle;\n",
       "    }\n",
       "\n",
       "    .dataframe tbody tr th {\n",
       "        vertical-align: top;\n",
       "    }\n",
       "\n",
       "    .dataframe thead th {\n",
       "        text-align: right;\n",
       "    }\n",
       "</style>\n",
       "<table border=\"1\" class=\"dataframe\">\n",
       "  <thead>\n",
       "    <tr style=\"text-align: right;\">\n",
       "      <th></th>\n",
       "      <th>topic</th>\n",
       "      <th>message</th>\n",
       "      <th>timestamp</th>\n",
       "      <th>0</th>\n",
       "      <th>1</th>\n",
       "      <th>2</th>\n",
       "    </tr>\n",
       "    <tr>\n",
       "      <th>id</th>\n",
       "      <th></th>\n",
       "      <th></th>\n",
       "      <th></th>\n",
       "      <th></th>\n",
       "      <th></th>\n",
       "      <th></th>\n",
       "    </tr>\n",
       "  </thead>\n",
       "  <tbody>\n",
       "    <tr>\n",
       "      <th>312</th>\n",
       "      <td>t4g1</td>\n",
       "      <td>23.9;69.1;24</td>\n",
       "      <td>2024-07-15 16:41:47</td>\n",
       "      <td>23.9</td>\n",
       "      <td>69.1</td>\n",
       "      <td>24</td>\n",
       "    </tr>\n",
       "    <tr>\n",
       "      <th>313</th>\n",
       "      <td>t4g1</td>\n",
       "      <td>26.2;61.6;26</td>\n",
       "      <td>2024-07-15 17:07:16</td>\n",
       "      <td>26.2</td>\n",
       "      <td>61.6</td>\n",
       "      <td>26</td>\n",
       "    </tr>\n",
       "    <tr>\n",
       "      <th>314</th>\n",
       "      <td>t4g1</td>\n",
       "      <td>26.9;59.5;27</td>\n",
       "      <td>2024-07-15 17:17:16</td>\n",
       "      <td>26.9</td>\n",
       "      <td>59.5</td>\n",
       "      <td>27</td>\n",
       "    </tr>\n",
       "    <tr>\n",
       "      <th>315</th>\n",
       "      <td>t4g1</td>\n",
       "      <td>26.7;59.8;28</td>\n",
       "      <td>2024-07-15 17:27:17</td>\n",
       "      <td>26.7</td>\n",
       "      <td>59.8</td>\n",
       "      <td>28</td>\n",
       "    </tr>\n",
       "    <tr>\n",
       "      <th>316</th>\n",
       "      <td>t4g1</td>\n",
       "      <td>26.6;60.2;28</td>\n",
       "      <td>2024-07-15 17:37:17</td>\n",
       "      <td>26.6</td>\n",
       "      <td>60.2</td>\n",
       "      <td>28</td>\n",
       "    </tr>\n",
       "    <tr>\n",
       "      <th>...</th>\n",
       "      <td>...</td>\n",
       "      <td>...</td>\n",
       "      <td>...</td>\n",
       "      <td>...</td>\n",
       "      <td>...</td>\n",
       "      <td>...</td>\n",
       "    </tr>\n",
       "    <tr>\n",
       "      <th>1505</th>\n",
       "      <td>t4g1</td>\n",
       "      <td>31.3;48.5;42</td>\n",
       "      <td>2024-07-29 19:09:49</td>\n",
       "      <td>31.3</td>\n",
       "      <td>48.5</td>\n",
       "      <td>42</td>\n",
       "    </tr>\n",
       "    <tr>\n",
       "      <th>1506</th>\n",
       "      <td>t4g1</td>\n",
       "      <td>31.7;49.2;40</td>\n",
       "      <td>2024-07-29 19:19:49</td>\n",
       "      <td>31.7</td>\n",
       "      <td>49.2</td>\n",
       "      <td>40</td>\n",
       "    </tr>\n",
       "    <tr>\n",
       "      <th>1507</th>\n",
       "      <td>t4g1</td>\n",
       "      <td>31.9;49.5;40</td>\n",
       "      <td>2024-07-29 19:29:49</td>\n",
       "      <td>31.9</td>\n",
       "      <td>49.5</td>\n",
       "      <td>40</td>\n",
       "    </tr>\n",
       "    <tr>\n",
       "      <th>1508</th>\n",
       "      <td>t4g1</td>\n",
       "      <td>32.0;50.2;39</td>\n",
       "      <td>2024-07-29 19:39:51</td>\n",
       "      <td>32.0</td>\n",
       "      <td>50.2</td>\n",
       "      <td>39</td>\n",
       "    </tr>\n",
       "    <tr>\n",
       "      <th>1509</th>\n",
       "      <td>t4g1</td>\n",
       "      <td>32.1;50.9;40</td>\n",
       "      <td>2024-07-29 19:49:50</td>\n",
       "      <td>32.1</td>\n",
       "      <td>50.9</td>\n",
       "      <td>40</td>\n",
       "    </tr>\n",
       "  </tbody>\n",
       "</table>\n",
       "<p>1195 rows × 6 columns</p>\n",
       "</div>"
      ],
      "text/plain": [
       "     topic       message            timestamp     0     1   2\n",
       "id                                                           \n",
       "312   t4g1  23.9;69.1;24  2024-07-15 16:41:47  23.9  69.1  24\n",
       "313   t4g1  26.2;61.6;26  2024-07-15 17:07:16  26.2  61.6  26\n",
       "314   t4g1  26.9;59.5;27  2024-07-15 17:17:16  26.9  59.5  27\n",
       "315   t4g1  26.7;59.8;28  2024-07-15 17:27:17  26.7  59.8  28\n",
       "316   t4g1  26.6;60.2;28  2024-07-15 17:37:17  26.6  60.2  28\n",
       "...    ...           ...                  ...   ...   ...  ..\n",
       "1505  t4g1  31.3;48.5;42  2024-07-29 19:09:49  31.3  48.5  42\n",
       "1506  t4g1  31.7;49.2;40  2024-07-29 19:19:49  31.7  49.2  40\n",
       "1507  t4g1  31.9;49.5;40  2024-07-29 19:29:49  31.9  49.5  40\n",
       "1508  t4g1  32.0;50.2;39  2024-07-29 19:39:51  32.0  50.2  39\n",
       "1509  t4g1  32.1;50.9;40  2024-07-29 19:49:50  32.1  50.9  40\n",
       "\n",
       "[1195 rows x 6 columns]"
      ]
     },
     "execution_count": 6,
     "metadata": {},
     "output_type": "execute_result"
    }
   ],
   "source": [
    "\n",
    "\n",
    "split_client = df['message'].str.split(';', expand=True)\n",
    "split_columns = ['temperature', 'air quality', 'humidity']\n",
    "\n",
    "df = pd.concat([df, split_client], axis=1)\n",
    "\n",
    "#drop columns\n",
    "\n",
    "df = df.drop(columns=['clientID'])\n",
    "\n",
    "df"
   ]
  },
  {
   "cell_type": "code",
   "execution_count": 7,
   "metadata": {},
   "outputs": [
    {
     "data": {
      "text/html": [
       "<div>\n",
       "<style scoped>\n",
       "    .dataframe tbody tr th:only-of-type {\n",
       "        vertical-align: middle;\n",
       "    }\n",
       "\n",
       "    .dataframe tbody tr th {\n",
       "        vertical-align: top;\n",
       "    }\n",
       "\n",
       "    .dataframe thead th {\n",
       "        text-align: right;\n",
       "    }\n",
       "</style>\n",
       "<table border=\"1\" class=\"dataframe\">\n",
       "  <thead>\n",
       "    <tr style=\"text-align: right;\">\n",
       "      <th></th>\n",
       "      <th>topic</th>\n",
       "      <th>message</th>\n",
       "      <th>timestamp</th>\n",
       "      <th>Temperature (°C)</th>\n",
       "      <th>Air Quality</th>\n",
       "      <th>Humidity</th>\n",
       "    </tr>\n",
       "    <tr>\n",
       "      <th>id</th>\n",
       "      <th></th>\n",
       "      <th></th>\n",
       "      <th></th>\n",
       "      <th></th>\n",
       "      <th></th>\n",
       "      <th></th>\n",
       "    </tr>\n",
       "  </thead>\n",
       "  <tbody>\n",
       "    <tr>\n",
       "      <th>312</th>\n",
       "      <td>t4g1</td>\n",
       "      <td>23.9;69.1;24</td>\n",
       "      <td>2024-07-15 16:41:47</td>\n",
       "      <td>23.9</td>\n",
       "      <td>69.1</td>\n",
       "      <td>24</td>\n",
       "    </tr>\n",
       "    <tr>\n",
       "      <th>313</th>\n",
       "      <td>t4g1</td>\n",
       "      <td>26.2;61.6;26</td>\n",
       "      <td>2024-07-15 17:07:16</td>\n",
       "      <td>26.2</td>\n",
       "      <td>61.6</td>\n",
       "      <td>26</td>\n",
       "    </tr>\n",
       "    <tr>\n",
       "      <th>314</th>\n",
       "      <td>t4g1</td>\n",
       "      <td>26.9;59.5;27</td>\n",
       "      <td>2024-07-15 17:17:16</td>\n",
       "      <td>26.9</td>\n",
       "      <td>59.5</td>\n",
       "      <td>27</td>\n",
       "    </tr>\n",
       "    <tr>\n",
       "      <th>315</th>\n",
       "      <td>t4g1</td>\n",
       "      <td>26.7;59.8;28</td>\n",
       "      <td>2024-07-15 17:27:17</td>\n",
       "      <td>26.7</td>\n",
       "      <td>59.8</td>\n",
       "      <td>28</td>\n",
       "    </tr>\n",
       "    <tr>\n",
       "      <th>316</th>\n",
       "      <td>t4g1</td>\n",
       "      <td>26.6;60.2;28</td>\n",
       "      <td>2024-07-15 17:37:17</td>\n",
       "      <td>26.6</td>\n",
       "      <td>60.2</td>\n",
       "      <td>28</td>\n",
       "    </tr>\n",
       "    <tr>\n",
       "      <th>...</th>\n",
       "      <td>...</td>\n",
       "      <td>...</td>\n",
       "      <td>...</td>\n",
       "      <td>...</td>\n",
       "      <td>...</td>\n",
       "      <td>...</td>\n",
       "    </tr>\n",
       "    <tr>\n",
       "      <th>1505</th>\n",
       "      <td>t4g1</td>\n",
       "      <td>31.3;48.5;42</td>\n",
       "      <td>2024-07-29 19:09:49</td>\n",
       "      <td>31.3</td>\n",
       "      <td>48.5</td>\n",
       "      <td>42</td>\n",
       "    </tr>\n",
       "    <tr>\n",
       "      <th>1506</th>\n",
       "      <td>t4g1</td>\n",
       "      <td>31.7;49.2;40</td>\n",
       "      <td>2024-07-29 19:19:49</td>\n",
       "      <td>31.7</td>\n",
       "      <td>49.2</td>\n",
       "      <td>40</td>\n",
       "    </tr>\n",
       "    <tr>\n",
       "      <th>1507</th>\n",
       "      <td>t4g1</td>\n",
       "      <td>31.9;49.5;40</td>\n",
       "      <td>2024-07-29 19:29:49</td>\n",
       "      <td>31.9</td>\n",
       "      <td>49.5</td>\n",
       "      <td>40</td>\n",
       "    </tr>\n",
       "    <tr>\n",
       "      <th>1508</th>\n",
       "      <td>t4g1</td>\n",
       "      <td>32.0;50.2;39</td>\n",
       "      <td>2024-07-29 19:39:51</td>\n",
       "      <td>32.0</td>\n",
       "      <td>50.2</td>\n",
       "      <td>39</td>\n",
       "    </tr>\n",
       "    <tr>\n",
       "      <th>1509</th>\n",
       "      <td>t4g1</td>\n",
       "      <td>32.1;50.9;40</td>\n",
       "      <td>2024-07-29 19:49:50</td>\n",
       "      <td>32.1</td>\n",
       "      <td>50.9</td>\n",
       "      <td>40</td>\n",
       "    </tr>\n",
       "  </tbody>\n",
       "</table>\n",
       "<p>1195 rows × 6 columns</p>\n",
       "</div>"
      ],
      "text/plain": [
       "     topic       message            timestamp Temperature (°C) Air Quality  \\\n",
       "id                                                                           \n",
       "312   t4g1  23.9;69.1;24  2024-07-15 16:41:47             23.9        69.1   \n",
       "313   t4g1  26.2;61.6;26  2024-07-15 17:07:16             26.2        61.6   \n",
       "314   t4g1  26.9;59.5;27  2024-07-15 17:17:16             26.9        59.5   \n",
       "315   t4g1  26.7;59.8;28  2024-07-15 17:27:17             26.7        59.8   \n",
       "316   t4g1  26.6;60.2;28  2024-07-15 17:37:17             26.6        60.2   \n",
       "...    ...           ...                  ...              ...         ...   \n",
       "1505  t4g1  31.3;48.5;42  2024-07-29 19:09:49             31.3        48.5   \n",
       "1506  t4g1  31.7;49.2;40  2024-07-29 19:19:49             31.7        49.2   \n",
       "1507  t4g1  31.9;49.5;40  2024-07-29 19:29:49             31.9        49.5   \n",
       "1508  t4g1  32.0;50.2;39  2024-07-29 19:39:51             32.0        50.2   \n",
       "1509  t4g1  32.1;50.9;40  2024-07-29 19:49:50             32.1        50.9   \n",
       "\n",
       "     Humidity  \n",
       "id             \n",
       "312        24  \n",
       "313        26  \n",
       "314        27  \n",
       "315        28  \n",
       "316        28  \n",
       "...       ...  \n",
       "1505       42  \n",
       "1506       40  \n",
       "1507       40  \n",
       "1508       39  \n",
       "1509       40  \n",
       "\n",
       "[1195 rows x 6 columns]"
      ]
     },
     "execution_count": 7,
     "metadata": {},
     "output_type": "execute_result"
    }
   ],
   "source": [
    "# Renaming the columns\n",
    "df = df.rename(columns={\n",
    "    0: 'Temperature (°C)',\n",
    "    1: 'Air Quality',\n",
    "    2: 'Humidity',\n",
    "    \n",
    "})\n",
    "\n",
    "# Display the first few rows of the updated data\n",
    "df\n",
    "\n"
   ]
  },
  {
   "cell_type": "code",
   "execution_count": 8,
   "metadata": {},
   "outputs": [
    {
     "name": "stdout",
     "output_type": "stream",
     "text": [
      "The number of null values is 0\n"
     ]
    }
   ],
   "source": [
    "#missing values \n",
    "\n",
    "nan_values = df.isnull().sum().sum()\n",
    "\n",
    "print(f\"The number of null values is {nan_values}\")"
   ]
  },
  {
   "cell_type": "code",
   "execution_count": 9,
   "metadata": {},
   "outputs": [],
   "source": [
    "#save the final dataset\n",
    "\n",
    "df.to_csv('final_dataset.csv')"
   ]
  },
  {
   "cell_type": "code",
   "execution_count": 10,
   "metadata": {},
   "outputs": [],
   "source": [
    "import matplotlib.pyplot as plt\n",
    "import seaborn as sns\n"
   ]
  },
  {
   "cell_type": "code",
   "execution_count": 11,
   "metadata": {},
   "outputs": [
    {
     "data": {
      "image/png": "[encoded data removed]",
      "text/plain": [
       "<Figure size 1000x1200 with 3 Axes>"
      ]
     },
     "metadata": {},
     "output_type": "display_data"
    }
   ],
   "source": [
    "#creating histogram \n",
    "\n",
    "fig, axes = plt.subplots(3, 1, figsize=(10,12))\n",
    "\n",
    "#Temperature Histogram \n",
    "\n",
    "axes[0].hist(df['Temperature (°C)'], bins=20, color='navy', edgecolor='black')\n",
    "axes[0].set_title('Temperature Distribution')\n",
    "axes[0].set_xlabel('Temperature (°C)')\n",
    "axes[0].set_ylabel('Frequency')\n",
    "\n",
    "#Air Quality Histogram\n",
    "\n",
    "axes[1].hist(df['Air Quality'], bins=20, color='Green', edgecolor='black')\n",
    "axes[1].set_title('Air Quality Distribution')\n",
    "axes[1].set_xlabel('Air Quality')\n",
    "axes[1].set_ylabel('Frequency')\n",
    "\n",
    "#Humidity\n",
    "\n",
    "axes[2].hist(df['Humidity'], bins=20, color='Purple', edgecolor='black')\n",
    "axes[2].set_title('Humidity Distribution')\n",
    "axes[2].set_xlabel('Humidity')\n",
    "axes[2].set_ylabel('Frequency')\n",
    "\n",
    "# plt.tight_layout()\n",
    "plt.show()"
   ]
  },
  {
   "cell_type": "code",
   "execution_count": 12,
   "metadata": {},
   "outputs": [
    {
     "data": {
      "application/vnd.plotly.v1+json": {
       "config": {
        "plotlyServerURL": "https://plot.ly"
       },
       "data": [
        {
         "alignmentgroup": "True",
         "bingroup": "x",
         "hovertemplate": "Temperature (°C)=%{x}<br>count=%{y}<extra></extra>",
         "legendgroup": "",
         "marker": {
          "color": "#636efa",
          "pattern": {
           "shape": ""
          }
         },
         "name": "",
         "nbinsx": 20,
         "offsetgroup": "",
         "orientation": "v",
         "showlegend": false,
         "type": "histogram",
         "x": [
          "23.9",
          "26.2",
          "26.9",
          "26.7",
          "26.6",
          "26.6",
          "26.5",
          "26.4",
          "26.3",
          "26.3",
          "26.1",
          "26.1",
          "26.0",
          "26.1",
          "26.3",
          "26.4",
          "26.5",
          "26.6",
          "26.7",
          "26.7",
          "26.8",
          "26.8",
          "26.9",
          "26.9",
          "26.9",
          "27.0",
          "27.0",
          "27.0",
          "27.0",
          "27.1",
          "27.1",
          "27.1",
          "27.1",
          "27.1",
          "27.1",
          "27.1",
          "27.2",
          "27.2",
          "27.2",
          "27.2",
          "27.2",
          "27.2",
          "27.3",
          "27.3",
          "27.3",
          "27.3",
          "27.3",
          "27.3",
          "27.3",
          "27.2",
          "27.3",
          "27.3",
          "27.3",
          "27.3",
          "27.3",
          "27.3",
          "27.3",
          "27.3",
          "27.3",
          "27.3",
          "27.3",
          "27.3",
          "27.3",
          "27.3",
          "27.3",
          "27.3",
          "27.3",
          "27.3",
          "27.3",
          "27.3",
          "27.3",
          "27.3",
          "27.3",
          "27.3",
          "27.3",
          "27.4",
          "27.4",
          "27.3",
          "27.3",
          "27.4",
          "27.3",
          "27.3",
          "27.3",
          "27.1",
          "26.9",
          "26.7",
          "26.5",
          "26.3",
          "26.2",
          "26.0",
          "25.9",
          "25.7",
          "25.6",
          "25.4",
          "25.3",
          "25.2",
          "25.1",
          "25.1",
          "24.9",
          "24.9",
          "24.7",
          "24.8",
          "24.8",
          "24.8",
          "24.8",
          "24.8",
          "24.8",
          "24.9",
          "24.9",
          "24.9",
          "24.9",
          "24.9",
          "24.9",
          "24.9",
          "24.9",
          "25.0",
          "25.0",
          "25.1",
          "25.1",
          "25.0",
          "25.0",
          "25.0",
          "25.0",
          "25.0",
          "25.1",
          "25.2",
          "25.4",
          "25.4",
          "25.5",
          "25.6",
          "25.6",
          "25.6",
          "25.6",
          "25.6",
          "25.6",
          "25.6",
          "25.6",
          "25.8",
          "25.8",
          "25.8",
          "25.9",
          "26.0",
          "26.2",
          "26.2",
          "26.1",
          "26.0",
          "25.9",
          "25.9",
          "25.8",
          "25.8",
          "25.8",
          "25.7",
          "25.6",
          "25.5",
          "25.4",
          "25.3",
          "25.3",
          "25.4",
          "25.6",
          "25.7",
          "25.9",
          "26.0",
          "26.0",
          "26.1",
          "26.1",
          "27.0",
          "27.0",
          "27.1",
          "27.1",
          "27.2",
          "27.2",
          "27.2",
          "27.2",
          "27.2",
          "27.2",
          "27.2",
          "27.1",
          "26.9",
          "26.9",
          "26.7",
          "26.7",
          "26.7",
          "26.5",
          "26.7",
          "27.0",
          "27.1",
          "27.2",
          "27.2",
          "27.3",
          "27.3",
          "27.4",
          "27.4",
          "27.4",
          "27.4",
          "27.5",
          "27.5",
          "27.5",
          "27.5",
          "27.5",
          "27.5",
          "27.5",
          "27.6",
          "27.6",
          "27.6",
          "27.6",
          "27.6",
          "27.6",
          "27.6",
          "27.6",
          "27.6",
          "27.6",
          "27.6",
          "27.7",
          "27.6",
          "27.6",
          "27.6",
          "27.7",
          "27.7",
          "27.7",
          "27.7",
          "27.7",
          "27.7",
          "27.7",
          "27.7",
          "27.7",
          "27.7",
          "27.7",
          "27.7",
          "27.7",
          "27.7",
          "27.7",
          "27.7",
          "27.7",
          "27.7",
          "27.7",
          "27.7",
          "27.7",
          "27.7",
          "27.7",
          "27.7",
          "27.7",
          "27.8",
          "27.8",
          "27.7",
          "27.7",
          "27.7",
          "27.8",
          "27.8",
          "27.8",
          "27.8",
          "27.8",
          "27.8",
          "27.7",
          "27.3",
          "26.9",
          "26.7",
          "26.6",
          "26.3",
          "26.2",
          "26.0",
          "25.8",
          "25.7",
          "25.6",
          "25.4",
          "25.3",
          "25.3",
          "25.2",
          "25.2",
          "25.1",
          "25.1",
          "25.1",
          "25.1",
          "25.1",
          "25.1",
          "25.3",
          "25.5",
          "25.4",
          "25.5",
          "25.5",
          "25.5",
          "25.5",
          "25.6",
          "25.6",
          "25.8",
          "25.9",
          "25.8",
          "25.8",
          "26.0",
          "25.9",
          "26.0",
          "26.2",
          "26.2",
          "26.2",
          "26.3",
          "26.5",
          "26.7",
          "26.9",
          "26.9",
          "26.8",
          "27.0",
          "27.2",
          "27.1",
          "27.2",
          "27.3",
          "27.3",
          "27.4",
          "27.4",
          "27.5",
          "27.7",
          "27.8",
          "27.9",
          "27.9",
          "28.0",
          "27.9",
          "27.9",
          "27.8",
          "27.8",
          "27.9",
          "27.8",
          "27.6",
          "27.4",
          "27.4",
          "27.3",
          "27.1",
          "26.9",
          "26.6",
          "26.5",
          "26.9",
          "27.1",
          "27.2",
          "27.3",
          "27.3",
          "27.4",
          "27.4",
          "27.5",
          "27.5",
          "27.5",
          "27.5",
          "27.6",
          "27.6",
          "27.6",
          "27.6",
          "27.6",
          "27.6",
          "27.6",
          "27.6",
          "27.6",
          "27.7",
          "27.7",
          "27.7",
          "27.6",
          "27.7",
          "27.7",
          "27.7",
          "27.7",
          "27.7",
          "27.7",
          "27.7",
          "27.7",
          "27.7",
          "27.8",
          "27.7",
          "27.8",
          "27.7",
          "27.7",
          "27.8",
          "27.8",
          "27.8",
          "27.8",
          "27.8",
          "27.8",
          "27.8",
          "27.8",
          "27.7",
          "27.8",
          "27.8",
          "27.8",
          "27.8",
          "27.8",
          "27.8",
          "27.8",
          "27.8",
          "27.8",
          "27.8",
          "27.8",
          "27.8",
          "27.8",
          "27.8",
          "27.8",
          "27.8",
          "27.8",
          "27.8",
          "27.8",
          "27.8",
          "27.8",
          "27.8",
          "27.7",
          "27.4",
          "27.2",
          "26.8",
          "26.7",
          "26.5",
          "26.4",
          "26.1",
          "25.9",
          "25.9",
          "25.8",
          "25.6",
          "25.4",
          "25.4",
          "25.3",
          "25.3",
          "25.3",
          "25.1",
          "25.2",
          "25.2",
          "25.2",
          "25.2",
          "25.3",
          "25.2",
          "25.3",
          "25.3",
          "25.4",
          "25.3",
          "25.2",
          "25.4",
          "25.4",
          "25.4",
          "25.5",
          "25.7",
          "25.7",
          "25.8",
          "25.9",
          "25.9",
          "25.9",
          "26.0",
          "26.0",
          "26.0",
          "26.0",
          "26.0",
          "26.1",
          "26.0",
          "26.1",
          "26.2",
          "26.3",
          "26.3",
          "26.2",
          "26.3",
          "26.2",
          "26.3",
          "26.3",
          "26.3",
          "26.4",
          "26.4",
          "26.4",
          "26.4",
          "26.6",
          "26.6",
          "26.7",
          "26.7",
          "26.7",
          "26.8",
          "26.8",
          "26.6",
          "26.6",
          "26.6",
          "26.5",
          "26.3",
          "26.2",
          "26.0",
          "26.0",
          "26.4",
          "26.6",
          "26.8",
          "26.8",
          "27.0",
          "27.0",
          "27.0",
          "27.1",
          "27.1",
          "27.1",
          "27.2",
          "27.2",
          "27.2",
          "27.2",
          "27.2",
          "27.3",
          "27.3",
          "27.3",
          "27.3",
          "27.3",
          "27.3",
          "27.3",
          "27.3",
          "27.3",
          "27.3",
          "27.4",
          "27.4",
          "27.3",
          "27.3",
          "27.3",
          "27.3",
          "27.4",
          "27.3",
          "27.3",
          "27.4",
          "27.3",
          "27.4",
          "27.4",
          "27.4",
          "27.4",
          "27.4",
          "27.4",
          "27.4",
          "27.4",
          "27.4",
          "27.4",
          "27.4",
          "27.4",
          "27.4",
          "27.4",
          "27.4",
          "27.4",
          "27.4",
          "27.4",
          "27.4",
          "27.4",
          "27.5",
          "27.4",
          "27.4",
          "27.5",
          "27.4",
          "27.4",
          "27.5",
          "27.5",
          "27.5",
          "27.5",
          "27.5",
          "27.4",
          "27.5",
          "27.4",
          "27.1",
          "26.7",
          "26.5",
          "26.3",
          "26.2",
          "26.0",
          "25.8",
          "25.6",
          "25.3",
          "25.2",
          "25.1",
          "24.9",
          "24.9",
          "24.8",
          "24.7",
          "24.7",
          "24.7",
          "24.7",
          "24.7",
          "24.8",
          "24.8",
          "24.8",
          "24.9",
          "25.0",
          "25.1",
          "25.1",
          "25.3",
          "25.3",
          "25.3",
          "25.4",
          "25.5",
          "25.5",
          "25.6",
          "25.6",
          "25.7",
          "25.8",
          "25.7",
          "25.7",
          "25.8",
          "25.6",
          "25.6",
          "25.7",
          "25.6",
          "25.7",
          "25.8",
          "25.7",
          "25.8",
          "25.9",
          "26.0",
          "26.2",
          "26.5",
          "26.7",
          "26.2",
          "26.2",
          "26.3",
          "26.3",
          "26.2",
          "26.2",
          "26.4",
          "26.4",
          "26.5",
          "26.3",
          "26.3",
          "26.4",
          "26.5",
          "26.5",
          "26.5",
          "26.4",
          "26.4",
          "26.4",
          "26.2",
          "26.1",
          "26.1",
          "26.1",
          "26.4",
          "26.6",
          "26.7",
          "26.8",
          "26.8",
          "26.8",
          "26.9",
          "27.0",
          "26.9",
          "27.0",
          "27.0",
          "27.0",
          "27.1",
          "27.0",
          "27.0",
          "27.0",
          "27.0",
          "27.0",
          "27.1",
          "27.1",
          "27.2",
          "27.1",
          "27.1",
          "27.1",
          "27.1",
          "27.1",
          "27.1",
          "27.1",
          "27.1",
          "27.2",
          "27.1",
          "27.1",
          "27.1",
          "27.2",
          "27.2",
          "27.2",
          "27.2",
          "27.2",
          "27.2",
          "27.2",
          "27.2",
          "27.2",
          "27.2",
          "27.2",
          "27.2",
          "27.2",
          "27.2",
          "27.2",
          "27.3",
          "27.3",
          "27.2",
          "27.3",
          "27.2",
          "27.2",
          "27.3",
          "27.3",
          "27.3",
          "27.3",
          "27.4",
          "27.3",
          "27.3",
          "27.3",
          "27.3",
          "27.3",
          "27.3",
          "27.4",
          "27.3",
          "27.3",
          "27.5",
          "27.4",
          "26.9",
          "26.6",
          "26.5",
          "26.2",
          "26.1",
          "26.0",
          "25.7",
          "25.6",
          "25.5",
          "25.3",
          "25.0",
          "24.9",
          "24.8",
          "24.8",
          "24.7",
          "24.6",
          "24.6",
          "24.7",
          "24.7",
          "24.7",
          "24.9",
          "25.0",
          "25.0",
          "25.2",
          "25.3",
          "25.3",
          "27.7",
          "27.8",
          "27.8",
          "28.8",
          "29.0",
          "29.1",
          "28.4",
          "28.7",
          "28.7",
          "28.7",
          "28.8",
          "29.0",
          "29.6",
          "29.7",
          "29.2",
          "29.1",
          "29.3",
          "29.3",
          "29.5",
          "29.9",
          "30.4",
          "30.3",
          "30.3",
          "30.2",
          "30.6",
          "30.3",
          "30.7",
          "31.1",
          "30.5",
          "30.5",
          "30.4",
          "30.4",
          "30.7",
          "31.3",
          "30.9",
          "30.9",
          "30.9",
          "30.9",
          "30.9",
          "30.8",
          "30.5",
          "30.5",
          "30.5",
          "30.0",
          "30.0",
          "29.7",
          "29.5",
          "30.4",
          "30.9",
          "31.1",
          "31.2",
          "31.3",
          "31.4",
          "31.4",
          "31.4",
          "31.4",
          "31.4",
          "31.5",
          "31.5",
          "31.5",
          "31.5",
          "31.5",
          "31.5",
          "31.5",
          "31.5",
          "31.6",
          "31.5",
          "31.5",
          "31.6",
          "31.5",
          "31.5",
          "31.6",
          "31.5",
          "31.5",
          "31.6",
          "31.6",
          "31.5",
          "31.6",
          "31.6",
          "31.6",
          "31.6",
          "31.6",
          "31.6",
          "31.6",
          "31.6",
          "31.6",
          "31.6",
          "31.6",
          "31.6",
          "31.6",
          "31.5",
          "31.5",
          "31.6",
          "31.6",
          "31.6",
          "31.5",
          "31.6",
          "31.5",
          "31.5",
          "31.5",
          "31.5",
          "31.6",
          "31.5",
          "31.5",
          "31.6",
          "31.6",
          "31.6",
          "31.5",
          "31.6",
          "31.6",
          "31.6",
          "31.6",
          "31.6",
          "31.6",
          "31.5",
          "31.6",
          "31.6",
          "31.6",
          "31.6",
          "31.6",
          "31.6",
          "31.6",
          "31.6",
          "31.6",
          "31.6",
          "31.6",
          "31.6",
          "31.7",
          "31.7",
          "31.7",
          "31.8",
          "31.8",
          "31.9",
          "31.9",
          "31.9",
          "32.0",
          "32.0",
          "32.1",
          "32.2",
          "32.2",
          "32.3",
          "32.4",
          "32.4",
          "32.4",
          "32.5",
          "32.6",
          "32.6",
          "32.7",
          "32.8",
          "32.9",
          "33.0",
          "33.1",
          "33.2",
          "33.2",
          "33.3",
          "33.4",
          "33.5",
          "33.6",
          "33.6",
          "33.7",
          "33.8",
          "33.9",
          "34.0",
          "34.0",
          "34.1",
          "34.2",
          "34.3",
          "34.3",
          "34.4",
          "34.4",
          "34.5",
          "34.5",
          "34.5",
          "34.5",
          "34.6",
          "34.7",
          "34.7",
          "34.7",
          "34.8",
          "34.9",
          "34.9",
          "34.9",
          "34.9",
          "34.9",
          "34.9",
          "34.9",
          "34.9",
          "34.8",
          "34.7",
          "34.6",
          "34.4",
          "34.4",
          "34.3",
          "34.2",
          "34.1",
          "34.1",
          "34.0",
          "34.0",
          "33.9",
          "33.9",
          "33.9",
          "33.8",
          "33.8",
          "33.8",
          "33.7",
          "33.7",
          "33.7",
          "33.6",
          "33.6",
          "33.6",
          "33.5",
          "33.5",
          "33.5",
          "33.4",
          "33.4",
          "33.4",
          "33.4",
          "33.4",
          "33.3",
          "33.3",
          "33.3",
          "33.3",
          "33.3",
          "33.3",
          "33.3",
          "33.2",
          "33.2",
          "33.1",
          "33.2",
          "33.1",
          "33.2",
          "33.1",
          "33.2",
          "33.1",
          "33.1",
          "33.1",
          "33.1",
          "33.0",
          "33.0",
          "33.0",
          "33.0",
          "33.0",
          "33.0",
          "33.0",
          "32.9",
          "33.0",
          "32.9",
          "32.9",
          "32.9",
          "32.9",
          "32.9",
          "32.9",
          "32.9",
          "32.9",
          "32.8",
          "32.8",
          "32.8",
          "32.9",
          "32.8",
          "32.9",
          "32.8",
          "32.8",
          "32.9",
          "32.8",
          "32.8",
          "32.8",
          "32.8",
          "32.8",
          "32.8",
          "32.9",
          "32.8",
          "32.9",
          "32.9",
          "32.9",
          "33.0",
          "33.0",
          "33.0",
          "33.1",
          "33.1",
          "33.2",
          "33.2",
          "33.3",
          "33.3",
          "33.4",
          "33.4",
          "33.5",
          "33.5",
          "33.5",
          "33.6",
          "33.7",
          "33.8",
          "33.8",
          "33.9",
          "34.0",
          "34.1",
          "34.1",
          "34.2",
          "34.3",
          "34.4",
          "34.4",
          "34.5",
          "34.6",
          "34.7",
          "34.8",
          "34.8",
          "34.9",
          "35.0",
          "35.1",
          "35.1",
          "35.2",
          "35.3",
          "35.3",
          "35.3",
          "35.3",
          "35.3",
          "35.4",
          "35.4",
          "35.4",
          "35.5",
          "35.6",
          "35.6",
          "35.7",
          "35.7",
          "35.7",
          "35.7",
          "35.7",
          "35.7",
          "35.7",
          "35.7",
          "35.6",
          "35.6",
          "35.5",
          "35.4",
          "35.3",
          "35.2",
          "35.2",
          "35.1",
          "35.0",
          "34.9",
          "34.9",
          "34.9",
          "34.8",
          "34.7",
          "34.7",
          "34.6",
          "34.6",
          "34.6",
          "34.5",
          "34.5",
          "34.5",
          "34.4",
          "34.4",
          "34.4",
          "34.3",
          "34.3",
          "34.3",
          "34.2",
          "34.2",
          "34.2",
          "34.2",
          "34.1",
          "34.1",
          "34.1",
          "34.1",
          "34.0",
          "34.0",
          "34.0",
          "33.9",
          "33.9",
          "34.0",
          "33.9",
          "33.9",
          "33.9",
          "33.9",
          "33.9",
          "33.9",
          "33.9",
          "33.8",
          "33.8",
          "33.9",
          "33.8",
          "33.8",
          "33.8",
          "33.8",
          "33.7",
          "33.7",
          "33.7",
          "33.6",
          "33.7",
          "33.7",
          "33.6",
          "33.6",
          "33.6",
          "33.6",
          "33.6",
          "33.5",
          "33.6",
          "33.5",
          "33.6",
          "33.6",
          "33.5",
          "33.6",
          "33.4",
          "33.5",
          "33.3",
          "32.6",
          "31.8",
          "31.5",
          "31.2",
          "30.7",
          "30.7",
          "30.1",
          "29.9",
          "29.7",
          "29.4",
          "29.3",
          "29.2",
          "29.3",
          "29.1",
          "29.2",
          "29.2",
          "29.4",
          "29.2",
          "29.6",
          "29.4",
          "29.4",
          "29.7",
          "29.6",
          "29.6",
          "29.8",
          "29.8",
          "30.0",
          "30.1",
          "30.1",
          "30.2",
          "30.1",
          "30.1",
          "30.4",
          "30.3",
          "30.3",
          "30.4",
          "30.4",
          "30.2",
          "30.3",
          "30.6",
          "30.6",
          "30.6",
          "30.7",
          "30.7",
          "30.6",
          "30.8",
          "30.8",
          "30.5",
          "30.6",
          "30.8",
          "30.7",
          "30.8",
          "30.9",
          "30.9",
          "30.8",
          "31.0",
          "30.9",
          "31.0",
          "30.9",
          "30.8",
          "30.9",
          "30.9",
          "30.8",
          "30.8",
          "30.6",
          "30.4",
          "30.5",
          "30.4",
          "30.4",
          "30.4",
          "30.3",
          "30.3",
          "30.2",
          "30.1",
          "31.3",
          "31.7",
          "31.9",
          "32.0",
          "32.1"
         ],
         "xaxis": "x",
         "yaxis": "y"
        }
       ],
       "layout": {
        "barmode": "relative",
        "legend": {
         "tracegroupgap": 0
        },
        "template": {
         "data": {
          "bar": [
           {
            "error_x": {
             "color": "#2a3f5f"
            },
            "error_y": {
             "color": "#2a3f5f"
            },
            "marker": {
             "line": {
              "color": "#E5ECF6",
              "width": 0.5
             },
             "pattern": {
              "fillmode": "overlay",
              "size": 10,
              "solidity": 0.2
             }
            },
            "type": "bar"
           }
          ],
          "barpolar": [
           {
            "marker": {
             "line": {
              "color": "#E5ECF6",
              "width": 0.5
             },
             "pattern": {
              "fillmode": "overlay",
              "size": 10,
              "solidity": 0.2
             }
            },
            "type": "barpolar"
           }
          ],
          "carpet": [
           {
            "aaxis": {
             "endlinecolor": "#2a3f5f",
             "gridcolor": "white",
             "linecolor": "white",
             "minorgridcolor": "white",
             "startlinecolor": "#2a3f5f"
            },
            "baxis": {
             "endlinecolor": "#2a3f5f",
             "gridcolor": "white",
             "linecolor": "white",
             "minorgridcolor": "white",
             "startlinecolor": "#2a3f5f"
            },
            "type": "carpet"
           }
          ],
          "choropleth": [
           {
            "colorbar": {
             "outlinewidth": 0,
             "ticks": ""
            },
            "type": "choropleth"
           }
          ],
          "contour": [
           {
            "colorbar": {
             "outlinewidth": 0,
             "ticks": ""
            },
            "colorscale": [
             [
              0,
              "#0d0887"
             ],
             [
              0.1111111111111111,
              "#46039f"
             ],
             [
              0.2222222222222222,
              "#7201a8"
             ],
             [
              0.3333333333333333,
              "#9c179e"
             ],
             [
              0.4444444444444444,
              "#bd3786"
             ],
             [
              0.5555555555555556,
              "#d8576b"
             ],
             [
              0.6666666666666666,
              "#ed7953"
             ],
             [
              0.7777777777777778,
              "#fb9f3a"
             ],
             [
              0.8888888888888888,
              "#fdca26"
             ],
             [
              1,
              "#f0f921"
             ]
            ],
            "type": "contour"
           }
          ],
          "contourcarpet": [
           {
            "colorbar": {
             "outlinewidth": 0,
             "ticks": ""
            },
            "type": "contourcarpet"
           }
          ],
          "heatmap": [
           {
            "colorbar": {
             "outlinewidth": 0,
             "ticks": ""
            },
            "colorscale": [
             [
              0,
              "#0d0887"
             ],
             [
              0.1111111111111111,
              "#46039f"
             ],
             [
              0.2222222222222222,
              "#7201a8"
             ],
             [
              0.3333333333333333,
              "#9c179e"
             ],
             [
              0.4444444444444444,
              "#bd3786"
             ],
             [
              0.5555555555555556,
              "#d8576b"
             ],
             [
              0.6666666666666666,
              "#ed7953"
             ],
             [
              0.7777777777777778,
              "#fb9f3a"
             ],
             [
              0.8888888888888888,
              "#fdca26"
             ],
             [
              1,
              "#f0f921"
             ]
            ],
            "type": "heatmap"
           }
          ],
          "heatmapgl": [
           {
            "colorbar": {
             "outlinewidth": 0,
             "ticks": ""
            },
            "colorscale": [
             [
              0,
              "#0d0887"
             ],
             [
              0.1111111111111111,
              "#46039f"
             ],
             [
              0.2222222222222222,
              "#7201a8"
             ],
             [
              0.3333333333333333,
              "#9c179e"
             ],
             [
              0.4444444444444444,
              "#bd3786"
             ],
             [
              0.5555555555555556,
              "#d8576b"
             ],
             [
              0.6666666666666666,
              "#ed7953"
             ],
             [
              0.7777777777777778,
              "#fb9f3a"
             ],
             [
              0.8888888888888888,
              "#fdca26"
             ],
             [
              1,
              "#f0f921"
             ]
            ],
            "type": "heatmapgl"
           }
          ],
          "histogram": [
           {
            "marker": {
             "pattern": {
              "fillmode": "overlay",
              "size": 10,
              "solidity": 0.2
             }
            },
            "type": "histogram"
           }
          ],
          "histogram2d": [
           {
            "colorbar": {
             "outlinewidth": 0,
             "ticks": ""
            },
            "colorscale": [
             [
              0,
              "#0d0887"
             ],
             [
              0.1111111111111111,
              "#46039f"
             ],
             [
              0.2222222222222222,
              "#7201a8"
             ],
             [
              0.3333333333333333,
              "#9c179e"
             ],
             [
              0.4444444444444444,
              "#bd3786"
             ],
             [
              0.5555555555555556,
              "#d8576b"
             ],
             [
              0.6666666666666666,
              "#ed7953"
             ],
             [
              0.7777777777777778,
              "#fb9f3a"
             ],
             [
              0.8888888888888888,
              "#fdca26"
             ],
             [
              1,
              "#f0f921"
             ]
            ],
            "type": "histogram2d"
           }
          ],
          "histogram2dcontour": [
           {
            "colorbar": {
             "outlinewidth": 0,
             "ticks": ""
            },
            "colorscale": [
             [
              0,
              "#0d0887"
             ],
             [
              0.1111111111111111,
              "#46039f"
             ],
             [
              0.2222222222222222,
              "#7201a8"
             ],
             [
              0.3333333333333333,
              "#9c179e"
             ],
             [
              0.4444444444444444,
              "#bd3786"
             ],
             [
              0.5555555555555556,
              "#d8576b"
             ],
             [
              0.6666666666666666,
              "#ed7953"
             ],
             [
              0.7777777777777778,
              "#fb9f3a"
             ],
             [
              0.8888888888888888,
              "#fdca26"
             ],
             [
              1,
              "#f0f921"
             ]
            ],
            "type": "histogram2dcontour"
           }
          ],
          "mesh3d": [
           {
            "colorbar": {
             "outlinewidth": 0,
             "ticks": ""
            },
            "type": "mesh3d"
           }
          ],
          "parcoords": [
           {
            "line": {
             "colorbar": {
              "outlinewidth": 0,
              "ticks": ""
             }
            },
            "type": "parcoords"
           }
          ],
          "pie": [
           {
            "automargin": true,
            "type": "pie"
           }
          ],
          "scatter": [
           {
            "fillpattern": {
             "fillmode": "overlay",
             "size": 10,
             "solidity": 0.2
            },
            "type": "scatter"
           }
          ],
          "scatter3d": [
           {
            "line": {
             "colorbar": {
              "outlinewidth": 0,
              "ticks": ""
             }
            },
            "marker": {
             "colorbar": {
              "outlinewidth": 0,
              "ticks": ""
             }
            },
            "type": "scatter3d"
           }
          ],
          "scattercarpet": [
           {
            "marker": {
             "colorbar": {
              "outlinewidth": 0,
              "ticks": ""
             }
            },
            "type": "scattercarpet"
           }
          ],
          "scattergeo": [
           {
            "marker": {
             "colorbar": {
              "outlinewidth": 0,
              "ticks": ""
             }
            },
            "type": "scattergeo"
           }
          ],
          "scattergl": [
           {
            "marker": {
             "colorbar": {
              "outlinewidth": 0,
              "ticks": ""
             }
            },
            "type": "scattergl"
           }
          ],
          "scattermapbox": [
           {
            "marker": {
             "colorbar": {
              "outlinewidth": 0,
              "ticks": ""
             }
            },
            "type": "scattermapbox"
           }
          ],
          "scatterpolar": [
           {
            "marker": {
             "colorbar": {
              "outlinewidth": 0,
              "ticks": ""
             }
            },
            "type": "scatterpolar"
           }
          ],
          "scatterpolargl": [
           {
            "marker": {
             "colorbar": {
              "outlinewidth": 0,
              "ticks": ""
             }
            },
            "type": "scatterpolargl"
           }
          ],
          "scatterternary": [
           {
            "marker": {
             "colorbar": {
              "outlinewidth": 0,
              "ticks": ""
             }
            },
            "type": "scatterternary"
           }
          ],
          "surface": [
           {
            "colorbar": {
             "outlinewidth": 0,
             "ticks": ""
            },
            "colorscale": [
             [
              0,
              "#0d0887"
             ],
             [
              0.1111111111111111,
              "#46039f"
             ],
             [
              0.2222222222222222,
              "#7201a8"
             ],
             [
              0.3333333333333333,
              "#9c179e"
             ],
             [
              0.4444444444444444,
              "#bd3786"
             ],
             [
              0.5555555555555556,
              "#d8576b"
             ],
             [
              0.6666666666666666,
              "#ed7953"
             ],
             [
              0.7777777777777778,
              "#fb9f3a"
             ],
             [
              0.8888888888888888,
              "#fdca26"
             ],
             [
              1,
              "#f0f921"
             ]
            ],
            "type": "surface"
           }
          ],
          "table": [
           {
            "cells": {
             "fill": {
              "color": "#EBF0F8"
             },
             "line": {
              "color": "white"
             }
            },
            "header": {
             "fill": {
              "color": "#C8D4E3"
             },
             "line": {
              "color": "white"
             }
            },
            "type": "table"
           }
          ]
         },
         "layout": {
          "annotationdefaults": {
           "arrowcolor": "#2a3f5f",
           "arrowhead": 0,
           "arrowwidth": 1
          },
          "autotypenumbers": "strict",
          "coloraxis": {
           "colorbar": {
            "outlinewidth": 0,
            "ticks": ""
           }
          },
          "colorscale": {
           "diverging": [
            [
             0,
             "#8e0152"
            ],
            [
             0.1,
             "#c51b7d"
            ],
            [
             0.2,
             "#de77ae"
            ],
            [
             0.3,
             "#f1b6da"
            ],
            [
             0.4,
             "#fde0ef"
            ],
            [
             0.5,
             "#f7f7f7"
            ],
            [
             0.6,
             "#e6f5d0"
            ],
            [
             0.7,
             "#b8e186"
            ],
            [
             0.8,
             "#7fbc41"
            ],
            [
             0.9,
             "#4d9221"
            ],
            [
             1,
             "#276419"
            ]
           ],
           "sequential": [
            [
             0,
             "#0d0887"
            ],
            [
             0.1111111111111111,
             "#46039f"
            ],
            [
             0.2222222222222222,
             "#7201a8"
            ],
            [
             0.3333333333333333,
             "#9c179e"
            ],
            [
             0.4444444444444444,
             "#bd3786"
            ],
            [
             0.5555555555555556,
             "#d8576b"
            ],
            [
             0.6666666666666666,
             "#ed7953"
            ],
            [
             0.7777777777777778,
             "#fb9f3a"
            ],
            [
             0.8888888888888888,
             "#fdca26"
            ],
            [
             1,
             "#f0f921"
            ]
           ],
           "sequentialminus": [
            [
             0,
             "#0d0887"
            ],
            [
             0.1111111111111111,
             "#46039f"
            ],
            [
             0.2222222222222222,
             "#7201a8"
            ],
            [
             0.3333333333333333,
             "#9c179e"
            ],
            [
             0.4444444444444444,
             "#bd3786"
            ],
            [
             0.5555555555555556,
             "#d8576b"
            ],
            [
             0.6666666666666666,
             "#ed7953"
            ],
            [
             0.7777777777777778,
             "#fb9f3a"
            ],
            [
             0.8888888888888888,
             "#fdca26"
            ],
            [
             1,
             "#f0f921"
            ]
           ]
          },
          "colorway": [
           "#636efa",
           "#EF553B",
           "#00cc96",
           "#ab63fa",
           "#FFA15A",
           "#19d3f3",
           "#FF6692",
           "#B6E880",
           "#FF97FF",
           "#FECB52"
          ],
          "font": {
           "color": "#2a3f5f"
          },
          "geo": {
           "bgcolor": "white",
           "lakecolor": "white",
           "landcolor": "#E5ECF6",
           "showlakes": true,
           "showland": true,
           "subunitcolor": "white"
          },
          "hoverlabel": {
           "align": "left"
          },
          "hovermode": "closest",
          "mapbox": {
           "style": "light"
          },
          "paper_bgcolor": "white",
          "plot_bgcolor": "#E5ECF6",
          "polar": {
           "angularaxis": {
            "gridcolor": "white",
            "linecolor": "white",
            "ticks": ""
           },
           "bgcolor": "#E5ECF6",
           "radialaxis": {
            "gridcolor": "white",
            "linecolor": "white",
            "ticks": ""
           }
          },
          "scene": {
           "xaxis": {
            "backgroundcolor": "#E5ECF6",
            "gridcolor": "white",
            "gridwidth": 2,
            "linecolor": "white",
            "showbackground": true,
            "ticks": "",
            "zerolinecolor": "white"
           },
           "yaxis": {
            "backgroundcolor": "#E5ECF6",
            "gridcolor": "white",
            "gridwidth": 2,
            "linecolor": "white",
            "showbackground": true,
            "ticks": "",
            "zerolinecolor": "white"
           },
           "zaxis": {
            "backgroundcolor": "#E5ECF6",
            "gridcolor": "white",
            "gridwidth": 2,
            "linecolor": "white",
            "showbackground": true,
            "ticks": "",
            "zerolinecolor": "white"
           }
          },
          "shapedefaults": {
           "line": {
            "color": "#2a3f5f"
           }
          },
          "ternary": {
           "aaxis": {
            "gridcolor": "white",
            "linecolor": "white",
            "ticks": ""
           },
           "baxis": {
            "gridcolor": "white",
            "linecolor": "white",
            "ticks": ""
           },
           "bgcolor": "#E5ECF6",
           "caxis": {
            "gridcolor": "white",
            "linecolor": "white",
            "ticks": ""
           }
          },
          "title": {
           "x": 0.05
          },
          "xaxis": {
           "automargin": true,
           "gridcolor": "white",
           "linecolor": "white",
           "ticks": "",
           "title": {
            "standoff": 15
           },
           "zerolinecolor": "white",
           "zerolinewidth": 2
          },
          "yaxis": {
           "automargin": true,
           "gridcolor": "white",
           "linecolor": "white",
           "ticks": "",
           "title": {
            "standoff": 15
           },
           "zerolinecolor": "white",
           "zerolinewidth": 2
          }
         }
        },
        "title": {
         "text": "Temperature Distribution"
        },
        "xaxis": {
         "anchor": "y",
         "domain": [
          0,
          1
         ],
         "title": {
          "text": "Temperature (°C)"
         }
        },
        "yaxis": {
         "anchor": "x",
         "domain": [
          0,
          1
         ],
         "title": {
          "text": "count"
         }
        }
       }
      }
     },
     "metadata": {},
     "output_type": "display_data"
    },
    {
     "data": {
      "application/vnd.plotly.v1+json": {
       "config": {
        "plotlyServerURL": "https://plot.ly"
       },
       "data": [
        {
         "alignmentgroup": "True",
         "bingroup": "x",
         "hovertemplate": "Air Quality=%{x}<br>count=%{y}<extra></extra>",
         "legendgroup": "",
         "marker": {
          "color": "#636efa",
          "pattern": {
           "shape": ""
          }
         },
         "name": "",
         "nbinsx": 20,
         "offsetgroup": "",
         "orientation": "v",
         "showlegend": false,
         "type": "histogram",
         "x": [
          "69.1",
          "61.6",
          "59.5",
          "59.8",
          "60.2",
          "60.2",
          "60.4",
          "60.6",
          "60.9",
          "60.8",
          "61.0",
          "60.8",
          "60.7",
          "60.7",
          "61.3",
          "61.5",
          "62.2",
          "62.5",
          "63.0",
          "63.7",
          "64.9",
          "65.9",
          "66.3",
          "67.0",
          "67.4",
          "67.9",
          "68.4",
          "68.5",
          "69.2",
          "69.6",
          "69.8",
          "69.7",
          "70.2",
          "70.4",
          "70.1",
          "70.5",
          "70.7",
          "70.9",
          "71.1",
          "71.2",
          "71.2",
          "71.4",
          "71.5",
          "71.2",
          "71.7",
          "71.8",
          "71.8",
          "72.1",
          "72.2",
          "72.2",
          "72.4",
          "72.4",
          "72.8",
          "72.8",
          "73.2",
          "73.1",
          "73.1",
          "73.3",
          "73.3",
          "73.1",
          "73.0",
          "73.2",
          "73.2",
          "73.3",
          "73.4",
          "73.5",
          "73.5",
          "73.7",
          "73.6",
          "73.6",
          "73.8",
          "73.9",
          "74.4",
          "74.4",
          "74.7",
          "74.6",
          "74.8",
          "74.9",
          "74.9",
          "75.0",
          "75.3",
          "75.0",
          "72.2",
          "70.2",
          "69.1",
          "68.1",
          "67.9",
          "67.0",
          "66.3",
          "65.3",
          "64.0",
          "62.7",
          "61.8",
          "60.7",
          "59.5",
          "59.0",
          "58.6",
          "58.3",
          "58.1",
          "58.0",
          "57.9",
          "58.7",
          "59.6",
          "59.9",
          "60.4",
          "59.9",
          "59.9",
          "60.3",
          "59.9",
          "59.7",
          "60.7",
          "60.6",
          "61.0",
          "60.9",
          "61.6",
          "61.1",
          "61.0",
          "62.1",
          "60.8",
          "60.2",
          "59.3",
          "59.0",
          "59.1",
          "60.0",
          "59.0",
          "60.7",
          "60.5",
          "60.9",
          "61.6",
          "61.7",
          "61.7",
          "61.9",
          "61.5",
          "61.9",
          "61.6",
          "62.2",
          "61.7",
          "61.6",
          "61.8",
          "61.4",
          "61.4",
          "61.3",
          "61.4",
          "61.8",
          "62.2",
          "61.9",
          "62.5",
          "62.0",
          "62.1",
          "62.1",
          "62.4",
          "62.7",
          "62.5",
          "62.6",
          "62.3",
          "62.5",
          "62.6",
          "62.5",
          "63.8",
          "64.4",
          "65.0",
          "65.8",
          "66.3",
          "66.9",
          "67.6",
          "63.2",
          "59.6",
          "60.2",
          "60.2",
          "60.1",
          "60.3",
          "60.3",
          "60.2",
          "60.3",
          "60.7",
          "60.8",
          "60.2",
          "60.6",
          "60.7",
          "61.0",
          "60.7",
          "61.1",
          "61.0",
          "62.5",
          "63.2",
          "64.0",
          "64.7",
          "64.7",
          "65.0",
          "65.9",
          "66.2",
          "66.3",
          "66.4",
          "66.7",
          "67.5",
          "67.1",
          "67.1",
          "67.5",
          "67.7",
          "68.3",
          "68.7",
          "68.8",
          "68.7",
          "69.2",
          "69.2",
          "69.6",
          "69.4",
          "69.7",
          "70.0",
          "70.0",
          "70.1",
          "70.2",
          "70.3",
          "70.6",
          "70.8",
          "70.7",
          "70.9",
          "71.0",
          "70.7",
          "71.1",
          "71.4",
          "72.1",
          "72.3",
          "72.7",
          "72.7",
          "72.8",
          "73.0",
          "72.9",
          "73.0",
          "73.1",
          "73.3",
          "73.0",
          "73.3",
          "73.5",
          "73.5",
          "73.6",
          "73.5",
          "73.3",
          "73.4",
          "73.4",
          "73.9",
          "73.7",
          "74.2",
          "74.5",
          "74.4",
          "74.7",
          "75.0",
          "74.8",
          "74.9",
          "75.3",
          "75.3",
          "75.2",
          "70.7",
          "69.4",
          "68.3",
          "67.5",
          "66.6",
          "66.0",
          "65.3",
          "64.1",
          "63.0",
          "62.1",
          "60.8",
          "60.4",
          "59.7",
          "58.8",
          "58.6",
          "58.2",
          "57.8",
          "57.7",
          "57.3",
          "57.6",
          "57.8",
          "58.4",
          "58.0",
          "57.8",
          "58.4",
          "58.1",
          "58.2",
          "59.0",
          "59.1",
          "59.4",
          "59.3",
          "58.8",
          "58.2",
          "58.5",
          "58.6",
          "58.4",
          "58.8",
          "58.2",
          "57.9",
          "58.2",
          "57.8",
          "58.4",
          "59.2",
          "59.4",
          "58.8",
          "59.5",
          "60.1",
          "58.4",
          "58.9",
          "59.6",
          "59.0",
          "59.8",
          "59.6",
          "60.0",
          "59.4",
          "59.6",
          "59.4",
          "59.6",
          "59.6",
          "59.7",
          "59.6",
          "59.8",
          "59.7",
          "59.7",
          "59.6",
          "59.7",
          "59.8",
          "60.0",
          "60.1",
          "60.1",
          "60.1",
          "59.2",
          "59.5",
          "60.5",
          "60.6",
          "60.5",
          "61.0",
          "62.7",
          "63.1",
          "63.5",
          "64.4",
          "65.0",
          "66.3",
          "66.7",
          "67.6",
          "68.0",
          "68.6",
          "69.1",
          "69.3",
          "69.4",
          "69.6",
          "69.7",
          "69.8",
          "70.5",
          "70.9",
          "71.2",
          "71.3",
          "71.3",
          "71.6",
          "71.5",
          "71.9",
          "72.1",
          "71.8",
          "71.9",
          "71.8",
          "72.5",
          "72.2",
          "72.5",
          "72.5",
          "72.9",
          "72.6",
          "72.7",
          "72.7",
          "73.1",
          "73.2",
          "73.3",
          "73.4",
          "73.5",
          "73.1",
          "73.4",
          "73.5",
          "73.3",
          "73.5",
          "73.5",
          "73.2",
          "73.3",
          "73.6",
          "73.7",
          "73.7",
          "73.9",
          "73.8",
          "74.0",
          "74.2",
          "74.3",
          "74.2",
          "74.3",
          "74.3",
          "74.4",
          "74.5",
          "74.7",
          "74.9",
          "75.0",
          "75.0",
          "73.7",
          "70.3",
          "69.3",
          "68.1",
          "68.0",
          "67.1",
          "66.4",
          "65.9",
          "64.8",
          "63.8",
          "62.2",
          "61.6",
          "60.7",
          "60.1",
          "59.4",
          "59.4",
          "59.0",
          "58.5",
          "59.0",
          "58.3",
          "58.0",
          "57.9",
          "57.7",
          "58.2",
          "58.5",
          "59.0",
          "59.2",
          "59.0",
          "59.6",
          "59.9",
          "59.1",
          "58.8",
          "58.9",
          "58.5",
          "59.2",
          "59.1",
          "59.2",
          "59.7",
          "59.7",
          "59.1",
          "59.5",
          "58.4",
          "57.9",
          "58.9",
          "58.6",
          "58.5",
          "59.5",
          "58.8",
          "58.9",
          "58.8",
          "58.9",
          "58.9",
          "58.8",
          "59.7",
          "58.8",
          "58.6",
          "59.5",
          "58.9",
          "58.7",
          "58.8",
          "58.5",
          "59.0",
          "58.6",
          "59.5",
          "59.4",
          "59.1",
          "58.3",
          "58.3",
          "59.2",
          "59.4",
          "59.4",
          "58.7",
          "59.1",
          "59.9",
          "60.1",
          "59.9",
          "60.1",
          "61.3",
          "61.8",
          "62.4",
          "64.0",
          "64.3",
          "64.9",
          "65.2",
          "65.3",
          "65.8",
          "65.9",
          "66.1",
          "66.3",
          "66.5",
          "67.0",
          "67.0",
          "67.1",
          "67.4",
          "67.8",
          "67.8",
          "67.9",
          "67.9",
          "68.0",
          "67.5",
          "68.0",
          "67.9",
          "67.8",
          "67.8",
          "67.9",
          "68.2",
          "68.2",
          "68.4",
          "68.3",
          "68.5",
          "68.6",
          "68.7",
          "68.9",
          "69.0",
          "69.3",
          "69.6",
          "69.9",
          "70.4",
          "70.4",
          "70.6",
          "70.8",
          "70.8",
          "70.7",
          "70.7",
          "70.8",
          "71.1",
          "71.3",
          "71.3",
          "71.2",
          "71.4",
          "71.5",
          "71.6",
          "71.5",
          "71.9",
          "72.1",
          "72.2",
          "72.4",
          "72.9",
          "73.0",
          "73.1",
          "73.4",
          "73.6",
          "73.9",
          "74.0",
          "71.6",
          "69.5",
          "68.3",
          "67.8",
          "67.3",
          "66.6",
          "65.7",
          "65.1",
          "63.7",
          "62.5",
          "62.0",
          "60.7",
          "59.9",
          "59.5",
          "58.7",
          "58.3",
          "58.2",
          "58.1",
          "57.6",
          "57.7",
          "58.5",
          "58.1",
          "59.4",
          "59.7",
          "59.2",
          "59.9",
          "60.1",
          "60.3",
          "60.4",
          "60.8",
          "60.0",
          "60.2",
          "60.7",
          "60.8",
          "60.5",
          "61.5",
          "61.0",
          "61.4",
          "61.8",
          "61.6",
          "60.5",
          "61.4",
          "61.2",
          "60.3",
          "61.6",
          "61.4",
          "61.2",
          "61.6",
          "61.8",
          "61.7",
          "61.5",
          "61.0",
          "60.1",
          "59.5",
          "61.1",
          "61.0",
          "60.8",
          "60.8",
          "61.1",
          "61.1",
          "60.7",
          "60.5",
          "60.2",
          "60.5",
          "60.2",
          "59.8",
          "59.8",
          "59.5",
          "59.3",
          "59.6",
          "59.4",
          "59.4",
          "59.8",
          "59.9",
          "59.9",
          "60.1",
          "60.1",
          "61.2",
          "61.5",
          "61.4",
          "61.9",
          "62.1",
          "62.6",
          "62.7",
          "63.6",
          "63.3",
          "64.0",
          "64.6",
          "64.3",
          "65.4",
          "65.5",
          "65.7",
          "65.6",
          "65.6",
          "65.6",
          "66.5",
          "66.2",
          "66.5",
          "67.1",
          "67.5",
          "67.7",
          "68.2",
          "68.1",
          "68.5",
          "69.1",
          "68.9",
          "69.3",
          "69.6",
          "69.7",
          "70.0",
          "69.9",
          "69.9",
          "70.0",
          "70.2",
          "70.7",
          "70.9",
          "71.0",
          "71.4",
          "71.3",
          "71.4",
          "71.3",
          "71.6",
          "71.8",
          "71.5",
          "71.8",
          "72.2",
          "72.2",
          "72.2",
          "72.2",
          "72.7",
          "72.6",
          "72.8",
          "73.0",
          "73.2",
          "73.1",
          "73.5",
          "73.7",
          "73.7",
          "73.9",
          "74.0",
          "74.1",
          "74.1",
          "74.3",
          "74.1",
          "71.6",
          "69.2",
          "68.8",
          "68.0",
          "67.0",
          "66.5",
          "65.8",
          "64.5",
          "63.7",
          "62.7",
          "61.6",
          "60.8",
          "60.1",
          "59.6",
          "59.4",
          "59.2",
          "58.9",
          "58.9",
          "58.9",
          "58.4",
          "58.2",
          "58.1",
          "58.1",
          "58.7",
          "59.2",
          "58.6",
          "59.1",
          "59.5",
          "52.5",
          "52.2",
          "53.1",
          "50.6",
          "49.5",
          "50.6",
          "51.3",
          "51.5",
          "51.2",
          "50.9",
          "51.4",
          "50.4",
          "49.7",
          "49.3",
          "50.1",
          "51.1",
          "50.3",
          "50.9",
          "50.7",
          "49.6",
          "49.0",
          "49.8",
          "49.9",
          "49.9",
          "49.3",
          "49.7",
          "48.6",
          "48.0",
          "49.0",
          "49.1",
          "49.0",
          "49.3",
          "48.5",
          "47.4",
          "48.1",
          "48.5",
          "48.2",
          "48.4",
          "48.0",
          "48.4",
          "49.3",
          "49.4",
          "49.2",
          "49.3",
          "48.9",
          "50.0",
          "50.0",
          "48.2",
          "47.8",
          "48.3",
          "48.9",
          "48.9",
          "49.3",
          "49.7",
          "50.4",
          "50.5",
          "51.0",
          "51.1",
          "52.1",
          "52.7",
          "53.2",
          "53.4",
          "53.7",
          "53.5",
          "53.7",
          "53.8",
          "54.0",
          "54.0",
          "54.6",
          "54.5",
          "54.5",
          "54.5",
          "55.2",
          "55.5",
          "55.7",
          "55.7",
          "56.2",
          "56.5",
          "56.9",
          "56.6",
          "56.9",
          "57.4",
          "57.3",
          "57.0",
          "57.2",
          "57.8",
          "58.3",
          "58.5",
          "58.8",
          "58.8",
          "59.0",
          "58.5",
          "58.5",
          "58.7",
          "58.9",
          "58.7",
          "58.6",
          "58.9",
          "58.9",
          "58.9",
          "58.7",
          "58.6",
          "58.8",
          "58.9",
          "58.7",
          "58.9",
          "58.7",
          "59.0",
          "59.0",
          "59.2",
          "59.6",
          "59.5",
          "59.9",
          "59.6",
          "59.7",
          "59.9",
          "60.0",
          "60.2",
          "60.4",
          "60.1",
          "60.2",
          "60.3",
          "60.3",
          "60.4",
          "60.8",
          "60.9",
          "61.2",
          "61.2",
          "61.3",
          "61.7",
          "61.4",
          "61.3",
          "61.3",
          "61.2",
          "60.6",
          "60.4",
          "59.9",
          "59.7",
          "59.3",
          "58.8",
          "58.2",
          "57.8",
          "57.4",
          "57.2",
          "56.6",
          "56.7",
          "56.5",
          "56.4",
          "56.0",
          "55.7",
          "55.0",
          "54.3",
          "53.9",
          "53.8",
          "53.7",
          "53.6",
          "53.5",
          "53.4",
          "53.1",
          "53.0",
          "52.4",
          "52.1",
          "51.6",
          "51.2",
          "50.6",
          "50.2",
          "49.9",
          "49.4",
          "48.9",
          "48.7",
          "48.4",
          "47.9",
          "47.7",
          "47.6",
          "47.5",
          "47.5",
          "47.4",
          "47.2",
          "47.2",
          "47.1",
          "47.0",
          "47.0",
          "47.1",
          "47.3",
          "47.6",
          "47.9",
          "48.0",
          "48.5",
          "48.8",
          "49.1",
          "49.6",
          "49.8",
          "50.2",
          "50.5",
          "50.7",
          "50.9",
          "51.2",
          "51.3",
          "51.8",
          "52.1",
          "52.4",
          "52.5",
          "52.8",
          "53.2",
          "53.3",
          "53.5",
          "53.6",
          "53.7",
          "53.9",
          "54.0",
          "54.2",
          "54.3",
          "54.5",
          "54.8",
          "54.6",
          "54.8",
          "54.7",
          "54.9",
          "55.1",
          "55.0",
          "55.1",
          "55.1",
          "55.1",
          "55.1",
          "55.1",
          "55.3",
          "55.5",
          "55.4",
          "55.8",
          "56.3",
          "56.4",
          "56.7",
          "56.7",
          "56.7",
          "56.8",
          "56.9",
          "56.7",
          "56.7",
          "56.9",
          "56.7",
          "56.7",
          "56.8",
          "56.7",
          "56.8",
          "56.9",
          "56.7",
          "56.8",
          "56.9",
          "56.7",
          "56.8",
          "57.0",
          "57.1",
          "57.2",
          "57.3",
          "57.2",
          "57.5",
          "57.5",
          "57.7",
          "58.0",
          "58.0",
          "58.3",
          "58.1",
          "58.3",
          "58.5",
          "58.7",
          "58.6",
          "58.7",
          "58.6",
          "59.0",
          "59.0",
          "59.0",
          "58.8",
          "59.0",
          "59.0",
          "58.8",
          "59.1",
          "58.6",
          "58.2",
          "57.7",
          "57.6",
          "57.4",
          "57.2",
          "57.1",
          "56.8",
          "56.5",
          "56.2",
          "56.0",
          "55.6",
          "55.2",
          "54.9",
          "54.4",
          "54.3",
          "53.6",
          "53.4",
          "52.6",
          "52.2",
          "51.8",
          "51.5",
          "51.2",
          "50.8",
          "50.7",
          "50.4",
          "50.3",
          "49.9",
          "49.4",
          "49.1",
          "48.7",
          "48.5",
          "48.3",
          "48.1",
          "48.0",
          "47.8",
          "47.8",
          "47.8",
          "47.7",
          "47.7",
          "47.7",
          "47.7",
          "47.6",
          "47.6",
          "47.6",
          "47.7",
          "47.4",
          "47.4",
          "47.5",
          "47.3",
          "47.2",
          "47.1",
          "46.9",
          "46.7",
          "46.9",
          "46.9",
          "47.1",
          "47.4",
          "47.8",
          "48.2",
          "48.6",
          "49.1",
          "49.9",
          "50.2",
          "50.8",
          "51.0",
          "51.3",
          "51.6",
          "52.3",
          "52.4",
          "52.7",
          "52.7",
          "53.1",
          "52.9",
          "53.0",
          "53.1",
          "53.3",
          "53.3",
          "53.3",
          "53.3",
          "53.3",
          "53.3",
          "53.6",
          "53.7",
          "54.1",
          "54.1",
          "54.1",
          "54.1",
          "54.2",
          "54.2",
          "54.2",
          "54.2",
          "54.1",
          "54.4",
          "54.4",
          "54.4",
          "54.6",
          "54.7",
          "54.8",
          "55.0",
          "55.3",
          "55.4",
          "55.6",
          "55.6",
          "55.7",
          "55.8",
          "55.9",
          "56.0",
          "56.1",
          "56.2",
          "56.4",
          "56.5",
          "56.4",
          "56.6",
          "56.6",
          "56.7",
          "56.7",
          "56.6",
          "57.0",
          "56.9",
          "57.5",
          "57.5",
          "57.5",
          "57.7",
          "57.8",
          "58.0",
          "58.0",
          "58.1",
          "57.1",
          "56.7",
          "57.1",
          "56.2",
          "55.2",
          "54.8",
          "53.0",
          "52.8",
          "51.8",
          "51.0",
          "50.2",
          "49.4",
          "48.9",
          "49.6",
          "50.5",
          "51.0",
          "51.4",
          "51.1",
          "51.7",
          "51.2",
          "51.6",
          "51.1",
          "51.4",
          "51.6",
          "51.8",
          "51.8",
          "52.1",
          "51.8",
          "51.8",
          "51.9",
          "51.8",
          "51.8",
          "52.0",
          "51.4",
          "51.5",
          "51.5",
          "51.2",
          "51.1",
          "51.7",
          "51.3",
          "50.6",
          "50.7",
          "50.9",
          "50.9",
          "50.8",
          "51.2",
          "50.7",
          "50.7",
          "51.2",
          "51.0",
          "50.5",
          "50.9",
          "50.6",
          "50.4",
          "50.2",
          "50.5",
          "49.9",
          "50.1",
          "49.6",
          "49.7",
          "50.1",
          "49.6",
          "49.5",
          "49.7",
          "49.6",
          "50.0",
          "50.3",
          "50.4",
          "50.4",
          "50.4",
          "50.6",
          "51.0",
          "51.1",
          "51.3",
          "51.2",
          "48.5",
          "49.2",
          "49.5",
          "50.2",
          "50.9"
         ],
         "xaxis": "x",
         "yaxis": "y"
        }
       ],
       "layout": {
        "barmode": "relative",
        "legend": {
         "tracegroupgap": 0
        },
        "template": {
         "data": {
          "bar": [
           {
            "error_x": {
             "color": "#2a3f5f"
            },
            "error_y": {
             "color": "#2a3f5f"
            },
            "marker": {
             "line": {
              "color": "#E5ECF6",
              "width": 0.5
             },
             "pattern": {
              "fillmode": "overlay",
              "size": 10,
              "solidity": 0.2
             }
            },
            "type": "bar"
           }
          ],
          "barpolar": [
           {
            "marker": {
             "line": {
              "color": "#E5ECF6",
              "width": 0.5
             },
             "pattern": {
              "fillmode": "overlay",
              "size": 10,
              "solidity": 0.2
             }
            },
            "type": "barpolar"
           }
          ],
          "carpet": [
           {
            "aaxis": {
             "endlinecolor": "#2a3f5f",
             "gridcolor": "white",
             "linecolor": "white",
             "minorgridcolor": "white",
             "startlinecolor": "#2a3f5f"
            },
            "baxis": {
             "endlinecolor": "#2a3f5f",
             "gridcolor": "white",
             "linecolor": "white",
             "minorgridcolor": "white",
             "startlinecolor": "#2a3f5f"
            },
            "type": "carpet"
           }
          ],
          "choropleth": [
           {
            "colorbar": {
             "outlinewidth": 0,
             "ticks": ""
            },
            "type": "choropleth"
           }
          ],
          "contour": [
           {
            "colorbar": {
             "outlinewidth": 0,
             "ticks": ""
            },
            "colorscale": [
             [
              0,
              "#0d0887"
             ],
             [
              0.1111111111111111,
              "#46039f"
             ],
             [
              0.2222222222222222,
              "#7201a8"
             ],
             [
              0.3333333333333333,
              "#9c179e"
             ],
             [
              0.4444444444444444,
              "#bd3786"
             ],
             [
              0.5555555555555556,
              "#d8576b"
             ],
             [
              0.6666666666666666,
              "#ed7953"
             ],
             [
              0.7777777777777778,
              "#fb9f3a"
             ],
             [
              0.8888888888888888,
              "#fdca26"
             ],
             [
              1,
              "#f0f921"
             ]
            ],
            "type": "contour"
           }
          ],
          "contourcarpet": [
           {
            "colorbar": {
             "outlinewidth": 0,
             "ticks": ""
            },
            "type": "contourcarpet"
           }
          ],
          "heatmap": [
           {
            "colorbar": {
             "outlinewidth": 0,
             "ticks": ""
            },
            "colorscale": [
             [
              0,
              "#0d0887"
             ],
             [
              0.1111111111111111,
              "#46039f"
             ],
             [
              0.2222222222222222,
              "#7201a8"
             ],
             [
              0.3333333333333333,
              "#9c179e"
             ],
             [
              0.4444444444444444,
              "#bd3786"
             ],
             [
              0.5555555555555556,
              "#d8576b"
             ],
             [
              0.6666666666666666,
              "#ed7953"
             ],
             [
              0.7777777777777778,
              "#fb9f3a"
             ],
             [
              0.8888888888888888,
              "#fdca26"
             ],
             [
              1,
              "#f0f921"
             ]
            ],
            "type": "heatmap"
           }
          ],
          "heatmapgl": [
           {
            "colorbar": {
             "outlinewidth": 0,
             "ticks": ""
            },
            "colorscale": [
             [
              0,
              "#0d0887"
             ],
             [
              0.1111111111111111,
              "#46039f"
             ],
             [
              0.2222222222222222,
              "#7201a8"
             ],
             [
              0.3333333333333333,
              "#9c179e"
             ],
             [
              0.4444444444444444,
              "#bd3786"
             ],
             [
              0.5555555555555556,
              "#d8576b"
             ],
             [
              0.6666666666666666,
              "#ed7953"
             ],
             [
              0.7777777777777778,
              "#fb9f3a"
             ],
             [
              0.8888888888888888,
              "#fdca26"
             ],
             [
              1,
              "#f0f921"
             ]
            ],
            "type": "heatmapgl"
           }
          ],
          "histogram": [
           {
            "marker": {
             "pattern": {
              "fillmode": "overlay",
              "size": 10,
              "solidity": 0.2
             }
            },
            "type": "histogram"
           }
          ],
          "histogram2d": [
           {
            "colorbar": {
             "outlinewidth": 0,
             "ticks": ""
            },
            "colorscale": [
             [
              0,
              "#0d0887"
             ],
             [
              0.1111111111111111,
              "#46039f"
             ],
             [
              0.2222222222222222,
              "#7201a8"
             ],
             [
              0.3333333333333333,
              "#9c179e"
             ],
             [
              0.4444444444444444,
              "#bd3786"
             ],
             [
              0.5555555555555556,
              "#d8576b"
             ],
             [
              0.6666666666666666,
              "#ed7953"
             ],
             [
              0.7777777777777778,
              "#fb9f3a"
             ],
             [
              0.8888888888888888,
              "#fdca26"
             ],
             [
              1,
              "#f0f921"
             ]
            ],
            "type": "histogram2d"
           }
          ],
          "histogram2dcontour": [
           {
            "colorbar": {
             "outlinewidth": 0,
             "ticks": ""
            },
            "colorscale": [
             [
              0,
              "#0d0887"
             ],
             [
              0.1111111111111111,
              "#46039f"
             ],
             [
              0.2222222222222222,
              "#7201a8"
             ],
             [
              0.3333333333333333,
              "#9c179e"
             ],
             [
              0.4444444444444444,
              "#bd3786"
             ],
             [
              0.5555555555555556,
              "#d8576b"
             ],
             [
              0.6666666666666666,
              "#ed7953"
             ],
             [
              0.7777777777777778,
              "#fb9f3a"
             ],
             [
              0.8888888888888888,
              "#fdca26"
             ],
             [
              1,
              "#f0f921"
             ]
            ],
            "type": "histogram2dcontour"
           }
          ],
          "mesh3d": [
           {
            "colorbar": {
             "outlinewidth": 0,
             "ticks": ""
            },
            "type": "mesh3d"
           }
          ],
          "parcoords": [
           {
            "line": {
             "colorbar": {
              "outlinewidth": 0,
              "ticks": ""
             }
            },
            "type": "parcoords"
           }
          ],
          "pie": [
           {
            "automargin": true,
            "type": "pie"
           }
          ],
          "scatter": [
           {
            "fillpattern": {
             "fillmode": "overlay",
             "size": 10,
             "solidity": 0.2
            },
            "type": "scatter"
           }
          ],
          "scatter3d": [
           {
            "line": {
             "colorbar": {
              "outlinewidth": 0,
              "ticks": ""
             }
            },
            "marker": {
             "colorbar": {
              "outlinewidth": 0,
              "ticks": ""
             }
            },
            "type": "scatter3d"
           }
          ],
          "scattercarpet": [
           {
            "marker": {
             "colorbar": {
              "outlinewidth": 0,
              "ticks": ""
             }
            },
            "type": "scattercarpet"
           }
          ],
          "scattergeo": [
           {
            "marker": {
             "colorbar": {
              "outlinewidth": 0,
              "ticks": ""
             }
            },
            "type": "scattergeo"
           }
          ],
          "scattergl": [
           {
            "marker": {
             "colorbar": {
              "outlinewidth": 0,
              "ticks": ""
             }
            },
            "type": "scattergl"
           }
          ],
          "scattermapbox": [
           {
            "marker": {
             "colorbar": {
              "outlinewidth": 0,
              "ticks": ""
             }
            },
            "type": "scattermapbox"
           }
          ],
          "scatterpolar": [
           {
            "marker": {
             "colorbar": {
              "outlinewidth": 0,
              "ticks": ""
             }
            },
            "type": "scatterpolar"
           }
          ],
          "scatterpolargl": [
           {
            "marker": {
             "colorbar": {
              "outlinewidth": 0,
              "ticks": ""
             }
            },
            "type": "scatterpolargl"
           }
          ],
          "scatterternary": [
           {
            "marker": {
             "colorbar": {
              "outlinewidth": 0,
              "ticks": ""
             }
            },
            "type": "scatterternary"
           }
          ],
          "surface": [
           {
            "colorbar": {
             "outlinewidth": 0,
             "ticks": ""
            },
            "colorscale": [
             [
              0,
              "#0d0887"
             ],
             [
              0.1111111111111111,
              "#46039f"
             ],
             [
              0.2222222222222222,
              "#7201a8"
             ],
             [
              0.3333333333333333,
              "#9c179e"
             ],
             [
              0.4444444444444444,
              "#bd3786"
             ],
             [
              0.5555555555555556,
              "#d8576b"
             ],
             [
              0.6666666666666666,
              "#ed7953"
             ],
             [
              0.7777777777777778,
              "#fb9f3a"
             ],
             [
              0.8888888888888888,
              "#fdca26"
             ],
             [
              1,
              "#f0f921"
             ]
            ],
            "type": "surface"
           }
          ],
          "table": [
           {
            "cells": {
             "fill": {
              "color": "#EBF0F8"
             },
             "line": {
              "color": "white"
             }
            },
            "header": {
             "fill": {
              "color": "#C8D4E3"
             },
             "line": {
              "color": "white"
             }
            },
            "type": "table"
           }
          ]
         },
         "layout": {
          "annotationdefaults": {
           "arrowcolor": "#2a3f5f",
           "arrowhead": 0,
           "arrowwidth": 1
          },
          "autotypenumbers": "strict",
          "coloraxis": {
           "colorbar": {
            "outlinewidth": 0,
            "ticks": ""
           }
          },
          "colorscale": {
           "diverging": [
            [
             0,
             "#8e0152"
            ],
            [
             0.1,
             "#c51b7d"
            ],
            [
             0.2,
             "#de77ae"
            ],
            [
             0.3,
             "#f1b6da"
            ],
            [
             0.4,
             "#fde0ef"
            ],
            [
             0.5,
             "#f7f7f7"
            ],
            [
             0.6,
             "#e6f5d0"
            ],
            [
             0.7,
             "#b8e186"
            ],
            [
             0.8,
             "#7fbc41"
            ],
            [
             0.9,
             "#4d9221"
            ],
            [
             1,
             "#276419"
            ]
           ],
           "sequential": [
            [
             0,
             "#0d0887"
            ],
            [
             0.1111111111111111,
             "#46039f"
            ],
            [
             0.2222222222222222,
             "#7201a8"
            ],
            [
             0.3333333333333333,
             "#9c179e"
            ],
            [
             0.4444444444444444,
             "#bd3786"
            ],
            [
             0.5555555555555556,
             "#d8576b"
            ],
            [
             0.6666666666666666,
             "#ed7953"
            ],
            [
             0.7777777777777778,
             "#fb9f3a"
            ],
            [
             0.8888888888888888,
             "#fdca26"
            ],
            [
             1,
             "#f0f921"
            ]
           ],
           "sequentialminus": [
            [
             0,
             "#0d0887"
            ],
            [
             0.1111111111111111,
             "#46039f"
            ],
            [
             0.2222222222222222,
             "#7201a8"
            ],
            [
             0.3333333333333333,
             "#9c179e"
            ],
            [
             0.4444444444444444,
             "#bd3786"
            ],
            [
             0.5555555555555556,
             "#d8576b"
            ],
            [
             0.6666666666666666,
             "#ed7953"
            ],
            [
             0.7777777777777778,
             "#fb9f3a"
            ],
            [
             0.8888888888888888,
             "#fdca26"
            ],
            [
             1,
             "#f0f921"
            ]
           ]
          },
          "colorway": [
           "#636efa",
           "#EF553B",
           "#00cc96",
           "#ab63fa",
           "#FFA15A",
           "#19d3f3",
           "#FF6692",
           "#B6E880",
           "#FF97FF",
           "#FECB52"
          ],
          "font": {
           "color": "#2a3f5f"
          },
          "geo": {
           "bgcolor": "white",
           "lakecolor": "white",
           "landcolor": "#E5ECF6",
           "showlakes": true,
           "showland": true,
           "subunitcolor": "white"
          },
          "hoverlabel": {
           "align": "left"
          },
          "hovermode": "closest",
          "mapbox": {
           "style": "light"
          },
          "paper_bgcolor": "white",
          "plot_bgcolor": "#E5ECF6",
          "polar": {
           "angularaxis": {
            "gridcolor": "white",
            "linecolor": "white",
            "ticks": ""
           },
           "bgcolor": "#E5ECF6",
           "radialaxis": {
            "gridcolor": "white",
            "linecolor": "white",
            "ticks": ""
           }
          },
          "scene": {
           "xaxis": {
            "backgroundcolor": "#E5ECF6",
            "gridcolor": "white",
            "gridwidth": 2,
            "linecolor": "white",
            "showbackground": true,
            "ticks": "",
            "zerolinecolor": "white"
           },
           "yaxis": {
            "backgroundcolor": "#E5ECF6",
            "gridcolor": "white",
            "gridwidth": 2,
            "linecolor": "white",
            "showbackground": true,
            "ticks": "",
            "zerolinecolor": "white"
           },
           "zaxis": {
            "backgroundcolor": "#E5ECF6",
            "gridcolor": "white",
            "gridwidth": 2,
            "linecolor": "white",
            "showbackground": true,
            "ticks": "",
            "zerolinecolor": "white"
           }
          },
          "shapedefaults": {
           "line": {
            "color": "#2a3f5f"
           }
          },
          "ternary": {
           "aaxis": {
            "gridcolor": "white",
            "linecolor": "white",
            "ticks": ""
           },
           "baxis": {
            "gridcolor": "white",
            "linecolor": "white",
            "ticks": ""
           },
           "bgcolor": "#E5ECF6",
           "caxis": {
            "gridcolor": "white",
            "linecolor": "white",
            "ticks": ""
           }
          },
          "title": {
           "x": 0.05
          },
          "xaxis": {
           "automargin": true,
           "gridcolor": "white",
           "linecolor": "white",
           "ticks": "",
           "title": {
            "standoff": 15
           },
           "zerolinecolor": "white",
           "zerolinewidth": 2
          },
          "yaxis": {
           "automargin": true,
           "gridcolor": "white",
           "linecolor": "white",
           "ticks": "",
           "title": {
            "standoff": 15
           },
           "zerolinecolor": "white",
           "zerolinewidth": 2
          }
         }
        },
        "title": {
         "text": "Air Quality Distribution"
        },
        "xaxis": {
         "anchor": "y",
         "domain": [
          0,
          1
         ],
         "title": {
          "text": "Air Quality"
         }
        },
        "yaxis": {
         "anchor": "x",
         "domain": [
          0,
          1
         ],
         "title": {
          "text": "count"
         }
        }
       }
      }
     },
     "metadata": {},
     "output_type": "display_data"
    },
    {
     "data": {
      "application/vnd.plotly.v1+json": {
       "config": {
        "plotlyServerURL": "https://plot.ly"
       },
       "data": [
        {
         "alignmentgroup": "True",
         "bingroup": "x",
         "hovertemplate": "Humidity=%{x}<br>count=%{y}<extra></extra>",
         "legendgroup": "",
         "marker": {
          "color": "#636efa",
          "pattern": {
           "shape": ""
          }
         },
         "name": "",
         "nbinsx": 20,
         "offsetgroup": "",
         "orientation": "v",
         "showlegend": false,
         "type": "histogram",
         "x": [
          "24",
          "26",
          "27",
          "28",
          "28",
          "26",
          "28",
          "28",
          "27",
          "28",
          "28",
          "29",
          "28",
          "29",
          "29",
          "28",
          "30",
          "29",
          "28",
          "28",
          "29",
          "28",
          "28",
          "28",
          "28",
          "28",
          "28",
          "44",
          "28",
          "28",
          "29",
          "28",
          "29",
          "28",
          "29",
          "28",
          "29",
          "30",
          "30",
          "44",
          "29",
          "29",
          "30",
          "30",
          "29",
          "30",
          "30",
          "31",
          "30",
          "29",
          "30",
          "30",
          "31",
          "30",
          "30",
          "30",
          "28",
          "29",
          "30",
          "30",
          "33",
          "31",
          "31",
          "31",
          "31",
          "31",
          "31",
          "31",
          "31",
          "36",
          "32",
          "31",
          "31",
          "31",
          "31",
          "31",
          "31",
          "28",
          "30",
          "32",
          "30",
          "33",
          "31",
          "33",
          "34",
          "35",
          "36",
          "37",
          "37",
          "38",
          "38",
          "38",
          "38",
          "38",
          "38",
          "39",
          "38",
          "38",
          "38",
          "38",
          "38",
          "38",
          "38",
          "38",
          "39",
          "38",
          "36",
          "38",
          "38",
          "37",
          "38",
          "38",
          "38",
          "37",
          "38",
          "38",
          "39",
          "38",
          "38",
          "37",
          "38",
          "38",
          "38",
          "38",
          "38",
          "38",
          "38",
          "38",
          "38",
          "38",
          "39",
          "40",
          "39",
          "38",
          "38",
          "38",
          "38",
          "39",
          "37",
          "39",
          "38",
          "38",
          "37",
          "37",
          "37",
          "37",
          "37",
          "37",
          "37",
          "38",
          "38",
          "37",
          "38",
          "37",
          "39",
          "38",
          "38",
          "38",
          "37",
          "36",
          "35",
          "34",
          "35",
          "34",
          "33",
          "43",
          "47",
          "45",
          "45",
          "44",
          "44",
          "44",
          "44",
          "44",
          "44",
          "44",
          "43",
          "44",
          "44",
          "43",
          "44",
          "44",
          "44",
          "42",
          "43",
          "41",
          "40",
          "40",
          "39",
          "40",
          "39",
          "39",
          "39",
          "39",
          "40",
          "39",
          "39",
          "36",
          "40",
          "39",
          "39",
          "39",
          "40",
          "39",
          "39",
          "38",
          "39",
          "39",
          "39",
          "39",
          "38",
          "40",
          "40",
          "39",
          "39",
          "40",
          "41",
          "40",
          "40",
          "40",
          "39",
          "39",
          "39",
          "39",
          "39",
          "39",
          "39",
          "43",
          "39",
          "40",
          "34",
          "40",
          "40",
          "40",
          "39",
          "40",
          "40",
          "40",
          "40",
          "40",
          "37",
          "39",
          "39",
          "40",
          "39",
          "39",
          "39",
          "39",
          "39",
          "38",
          "39",
          "38",
          "39",
          "43",
          "45",
          "45",
          "46",
          "47",
          "48",
          "47",
          "47",
          "47",
          "48",
          "47",
          "47",
          "47",
          "46",
          "48",
          "46",
          "47",
          "48",
          "46",
          "46",
          "46",
          "46",
          "46",
          "48",
          "46",
          "45",
          "45",
          "45",
          "45",
          "45",
          "46",
          "46",
          "45",
          "47",
          "47",
          "48",
          "46",
          "47",
          "46",
          "47",
          "45",
          "46",
          "46",
          "45",
          "47",
          "46",
          "45",
          "45",
          "45",
          "45",
          "45",
          "45",
          "45",
          "45",
          "45",
          "45",
          "45",
          "45",
          "45",
          "48",
          "45",
          "46",
          "46",
          "46",
          "46",
          "45",
          "46",
          "46",
          "46",
          "46",
          "46",
          "45",
          "45",
          "45",
          "44",
          "43",
          "43",
          "41",
          "41",
          "41",
          "40",
          "39",
          "39",
          "39",
          "38",
          "38",
          "38",
          "37",
          "34",
          "38",
          "37",
          "37",
          "37",
          "37",
          "37",
          "37",
          "37",
          "37",
          "37",
          "37",
          "37",
          "37",
          "37",
          "38",
          "37",
          "38",
          "38",
          "37",
          "38",
          "38",
          "39",
          "38",
          "37",
          "37",
          "37",
          "36",
          "38",
          "38",
          "42",
          "39",
          "39",
          "38",
          "38",
          "38",
          "36",
          "41",
          "38",
          "40",
          "38",
          "37",
          "39",
          "39",
          "38",
          "38",
          "38",
          "37",
          "38",
          "38",
          "38",
          "37",
          "38",
          "38",
          "38",
          "39",
          "42",
          "45",
          "45",
          "46",
          "47",
          "47",
          "47",
          "46",
          "47",
          "47",
          "47",
          "48",
          "47",
          "46",
          "46",
          "46",
          "45",
          "46",
          "46",
          "46",
          "46",
          "45",
          "45",
          "45",
          "45",
          "45",
          "45",
          "45",
          "45",
          "45",
          "45",
          "46",
          "45",
          "45",
          "46",
          "45",
          "45",
          "44",
          "44",
          "44",
          "44",
          "44",
          "43",
          "44",
          "43",
          "44",
          "43",
          "42",
          "44",
          "44",
          "43",
          "44",
          "43",
          "44",
          "43",
          "43",
          "43",
          "43",
          "44",
          "42",
          "43",
          "42",
          "41",
          "40",
          "43",
          "42",
          "42",
          "43",
          "43",
          "44",
          "43",
          "43",
          "44",
          "43",
          "43",
          "42",
          "43",
          "41",
          "41",
          "40",
          "40",
          "39",
          "39",
          "38",
          "39",
          "38",
          "39",
          "39",
          "39",
          "38",
          "38",
          "39",
          "37",
          "38",
          "41",
          "38",
          "39",
          "36",
          "39",
          "39",
          "40",
          "40",
          "40",
          "40",
          "41",
          "41",
          "43",
          "42",
          "43",
          "43",
          "43",
          "43",
          "43",
          "42",
          "42",
          "42",
          "42",
          "41",
          "41",
          "42",
          "41",
          "41",
          "41",
          "41",
          "41",
          "41",
          "40",
          "41",
          "42",
          "41",
          "42",
          "42",
          "42",
          "41",
          "42",
          "41",
          "40",
          "41",
          "40",
          "40",
          "40",
          "40",
          "40",
          "41",
          "43",
          "45",
          "45",
          "45",
          "46",
          "46",
          "46",
          "46",
          "46",
          "46",
          "45",
          "46",
          "45",
          "45",
          "46",
          "45",
          "44",
          "45",
          "44",
          "45",
          "44",
          "43",
          "44",
          "44",
          "43",
          "45",
          "43",
          "43",
          "43",
          "43",
          "44",
          "43",
          "39",
          "42",
          "43",
          "42",
          "42",
          "41",
          "42",
          "42",
          "42",
          "42",
          "41",
          "41",
          "41",
          "42",
          "42",
          "42",
          "42",
          "42",
          "42",
          "42",
          "44",
          "43",
          "42",
          "42",
          "42",
          "43",
          "42",
          "42",
          "42",
          "43",
          "43",
          "43",
          "41",
          "43",
          "42",
          "42",
          "42",
          "42",
          "42",
          "43",
          "43",
          "43",
          "42",
          "41",
          "41",
          "40",
          "40",
          "39",
          "41",
          "40",
          "39",
          "40",
          "40",
          "38",
          "40",
          "33",
          "39",
          "40",
          "40",
          "42",
          "41",
          "41",
          "40",
          "42",
          "41",
          "42",
          "43",
          "41",
          "42",
          "34",
          "42",
          "42",
          "42",
          "42",
          "43",
          "42",
          "43",
          "42",
          "43",
          "42",
          "41",
          "41",
          "43",
          "43",
          "41",
          "43",
          "40",
          "51",
          "42",
          "43",
          "45",
          "42",
          "43",
          "43",
          "42",
          "41",
          "46",
          "42",
          "42",
          "41",
          "41",
          "41",
          "40",
          "41",
          "40",
          "40",
          "40",
          "39",
          "40",
          "40",
          "40",
          "49",
          "45",
          "45",
          "46",
          "46",
          "47",
          "46",
          "48",
          "47",
          "43",
          "46",
          "46",
          "47",
          "45",
          "46",
          "46",
          "45",
          "46",
          "46",
          "47",
          "48",
          "48",
          "50",
          "58",
          "57",
          "72",
          "67",
          "63",
          "59",
          "57",
          "54",
          "52",
          "49",
          "55",
          "47",
          "46",
          "46",
          "46",
          "45",
          "43",
          "47",
          "43",
          "43",
          "43",
          "47",
          "43",
          "46",
          "52",
          "43",
          "45",
          "44",
          "43",
          "42",
          "42",
          "43",
          "44",
          "44",
          "43",
          "43",
          "42",
          "41",
          "42",
          "42",
          "41",
          "40",
          "41",
          "41",
          "41",
          "41",
          "40",
          "40",
          "41",
          "41",
          "40",
          "41",
          "37",
          "39",
          "37",
          "39",
          "38",
          "37",
          "37",
          "37",
          "38",
          "38",
          "38",
          "38",
          "38",
          "38",
          "38",
          "40",
          "38",
          "38",
          "36",
          "37",
          "38",
          "38",
          "37",
          "41",
          "39",
          "39",
          "38",
          "38",
          "37",
          "42",
          "38",
          "38",
          "38",
          "38",
          "37",
          "38",
          "38",
          "38",
          "38",
          "38",
          "36",
          "38",
          "37",
          "37",
          "38",
          "38",
          "37",
          "38",
          "39",
          "37",
          "38",
          "39",
          "37",
          "38",
          "36",
          "39",
          "39",
          "37",
          "37",
          "37",
          "37",
          "38",
          "37",
          "37",
          "38",
          "38",
          "39",
          "38",
          "37",
          "37",
          "37",
          "37",
          "39",
          "37",
          "39",
          "38",
          "37",
          "37",
          "37",
          "36",
          "36",
          "42",
          "36",
          "36",
          "36",
          "36",
          "37",
          "36",
          "35",
          "36",
          "37",
          "36",
          "36",
          "36",
          "37",
          "36",
          "36",
          "35",
          "36",
          "35",
          "34",
          "36",
          "35",
          "39",
          "35",
          "35",
          "35",
          "35",
          "38",
          "37",
          "37",
          "36",
          "37",
          "64",
          "39",
          "36",
          "37",
          "36",
          "35",
          "36",
          "36",
          "36",
          "37",
          "37",
          "37",
          "37",
          "37",
          "37",
          "38",
          "38",
          "38",
          "38",
          "36",
          "39",
          "38",
          "39",
          "39",
          "38",
          "38",
          "42",
          "37",
          "39",
          "41",
          "39",
          "39",
          "37",
          "38",
          "39",
          "40",
          "36",
          "59",
          "40",
          "23",
          "40",
          "41",
          "40",
          "42",
          "44",
          "41",
          "41",
          "40",
          "41",
          "41",
          "41",
          "40",
          "41",
          "41",
          "41",
          "41",
          "41",
          "39",
          "41",
          "40",
          "46",
          "40",
          "41",
          "41",
          "43",
          "41",
          "41",
          "40",
          "41",
          "40",
          "41",
          "40",
          "41",
          "40",
          "41",
          "42",
          "37",
          "41",
          "38",
          "40",
          "41",
          "42",
          "42",
          "43",
          "43",
          "43",
          "42",
          "43",
          "43",
          "42",
          "41",
          "41",
          "41",
          "42",
          "41",
          "40",
          "40",
          "40",
          "40",
          "40",
          "40",
          "39",
          "38",
          "40",
          "41",
          "40",
          "40",
          "41",
          "40",
          "41",
          "39",
          "39",
          "39",
          "39",
          "46",
          "45",
          "42",
          "42",
          "41",
          "40",
          "41",
          "41",
          "39",
          "37",
          "40",
          "39",
          "39",
          "40",
          "44",
          "39",
          "39",
          "38",
          "38",
          "38",
          "38",
          "44",
          "38",
          "39",
          "39",
          "39",
          "39",
          "38",
          "39",
          "39",
          "38",
          "38",
          "41",
          "39",
          "39",
          "38",
          "37",
          "38",
          "39",
          "39",
          "39",
          "39",
          "39",
          "41",
          "43",
          "40",
          "40",
          "42",
          "41",
          "40",
          "41",
          "41",
          "40",
          "40",
          "39",
          "41",
          "42",
          "41",
          "40",
          "40",
          "39",
          "40",
          "41",
          "40",
          "42",
          "42",
          "38",
          "42",
          "39",
          "42",
          "42",
          "41",
          "43",
          "40",
          "43",
          "42",
          "42",
          "42",
          "43",
          "44",
          "42",
          "44",
          "43",
          "43",
          "43",
          "42",
          "42",
          "42",
          "42",
          "43",
          "42",
          "43",
          "42",
          "44",
          "43",
          "42",
          "42",
          "42",
          "42",
          "42",
          "41",
          "41",
          "41",
          "38",
          "38",
          "40",
          "40",
          "42",
          "39",
          "41",
          "41",
          "42",
          "40",
          "40",
          "40",
          "40",
          "41",
          "41",
          "41",
          "38",
          "44",
          "40",
          "41",
          "40",
          "42",
          "40",
          "40",
          "41",
          "40",
          "41",
          "41",
          "45",
          "47",
          "48",
          "48",
          "48",
          "49",
          "49",
          "49",
          "49",
          "49",
          "48",
          "47",
          "48",
          "47",
          "47",
          "46",
          "48",
          "47",
          "46",
          "46",
          "46",
          "45",
          "45",
          "47",
          "45",
          "45",
          "46",
          "44",
          "45",
          "46",
          "45",
          "46",
          "45",
          "46",
          "45",
          "46",
          "45",
          "45",
          "45",
          "43",
          "44",
          "43",
          "44",
          "46",
          "46",
          "46",
          "46",
          "45",
          "44",
          "47",
          "40",
          "44",
          "44",
          "44",
          "44",
          "43",
          "44",
          "44",
          "44",
          "44",
          "43",
          "44",
          "43",
          "43",
          "43",
          "43",
          "45",
          "42",
          "43",
          "44",
          "42",
          "44",
          "51",
          "42",
          "40",
          "40",
          "39",
          "40"
         ],
         "xaxis": "x",
         "yaxis": "y"
        }
       ],
       "layout": {
        "barmode": "relative",
        "legend": {
         "tracegroupgap": 0
        },
        "template": {
         "data": {
          "bar": [
           {
            "error_x": {
             "color": "#2a3f5f"
            },
            "error_y": {
             "color": "#2a3f5f"
            },
            "marker": {
             "line": {
              "color": "#E5ECF6",
              "width": 0.5
             },
             "pattern": {
              "fillmode": "overlay",
              "size": 10,
              "solidity": 0.2
             }
            },
            "type": "bar"
           }
          ],
          "barpolar": [
           {
            "marker": {
             "line": {
              "color": "#E5ECF6",
              "width": 0.5
             },
             "pattern": {
              "fillmode": "overlay",
              "size": 10,
              "solidity": 0.2
             }
            },
            "type": "barpolar"
           }
          ],
          "carpet": [
           {
            "aaxis": {
             "endlinecolor": "#2a3f5f",
             "gridcolor": "white",
             "linecolor": "white",
             "minorgridcolor": "white",
             "startlinecolor": "#2a3f5f"
            },
            "baxis": {
             "endlinecolor": "#2a3f5f",
             "gridcolor": "white",
             "linecolor": "white",
             "minorgridcolor": "white",
             "startlinecolor": "#2a3f5f"
            },
            "type": "carpet"
           }
          ],
          "choropleth": [
           {
            "colorbar": {
             "outlinewidth": 0,
             "ticks": ""
            },
            "type": "choropleth"
           }
          ],
          "contour": [
           {
            "colorbar": {
             "outlinewidth": 0,
             "ticks": ""
            },
            "colorscale": [
             [
              0,
              "#0d0887"
             ],
             [
              0.1111111111111111,
              "#46039f"
             ],
             [
              0.2222222222222222,
              "#7201a8"
             ],
             [
              0.3333333333333333,
              "#9c179e"
             ],
             [
              0.4444444444444444,
              "#bd3786"
             ],
             [
              0.5555555555555556,
              "#d8576b"
             ],
             [
              0.6666666666666666,
              "#ed7953"
             ],
             [
              0.7777777777777778,
              "#fb9f3a"
             ],
             [
              0.8888888888888888,
              "#fdca26"
             ],
             [
              1,
              "#f0f921"
             ]
            ],
            "type": "contour"
           }
          ],
          "contourcarpet": [
           {
            "colorbar": {
             "outlinewidth": 0,
             "ticks": ""
            },
            "type": "contourcarpet"
           }
          ],
          "heatmap": [
           {
            "colorbar": {
             "outlinewidth": 0,
             "ticks": ""
            },
            "colorscale": [
             [
              0,
              "#0d0887"
             ],
             [
              0.1111111111111111,
              "#46039f"
             ],
             [
              0.2222222222222222,
              "#7201a8"
             ],
             [
              0.3333333333333333,
              "#9c179e"
             ],
             [
              0.4444444444444444,
              "#bd3786"
             ],
             [
              0.5555555555555556,
              "#d8576b"
             ],
             [
              0.6666666666666666,
              "#ed7953"
             ],
             [
              0.7777777777777778,
              "#fb9f3a"
             ],
             [
              0.8888888888888888,
              "#fdca26"
             ],
             [
              1,
              "#f0f921"
             ]
            ],
            "type": "heatmap"
           }
          ],
          "heatmapgl": [
           {
            "colorbar": {
             "outlinewidth": 0,
             "ticks": ""
            },
            "colorscale": [
             [
              0,
              "#0d0887"
             ],
             [
              0.1111111111111111,
              "#46039f"
             ],
             [
              0.2222222222222222,
              "#7201a8"
             ],
             [
              0.3333333333333333,
              "#9c179e"
             ],
             [
              0.4444444444444444,
              "#bd3786"
             ],
             [
              0.5555555555555556,
              "#d8576b"
             ],
             [
              0.6666666666666666,
              "#ed7953"
             ],
             [
              0.7777777777777778,
              "#fb9f3a"
             ],
             [
              0.8888888888888888,
              "#fdca26"
             ],
             [
              1,
              "#f0f921"
             ]
            ],
            "type": "heatmapgl"
           }
          ],
          "histogram": [
           {
            "marker": {
             "pattern": {
              "fillmode": "overlay",
              "size": 10,
              "solidity": 0.2
             }
            },
            "type": "histogram"
           }
          ],
          "histogram2d": [
           {
            "colorbar": {
             "outlinewidth": 0,
             "ticks": ""
            },
            "colorscale": [
             [
              0,
              "#0d0887"
             ],
             [
              0.1111111111111111,
              "#46039f"
             ],
             [
              0.2222222222222222,
              "#7201a8"
             ],
             [
              0.3333333333333333,
              "#9c179e"
             ],
             [
              0.4444444444444444,
              "#bd3786"
             ],
             [
              0.5555555555555556,
              "#d8576b"
             ],
             [
              0.6666666666666666,
              "#ed7953"
             ],
             [
              0.7777777777777778,
              "#fb9f3a"
             ],
             [
              0.8888888888888888,
              "#fdca26"
             ],
             [
              1,
              "#f0f921"
             ]
            ],
            "type": "histogram2d"
           }
          ],
          "histogram2dcontour": [
           {
            "colorbar": {
             "outlinewidth": 0,
             "ticks": ""
            },
            "colorscale": [
             [
              0,
              "#0d0887"
             ],
             [
              0.1111111111111111,
              "#46039f"
             ],
             [
              0.2222222222222222,
              "#7201a8"
             ],
             [
              0.3333333333333333,
              "#9c179e"
             ],
             [
              0.4444444444444444,
              "#bd3786"
             ],
             [
              0.5555555555555556,
              "#d8576b"
             ],
             [
              0.6666666666666666,
              "#ed7953"
             ],
             [
              0.7777777777777778,
              "#fb9f3a"
             ],
             [
              0.8888888888888888,
              "#fdca26"
             ],
             [
              1,
              "#f0f921"
             ]
            ],
            "type": "histogram2dcontour"
           }
          ],
          "mesh3d": [
           {
            "colorbar": {
             "outlinewidth": 0,
             "ticks": ""
            },
            "type": "mesh3d"
           }
          ],
          "parcoords": [
           {
            "line": {
             "colorbar": {
              "outlinewidth": 0,
              "ticks": ""
             }
            },
            "type": "parcoords"
           }
          ],
          "pie": [
           {
            "automargin": true,
            "type": "pie"
           }
          ],
          "scatter": [
           {
            "fillpattern": {
             "fillmode": "overlay",
             "size": 10,
             "solidity": 0.2
            },
            "type": "scatter"
           }
          ],
          "scatter3d": [
           {
            "line": {
             "colorbar": {
              "outlinewidth": 0,
              "ticks": ""
             }
            },
            "marker": {
             "colorbar": {
              "outlinewidth": 0,
              "ticks": ""
             }
            },
            "type": "scatter3d"
           }
          ],
          "scattercarpet": [
           {
            "marker": {
             "colorbar": {
              "outlinewidth": 0,
              "ticks": ""
             }
            },
            "type": "scattercarpet"
           }
          ],
          "scattergeo": [
           {
            "marker": {
             "colorbar": {
              "outlinewidth": 0,
              "ticks": ""
             }
            },
            "type": "scattergeo"
           }
          ],
          "scattergl": [
           {
            "marker": {
             "colorbar": {
              "outlinewidth": 0,
              "ticks": ""
             }
            },
            "type": "scattergl"
           }
          ],
          "scattermapbox": [
           {
            "marker": {
             "colorbar": {
              "outlinewidth": 0,
              "ticks": ""
             }
            },
            "type": "scattermapbox"
           }
          ],
          "scatterpolar": [
           {
            "marker": {
             "colorbar": {
              "outlinewidth": 0,
              "ticks": ""
             }
            },
            "type": "scatterpolar"
           }
          ],
          "scatterpolargl": [
           {
            "marker": {
             "colorbar": {
              "outlinewidth": 0,
              "ticks": ""
             }
            },
            "type": "scatterpolargl"
           }
          ],
          "scatterternary": [
           {
            "marker": {
             "colorbar": {
              "outlinewidth": 0,
              "ticks": ""
             }
            },
            "type": "scatterternary"
           }
          ],
          "surface": [
           {
            "colorbar": {
             "outlinewidth": 0,
             "ticks": ""
            },
            "colorscale": [
             [
              0,
              "#0d0887"
             ],
             [
              0.1111111111111111,
              "#46039f"
             ],
             [
              0.2222222222222222,
              "#7201a8"
             ],
             [
              0.3333333333333333,
              "#9c179e"
             ],
             [
              0.4444444444444444,
              "#bd3786"
             ],
             [
              0.5555555555555556,
              "#d8576b"
             ],
             [
              0.6666666666666666,
              "#ed7953"
             ],
             [
              0.7777777777777778,
              "#fb9f3a"
             ],
             [
              0.8888888888888888,
              "#fdca26"
             ],
             [
              1,
              "#f0f921"
             ]
            ],
            "type": "surface"
           }
          ],
          "table": [
           {
            "cells": {
             "fill": {
              "color": "#EBF0F8"
             },
             "line": {
              "color": "white"
             }
            },
            "header": {
             "fill": {
              "color": "#C8D4E3"
             },
             "line": {
              "color": "white"
             }
            },
            "type": "table"
           }
          ]
         },
         "layout": {
          "annotationdefaults": {
           "arrowcolor": "#2a3f5f",
           "arrowhead": 0,
           "arrowwidth": 1
          },
          "autotypenumbers": "strict",
          "coloraxis": {
           "colorbar": {
            "outlinewidth": 0,
            "ticks": ""
           }
          },
          "colorscale": {
           "diverging": [
            [
             0,
             "#8e0152"
            ],
            [
             0.1,
             "#c51b7d"
            ],
            [
             0.2,
             "#de77ae"
            ],
            [
             0.3,
             "#f1b6da"
            ],
            [
             0.4,
             "#fde0ef"
            ],
            [
             0.5,
             "#f7f7f7"
            ],
            [
             0.6,
             "#e6f5d0"
            ],
            [
             0.7,
             "#b8e186"
            ],
            [
             0.8,
             "#7fbc41"
            ],
            [
             0.9,
             "#4d9221"
            ],
            [
             1,
             "#276419"
            ]
           ],
           "sequential": [
            [
             0,
             "#0d0887"
            ],
            [
             0.1111111111111111,
             "#46039f"
            ],
            [
             0.2222222222222222,
             "#7201a8"
            ],
            [
             0.3333333333333333,
             "#9c179e"
            ],
            [
             0.4444444444444444,
             "#bd3786"
            ],
            [
             0.5555555555555556,
             "#d8576b"
            ],
            [
             0.6666666666666666,
             "#ed7953"
            ],
            [
             0.7777777777777778,
             "#fb9f3a"
            ],
            [
             0.8888888888888888,
             "#fdca26"
            ],
            [
             1,
             "#f0f921"
            ]
           ],
           "sequentialminus": [
            [
             0,
             "#0d0887"
            ],
            [
             0.1111111111111111,
             "#46039f"
            ],
            [
             0.2222222222222222,
             "#7201a8"
            ],
            [
             0.3333333333333333,
             "#9c179e"
            ],
            [
             0.4444444444444444,
             "#bd3786"
            ],
            [
             0.5555555555555556,
             "#d8576b"
            ],
            [
             0.6666666666666666,
             "#ed7953"
            ],
            [
             0.7777777777777778,
             "#fb9f3a"
            ],
            [
             0.8888888888888888,
             "#fdca26"
            ],
            [
             1,
             "#f0f921"
            ]
           ]
          },
          "colorway": [
           "#636efa",
           "#EF553B",
           "#00cc96",
           "#ab63fa",
           "#FFA15A",
           "#19d3f3",
           "#FF6692",
           "#B6E880",
           "#FF97FF",
           "#FECB52"
          ],
          "font": {
           "color": "#2a3f5f"
          },
          "geo": {
           "bgcolor": "white",
           "lakecolor": "white",
           "landcolor": "#E5ECF6",
           "showlakes": true,
           "showland": true,
           "subunitcolor": "white"
          },
          "hoverlabel": {
           "align": "left"
          },
          "hovermode": "closest",
          "mapbox": {
           "style": "light"
          },
          "paper_bgcolor": "white",
          "plot_bgcolor": "#E5ECF6",
          "polar": {
           "angularaxis": {
            "gridcolor": "white",
            "linecolor": "white",
            "ticks": ""
           },
           "bgcolor": "#E5ECF6",
           "radialaxis": {
            "gridcolor": "white",
            "linecolor": "white",
            "ticks": ""
           }
          },
          "scene": {
           "xaxis": {
            "backgroundcolor": "#E5ECF6",
            "gridcolor": "white",
            "gridwidth": 2,
            "linecolor": "white",
            "showbackground": true,
            "ticks": "",
            "zerolinecolor": "white"
           },
           "yaxis": {
            "backgroundcolor": "#E5ECF6",
            "gridcolor": "white",
            "gridwidth": 2,
            "linecolor": "white",
            "showbackground": true,
            "ticks": "",
            "zerolinecolor": "white"
           },
           "zaxis": {
            "backgroundcolor": "#E5ECF6",
            "gridcolor": "white",
            "gridwidth": 2,
            "linecolor": "white",
            "showbackground": true,
            "ticks": "",
            "zerolinecolor": "white"
           }
          },
          "shapedefaults": {
           "line": {
            "color": "#2a3f5f"
           }
          },
          "ternary": {
           "aaxis": {
            "gridcolor": "white",
            "linecolor": "white",
            "ticks": ""
           },
           "baxis": {
            "gridcolor": "white",
            "linecolor": "white",
            "ticks": ""
           },
           "bgcolor": "#E5ECF6",
           "caxis": {
            "gridcolor": "white",
            "linecolor": "white",
            "ticks": ""
           }
          },
          "title": {
           "x": 0.05
          },
          "xaxis": {
           "automargin": true,
           "gridcolor": "white",
           "linecolor": "white",
           "ticks": "",
           "title": {
            "standoff": 15
           },
           "zerolinecolor": "white",
           "zerolinewidth": 2
          },
          "yaxis": {
           "automargin": true,
           "gridcolor": "white",
           "linecolor": "white",
           "ticks": "",
           "title": {
            "standoff": 15
           },
           "zerolinecolor": "white",
           "zerolinewidth": 2
          }
         }
        },
        "title": {
         "text": "Humidity Distribution"
        },
        "xaxis": {
         "anchor": "y",
         "domain": [
          0,
          1
         ],
         "title": {
          "text": "Humidity"
         }
        },
        "yaxis": {
         "anchor": "x",
         "domain": [
          0,
          1
         ],
         "title": {
          "text": "count"
         }
        }
       }
      }
     },
     "metadata": {},
     "output_type": "display_data"
    }
   ],
   "source": [
    "import plotly.express as px\n",
    "\n",
    "# Temperature Distribution\n",
    "fig_temp = px.histogram(df, x='Temperature (°C)', nbins=20, title='Temperature Distribution')\n",
    "fig_temp.show()\n",
    "\n",
    "# Air Quality Distribution\n",
    "fig_air_quality = px.histogram(df, x='Air Quality', nbins=20, title='Air Quality Distribution')\n",
    "fig_air_quality.show()\n",
    "\n",
    "# Humidity Distribution\n",
    "fig_humidity = px.histogram(df, x='Humidity', nbins=20, title='Humidity Distribution')\n",
    "fig_humidity.show()\n"
   ]
  },
  {
   "cell_type": "code",
   "execution_count": null,
   "metadata": {},
   "outputs": [],
   "source": []
  },
  {
   "cell_type": "code",
   "execution_count": null,
   "metadata": {},
   "outputs": [],
   "source": []
  }
 ],
 "metadata": {
  "kernelspec": {
   "display_name": "Python 3",
   "language": "python",
   "name": "python3"
  },
  "language_info": {
   "codemirror_mode": {
    "name": "ipython",
    "version": 3
   },
   "file_extension": ".py",
   "mimetype": "text/x-python",
   "name": "python",
   "nbconvert_exporter": "python",
   "pygments_lexer": "ipython3",
   "version": "3.12.4"
  },
  "orig_nbformat": 4
 },
 "nbformat": 4,
 "nbformat_minor": 2
}
